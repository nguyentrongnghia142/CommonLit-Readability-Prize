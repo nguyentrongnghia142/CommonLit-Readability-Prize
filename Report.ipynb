{
  "nbformat": 4,
  "nbformat_minor": 5,
  "metadata": {
    "kernelspec": {
      "display_name": "Python 3 (ipykernel)",
      "language": "python",
      "name": "python3"
    },
    "language_info": {
      "codemirror_mode": {
        "name": "ipython",
        "version": 3
      },
      "file_extension": ".py",
      "mimetype": "text/x-python",
      "name": "python",
      "nbconvert_exporter": "python",
      "pygments_lexer": "ipython3",
      "version": "3.8.8"
    },
    "toc": {
      "base_numbering": 1,
      "nav_menu": {},
      "number_sections": true,
      "sideBar": true,
      "skip_h1_title": false,
      "title_cell": "Table of Contents",
      "title_sidebar": "Contents",
      "toc_cell": false,
      "toc_position": {},
      "toc_section_display": true,
      "toc_window_display": false
    },
    "colab": {
      "name": "Report.ipynb",
      "provenance": [],
      "collapsed_sections": [
        "483e6c5d",
        "hXPOK1RUX9le",
        "YZRCzUMeWKdK",
        "bZ36yrMAvLjL",
        "ZD9PyELAAVBL",
        "cQlF4Y-G-1eT",
        "lx77E83MBvzn",
        "98GQ3mdcY7ii",
        "bj6vm-xJEEpj"
      ]
    },
    "accelerator": "GPU"
  },
  "cells": [
    {
      "cell_type": "markdown",
      "metadata": {
        "id": "5b2dcf7c"
      },
      "source": [
        "# Báo cáo đồ án môn \"Khoa học dữ liệu ứng dụng\"\n",
        "\n",
        "Nhóm 4:\n",
        "1. 1712615 - Nguyễn Trọng Nghĩa - [GitHub](https://github.com/nguyentrongnghia142)\n",
        "2. 1712683 - Phạm Hoàng Phương - [Github](https://github.com/superman19993)\n",
        "3. 1712718 - Huỳnh Thanh Sang - [GitHub](https://github.com/hts7117)\n",
        "4. 1712584 - Nguyễn Công Lý - [GitHub](https://github.com/conglyne222)\n",
        "\n",
        "Link thùng chứa Github của nhóm: [Repo](https://github.com/nguyentrongnghia142/CommonLit-Readability-Prize)"
      ],
      "id": "5b2dcf7c"
    },
    {
      "cell_type": "markdown",
      "metadata": {
        "id": "2f93d974"
      },
      "source": [
        "## Mô tả bài toán\n",
        "[Bài toán](https://www.kaggle.com/c/commonlitreadabilityprize/overview)"
      ],
      "id": "2f93d974"
    },
    {
      "cell_type": "markdown",
      "metadata": {
        "id": "TTgFA0XYrcWo"
      },
      "source": [
        "### Bối cảnh\n",
        "\n",
        "\n",
        "* Đọc là một kỹ năng cần thiết để thành công trong học tập, Khi học sinh tiếp cận được những đoạn văn với mức độ thách thức phù hợp, chúng sẽ phát triển kỹ năng đọc một cách tự nhiên.\n",
        "\n",
        "* CommonLit là một tổ chức phi lợi nhuận phục vụ hơn 20 tr giáo viên và học sinh với các bài học đọc và viết kĩ thuật số miễn phí cho các lớp 3-12, cùng với đại học bang Georgia, một trường đại học nghiên cứu ở Atlanta, đã tổ chức 1 cuộc thi nhằm cải thiện phương pháp đánh giá khả năng đọc."
      ],
      "id": "TTgFA0XYrcWo"
    },
    {
      "cell_type": "markdown",
      "metadata": {
        "id": "cAZscSiIrgE6"
      },
      "source": [
        "\n",
        "\n",
        "### Nội dung\n",
        "\n",
        "\n",
        "*   Trong cuộc thị này, người tham gia sẽ xây dựng các thuật toán để đánh giá mức độ phức tạp của việc đọc các đoạn văn để sử dụng trong lớp học từ lớp 3-12. Để đạt được điều này, phải kết hợp kĩ năng học máy của họ để làm việc với 1 tập dữ liệu bao gồm người đọc từ nhiều nhóm tuổi khác nhau với một số lượng lớn các văn bản thuộc nhiều lĩnh vực khác nhau.\n",
        "\n",
        "\n",
        "*   Nếu thành công, bạn đã hỗ trợ các giáo viên và sinh viên, các nhà phát triền chương trình giảng dạy đọc viết có thể đánh giá nhanh chóng và chính xác các tài liệu trong lớp học của họ. Quan trọng nhất, học sinh sẽ được hưởng lợi từ việc đánh giá độ phức tạp và khả năng đọc của họ, giúp họ cải thiện các kỹ năng đọc thiết yếu dễ dàng hơn nhiều."
      ],
      "id": "cAZscSiIrgE6"
    },
    {
      "cell_type": "markdown",
      "metadata": {
        "id": "BBWhI03-Upio"
      },
      "source": [
        "\n",
        "\n",
        "### Đánh giá\n",
        "\n",
        "-\tCác bài dự thi sẽ được đánh giá dựa trên độ lỗi RMSE: \n",
        "\n",
        "    ![image.png](https://scontent.fdad1-1.fna.fbcdn.net/v/t1.15752-9/258845405_591261328774655_4260656527898854926_n.png?_nc_cat=109&ccb=1-5&_nc_sid=ae9488&_nc_ohc=JcFQuPsmYnYAX-OYyFs&_nc_ht=scontent.fdad1-1.fna&oh=491e243d6da6d57179a18d30529a8466&oe=61BF2150)\n",
        "\n",
        "\n",
        "### Submission file:\n",
        "-\tBao gồm ID và độ dễ đọc của đoạn trích:\n",
        "\n",
        "    ![image.png](https://scontent.fdad1-2.fna.fbcdn.net/v/t1.15752-9/254632714_433915911583493_5614680366254606947_n.png?_nc_cat=102&ccb=1-5&_nc_sid=ae9488&_nc_ohc=omTcknGdud8AX8hu4Fv&_nc_ht=scontent.fdad1-2.fna&oh=9ad8860d2bb51f4ab489fecd599a056d&oe=61BECC2F)\n"
      ],
      "id": "BBWhI03-Upio"
    },
    {
      "cell_type": "markdown",
      "metadata": {
        "id": "fOmdwmnwr_JQ"
      },
      "source": [
        "### Chi tiết dữ liệu\n",
        "  1. \tId:  mã id của đoạn trích (unique)\n",
        "  2.   url_legal: đường dẫn của đoạn trích- trường này có thể trống trong tập test\n",
        "  3.   license: bản quyền của đoạn trích- trường này có thể trống trong tập test\n",
        "  4.   excerpt: nội dung đoạn trích cần dự đoán độ dễ đọc\n",
        "  5.   target: độ dễ của đoạn trích (được lấy từ nhiều lĩnh vực và được nhiều người ở các độ tuổi khác nhạu đánh giá)\n",
        "  6.   standard_error: thước đo chênh lệch điểm số giữa nhiều người đánh giá cho mỗi đoạn trích. Không được bao gồm trong tập test."
      ],
      "id": "fOmdwmnwr_JQ"
    },
    {
      "cell_type": "markdown",
      "metadata": {
        "id": "d48122eb"
      },
      "source": [
        "## Giải quyết bài toán\n",
        "[Giải pháp](https://www.kaggle.com/c/commonlitreadabilityprize/discussion/258148) - Đứng thứ 4 trong private leaderboard (🏅️ 4th Place Solution (0.447) 🏅️)"
      ],
      "id": "d48122eb"
    },
    {
      "cell_type": "markdown",
      "metadata": {
        "id": "483e6c5d"
      },
      "source": [
        "#### Lấy dữ liệu\n"
      ],
      "id": "483e6c5d"
    },
    {
      "cell_type": "code",
      "metadata": {
        "id": "zWHdWNQGsomY",
        "colab": {
          "base_uri": "https://localhost:8080/"
        },
        "outputId": "61102403-1341-4ad3-8dac-2083e6c00536"
      },
      "source": [
        "!wget --no-check-certificate \"https://drive.google.com/uc?export=download&id=1_A5Y2u2XjFVfxVBr6flozZ-Gr0gKRaGm\" -O commonlitreadabilityprize.zip &> /dev/null\n",
        "!mkdir -p input_data/commonlitreadabilityprize\n",
        "!mkdir -p output/commonlitreadabilityprize\n",
        "!mkdir commonlitreadabilityprize\n",
        "!unzip /content/commonlitreadabilityprize.zip -d input_data/commonlitreadabilityprize/"
      ],
      "id": "zWHdWNQGsomY",
      "execution_count": 1,
      "outputs": [
        {
          "output_type": "stream",
          "name": "stdout",
          "text": [
            "Archive:  /content/commonlitreadabilityprize.zip\n",
            "  inflating: input_data/commonlitreadabilityprize/sample_submission.csv  \n",
            "  inflating: input_data/commonlitreadabilityprize/test.csv  \n",
            "  inflating: input_data/commonlitreadabilityprize/train.csv  \n"
          ]
        }
      ]
    },
    {
      "cell_type": "markdown",
      "metadata": {
        "id": "NKBcxZUR2q9e"
      },
      "source": [
        "#### EDA"
      ],
      "id": "NKBcxZUR2q9e"
    },
    {
      "cell_type": "code",
      "metadata": {
        "id": "Sv7xVGEs2zHl"
      },
      "source": [
        "import pandas as pd\n",
        "import matplotlib.pyplot as plt"
      ],
      "id": "Sv7xVGEs2zHl",
      "execution_count": 21,
      "outputs": []
    },
    {
      "cell_type": "code",
      "metadata": {
        "colab": {
          "base_uri": "https://localhost:8080/",
          "height": 175
        },
        "id": "m3fhqiVV3O40",
        "outputId": "09904b46-ed0e-497d-a721-598f9817405b"
      },
      "source": [
        "data_train = pd.read_csv(\"train.csv\",index_col=0)\n",
        "data_train.head(3)"
      ],
      "id": "m3fhqiVV3O40",
      "execution_count": null,
      "outputs": [
        {
          "output_type": "execute_result",
          "data": {
            "text/html": [
              "<div>\n",
              "<style scoped>\n",
              "    .dataframe tbody tr th:only-of-type {\n",
              "        vertical-align: middle;\n",
              "    }\n",
              "\n",
              "    .dataframe tbody tr th {\n",
              "        vertical-align: top;\n",
              "    }\n",
              "\n",
              "    .dataframe thead th {\n",
              "        text-align: right;\n",
              "    }\n",
              "</style>\n",
              "<table border=\"1\" class=\"dataframe\">\n",
              "  <thead>\n",
              "    <tr style=\"text-align: right;\">\n",
              "      <th></th>\n",
              "      <th>url_legal</th>\n",
              "      <th>license</th>\n",
              "      <th>excerpt</th>\n",
              "      <th>target</th>\n",
              "      <th>standard_error</th>\n",
              "    </tr>\n",
              "    <tr>\n",
              "      <th>id</th>\n",
              "      <th></th>\n",
              "      <th></th>\n",
              "      <th></th>\n",
              "      <th></th>\n",
              "      <th></th>\n",
              "    </tr>\n",
              "  </thead>\n",
              "  <tbody>\n",
              "    <tr>\n",
              "      <th>c12129c31</th>\n",
              "      <td>NaN</td>\n",
              "      <td>NaN</td>\n",
              "      <td>When the young people returned to the ballroom...</td>\n",
              "      <td>-0.340259</td>\n",
              "      <td>0.464009</td>\n",
              "    </tr>\n",
              "    <tr>\n",
              "      <th>85aa80a4c</th>\n",
              "      <td>NaN</td>\n",
              "      <td>NaN</td>\n",
              "      <td>All through dinner time, Mrs. Fayre was somewh...</td>\n",
              "      <td>-0.315372</td>\n",
              "      <td>0.480805</td>\n",
              "    </tr>\n",
              "    <tr>\n",
              "      <th>b69ac6792</th>\n",
              "      <td>NaN</td>\n",
              "      <td>NaN</td>\n",
              "      <td>As Roger had predicted, the snow departed as q...</td>\n",
              "      <td>-0.580118</td>\n",
              "      <td>0.476676</td>\n",
              "    </tr>\n",
              "  </tbody>\n",
              "</table>\n",
              "</div>"
            ],
            "text/plain": [
              "          url_legal license  ...    target  standard_error\n",
              "id                           ...                          \n",
              "c12129c31       NaN     NaN  ... -0.340259        0.464009\n",
              "85aa80a4c       NaN     NaN  ... -0.315372        0.480805\n",
              "b69ac6792       NaN     NaN  ... -0.580118        0.476676\n",
              "\n",
              "[3 rows x 5 columns]"
            ]
          },
          "metadata": {},
          "execution_count": 6
        }
      ]
    },
    {
      "cell_type": "code",
      "metadata": {
        "colab": {
          "base_uri": "https://localhost:8080/"
        },
        "id": "fs0TE0RwOYIO",
        "outputId": "98cf39c6-5103-4bb1-c445-2521de00a6ea"
      },
      "source": [
        "data_train = data_train.dropna(axis = 1)\n",
        "data_train.shape"
      ],
      "id": "fs0TE0RwOYIO",
      "execution_count": null,
      "outputs": [
        {
          "output_type": "execute_result",
          "data": {
            "text/plain": [
              "(2834, 3)"
            ]
          },
          "metadata": {},
          "execution_count": 7
        }
      ]
    },
    {
      "cell_type": "code",
      "metadata": {
        "colab": {
          "base_uri": "https://localhost:8080/",
          "height": 300
        },
        "id": "vyYSSTrmOO49",
        "outputId": "13f3b182-eb59-4322-a699-200c2263d7c5"
      },
      "source": [
        "data_train.describe()"
      ],
      "id": "vyYSSTrmOO49",
      "execution_count": null,
      "outputs": [
        {
          "output_type": "execute_result",
          "data": {
            "text/html": [
              "<div>\n",
              "<style scoped>\n",
              "    .dataframe tbody tr th:only-of-type {\n",
              "        vertical-align: middle;\n",
              "    }\n",
              "\n",
              "    .dataframe tbody tr th {\n",
              "        vertical-align: top;\n",
              "    }\n",
              "\n",
              "    .dataframe thead th {\n",
              "        text-align: right;\n",
              "    }\n",
              "</style>\n",
              "<table border=\"1\" class=\"dataframe\">\n",
              "  <thead>\n",
              "    <tr style=\"text-align: right;\">\n",
              "      <th></th>\n",
              "      <th>target</th>\n",
              "      <th>standard_error</th>\n",
              "    </tr>\n",
              "  </thead>\n",
              "  <tbody>\n",
              "    <tr>\n",
              "      <th>count</th>\n",
              "      <td>2834.000000</td>\n",
              "      <td>2834.000000</td>\n",
              "    </tr>\n",
              "    <tr>\n",
              "      <th>mean</th>\n",
              "      <td>-0.959319</td>\n",
              "      <td>0.491435</td>\n",
              "    </tr>\n",
              "    <tr>\n",
              "      <th>std</th>\n",
              "      <td>1.033579</td>\n",
              "      <td>0.034818</td>\n",
              "    </tr>\n",
              "    <tr>\n",
              "      <th>min</th>\n",
              "      <td>-3.676268</td>\n",
              "      <td>0.000000</td>\n",
              "    </tr>\n",
              "    <tr>\n",
              "      <th>25%</th>\n",
              "      <td>-1.690320</td>\n",
              "      <td>0.468543</td>\n",
              "    </tr>\n",
              "    <tr>\n",
              "      <th>50%</th>\n",
              "      <td>-0.912190</td>\n",
              "      <td>0.484721</td>\n",
              "    </tr>\n",
              "    <tr>\n",
              "      <th>75%</th>\n",
              "      <td>-0.202540</td>\n",
              "      <td>0.506268</td>\n",
              "    </tr>\n",
              "    <tr>\n",
              "      <th>max</th>\n",
              "      <td>1.711390</td>\n",
              "      <td>0.649671</td>\n",
              "    </tr>\n",
              "  </tbody>\n",
              "</table>\n",
              "</div>"
            ],
            "text/plain": [
              "            target  standard_error\n",
              "count  2834.000000     2834.000000\n",
              "mean     -0.959319        0.491435\n",
              "std       1.033579        0.034818\n",
              "min      -3.676268        0.000000\n",
              "25%      -1.690320        0.468543\n",
              "50%      -0.912190        0.484721\n",
              "75%      -0.202540        0.506268\n",
              "max       1.711390        0.649671"
            ]
          },
          "metadata": {},
          "execution_count": 8
        }
      ]
    },
    {
      "cell_type": "markdown",
      "metadata": {
        "id": "xWUOvpGGnnnr"
      },
      "source": [
        "* Giá trị nhỏ nhất cột độ lệch chuẩn có giá trị 0. Nguyên nhân có thể là đoạn trích được ít người đánh giá. "
      ],
      "id": "xWUOvpGGnnnr"
    },
    {
      "cell_type": "code",
      "metadata": {
        "colab": {
          "base_uri": "https://localhost:8080/",
          "height": 369
        },
        "id": "rOziLnKyNBTI",
        "outputId": "ad33d046-b7a4-4a5b-e860-26740dd58df5"
      },
      "source": [
        "df = data_train\n",
        "n_bins = 20\n",
        "fig, axs = plt.subplots(1, figsize=(5, 5), sharey=True, tight_layout=True)\n",
        "\n",
        "axs.hist(df.target, bins=n_bins);\n",
        "# axs[1].hist(df.standard_error, bins=n_bins);"
      ],
      "id": "rOziLnKyNBTI",
      "execution_count": null,
      "outputs": [
        {
          "output_type": "display_data",
          "data": {
            "image/png": "[encoded data removed]",
            "text/plain": [
              "<Figure size 360x360 with 1 Axes>"
            ]
          },
          "metadata": {
            "needs_background": "light"
          }
        }
      ]
    },
    {
      "cell_type": "markdown",
      "metadata": {
        "id": "vT7SLn5WV3GJ"
      },
      "source": [
        "* Nhận xét :\n",
        "  - Đa phần các đoạn text đều trong tập train đều ở mức độ khó."
      ],
      "id": "vT7SLn5WV3GJ"
    },
    {
      "cell_type": "code",
      "metadata": {
        "colab": {
          "base_uri": "https://localhost:8080/",
          "height": 369
        },
        "id": "R-dn2bLqhyYT",
        "outputId": "e921cee9-bae4-40ad-fe0a-237b9a275b5e"
      },
      "source": [
        "fig, axs = plt.subplots(1, figsize=(5, 5), sharey=True, tight_layout=True)\n",
        "\n",
        "axs.hist(df.standard_error, bins=n_bins);"
      ],
      "id": "R-dn2bLqhyYT",
      "execution_count": null,
      "outputs": [
        {
          "output_type": "display_data",
          "data": {
            "image/png": "[encoded data removed]",
            "text/plain": [
              "<Figure size 360x360 with 1 Axes>"
            ]
          },
          "metadata": {
            "needs_background": "light"
          }
        }
      ]
    },
    {
      "cell_type": "markdown",
      "metadata": {
        "id": "ypNp4W-91FvG"
      },
      "source": [
        "* Nhận xét: Độ lệch chuẩn của các đánh giá đa phần giao động trong khoảng 0.5"
      ],
      "id": "ypNp4W-91FvG"
    },
    {
      "cell_type": "code",
      "metadata": {
        "colab": {
          "base_uri": "https://localhost:8080/",
          "height": 265
        },
        "id": "EaazXyVcVHrB",
        "outputId": "9a383d88-a2ac-4445-f2f0-6ffdef76c083"
      },
      "source": [
        "df[\"word_count\"] = df['excerpt'].str.split().apply(len)\n",
        "df[\"word_count\"].hist();"
      ],
      "id": "EaazXyVcVHrB",
      "execution_count": null,
      "outputs": [
        {
          "output_type": "display_data",
          "data": {
            "image/png": "[encoded data removed]",
            "text/plain": [
              "<Figure size 432x288 with 1 Axes>"
            ]
          },
          "metadata": {
            "needs_background": "light"
          }
        }
      ]
    },
    {
      "cell_type": "markdown",
      "metadata": {
        "id": "JPdl7X0sm2ie"
      },
      "source": [
        "* Nhận xét: Phần lớn độ dài các đoạn trích nằm trong khoảng từ 300-400."
      ],
      "id": "JPdl7X0sm2ie"
    },
    {
      "cell_type": "code",
      "metadata": {
        "colab": {
          "base_uri": "https://localhost:8080/"
        },
        "id": "Pmlc-KxpaGSA",
        "outputId": "032dee21-8c3c-4771-df6f-4e214ee5a9ff"
      },
      "source": [
        " total = df['excerpt'].str.split().explode().value_counts().sum()\n",
        " stopwords = df['excerpt'].str.split().explode().value_counts().nlargest(50).sum()\n",
        " print(len(df['excerpt'].str.split().explode().unique()))\n",
        " print((stopwords / total) * 100)"
      ],
      "id": "Pmlc-KxpaGSA",
      "execution_count": null,
      "outputs": [
        {
          "output_type": "stream",
          "name": "stdout",
          "text": [
            "54381\n",
            "39.02792765043419\n"
          ]
        }
      ]
    },
    {
      "cell_type": "code",
      "metadata": {
        "colab": {
          "base_uri": "https://localhost:8080/",
          "height": 450
        },
        "id": "VThN-ownaYzc",
        "outputId": "3ba09e5a-b605-4dae-e02f-c0fd72c983ff"
      },
      "source": [
        "plt.figure(figsize = (20, 6), dpi = 80)\n",
        "df['excerpt'].str.split().explode().value_counts().nlargest(50).plot.bar(rot = 0)\n",
        "plt.title(\"Tần suất của các từ trong tập huyến luyện\");"
      ],
      "id": "VThN-ownaYzc",
      "execution_count": null,
      "outputs": [
        {
          "output_type": "display_data",
          "data": {
            "image/png": "[encoded data removed]",
            "text/plain": [
              "<Figure size 1600x480 with 1 Axes>"
            ]
          },
          "metadata": {
            "needs_background": "light"
          }
        }
      ]
    },
    {
      "cell_type": "markdown",
      "metadata": {
        "id": "PU6o_5sWd1UE"
      },
      "source": [
        "* Nhận xét: \n",
        " - Giống như mong đợi thì các từ stopwords chiếm phần lớn từ trong dữ liệu. \n",
        " - Stopword Chiếm khoảng 40% trong tổng số lượng từ"
      ],
      "id": "PU6o_5sWd1UE"
    },
    {
      "cell_type": "markdown",
      "metadata": {
        "id": "ouZ-KOTwa9_H"
      },
      "source": [
        "### Tóm tắt về giải pháp\n",
        "#### Tổng quát \n",
        "* Tác giả sử dụng kỹ thuật 5 fold CV với 5 seed khác nhau để tạo ra nhiều checkpoint khác nhau.\n",
        "* Và áp dụng với nhiều mô hình khác nhau (Tác giả sử dụng khoảng 38 mô hình).\n",
        "* Kết quả quả cuối cùng tác giả tổng hợp lại với 3 cách chính:\n",
        "  - RigdeCV (LOO) \n",
        "  - BayesianRidgeRegression\n",
        "  - BigChaos\n",
        "* Đồng thời áp dụng một số kĩ thuật khác như thêm các thuộc tính (flesch_reading_ease ,smog_index) , thêm AttentionBlock."
      ],
      "id": "ouZ-KOTwa9_H"
    },
    {
      "cell_type": "markdown",
      "metadata": {
        "id": "hXPOK1RUX9le"
      },
      "source": [
        "#### Thêm thuộc tính\n"
      ],
      "id": "hXPOK1RUX9le"
    },
    {
      "cell_type": "markdown",
      "metadata": {
        "id": "29tyTz7uYAs1"
      },
      "source": [
        "* flesch_reading_ease là điểm dễ đọc của đoạn trích.\n",
        "  - Công thức: \n",
        "\n",
        "    ![picture](https://readable.com/wp-content/uploads/2017/01/FLESCHREADINGEASE.png)\n",
        "\n",
        "  - Đánh giá kết quả:\n",
        "\n",
        "    ![picture](https://seodesignchicago.com/wp-content/uploads/2021/09/Flesch-Reading-Ease.png)\n",
        "* smog_index là ước lượng số năm học để đọc đoạn trích.\n",
        "  - Công thức:\n",
        "\n",
        "    ![picture](https://readable.com/wp-content/uploads/2019/01/SMOG-readability-formula-1-768x304.png)\n",
        "\n",
        "  - Ví dụ: kết quả là 9 thì học sinh lớp 9 có thể đọc đoạn trích đó."
      ],
      "id": "29tyTz7uYAs1"
    },
    {
      "cell_type": "markdown",
      "metadata": {
        "id": "YZRCzUMeWKdK"
      },
      "source": [
        "#### Phương thức tổng hợp\n",
        " "
      ],
      "id": "YZRCzUMeWKdK"
    },
    {
      "cell_type": "markdown",
      "metadata": {
        "id": "6hQu3HXLXrtd"
      },
      "source": [
        "- RigdeCV:     \n",
        "    Xây dựng một mô hình hồi quy có kết hợp kỹ thuật CV \n",
        "- BayesianRidgeRegression: \n",
        "\n",
        "    BayesianRidge xây dựng hồi quy tuyến tính sử dụng phân phối xác suất thay vì ước lượng điểm.\n",
        "\n",
        "    RidgeRegression là một kỹ thuật để phân tích dữ liệu hồi quy nhiều lần. \n",
        "\n",
        "    Một trong những loại Hồi quy Bayesian hiệu quả là Bayesian Ridge Regression, ước tính mô hình xác suất cho các bài toán hồi quy.\n",
        "\n",
        "    LOOCV là một phương pháp Cross Validation: Chia tập dữ liệu thành K tập con (K = số dữ liệu). Quá trình học của máy có K lần. Mỗi lần, 1 tập con được dùng để kiểm tra và K-1 tập con còn lại được dùng để huấn luyện.\n",
        "- Bigchaos:    \n",
        "    Big chaos solution là một phương pháp Collaborative filtering đã được áp dụng trong bài toán Recommender system.\n",
        "\n",
        "    ![image.png](https://scontent.fdad1-2.fna.fbcdn.net/v/t1.15752-9/257430565_582013389559613_5705009368260678979_n.png?_nc_cat=102&ccb=1-5&_nc_sid=ae9488&_nc_ohc=YNARF7N0gU8AX_ellxS&_nc_ht=scontent.fdad1-2.fna&oh=69e274b018003c81d4338c57cfccfe91&oe=61C2D4AC)\n",
        "    Trong đó thuật toán sẽ dự đoán ratings của những bộ phim mà người dùng chưa xem, các phim có điểm ratings cao sẽ được recommend cho người dùng.\n",
        "    Tuy đạt độ lỗi nhỏ hơn (0.446) nhưng tác tin tưởng 2 phương pháp RigdeCV và BayesianRidgeRegression nên đã chọn phương pháp RidgeCV &  BayesianRidgeRegression làm 2 lần submit cuối cùng của tôi với điểm số cũ là   0,447.\n"
      ],
      "id": "6hQu3HXLXrtd"
    },
    {
      "cell_type": "markdown",
      "metadata": {
        "id": "dsIaJ45aYmJ9"
      },
      "source": [
        "### Thực nghiệm\n",
        "\n",
        "* Huấn luyện với 4 mô hình (deberta, roberta base, roberta-squad2 , distilroberta).\n",
        "* Mỗi mô hình huấn luyện với 5 fold khác nhau.\n",
        "* Sử dụng RigdeCV để tổng hợp."
      ],
      "id": "dsIaJ45aYmJ9"
    },
    {
      "cell_type": "markdown",
      "metadata": {
        "id": "bZ36yrMAvLjL"
      },
      "source": [
        "#### Thư viện"
      ],
      "id": "bZ36yrMAvLjL"
    },
    {
      "cell_type": "code",
      "metadata": {
        "colab": {
          "base_uri": "https://localhost:8080/"
        },
        "id": "aRqx4Q845VP4",
        "cellView": "form",
        "outputId": "a9400b14-afcd-47f9-97ba-deb44a45f618"
      },
      "source": [
        "# @title requirements.txt\n",
        "%%writefile requirements.txt\n",
        "\n",
        "torch==1.10.0\n",
        "numpy==1.19.2\n",
        "tqdm==4.49.0\n",
        "transformers==4.10.2\n",
        "textstat\n",
        "pytorch_lightning==1.5.4\n",
        "gspread_dataframe==3.2.1\n",
        "gspread==3.7.0\n",
        "pandas==1.3.4\n",
        "wandb==0.11.2\n",
        "coolname==1.1.0\n",
        "accelerate==0.3.0\n",
        "PyYAML==5.4.1\n",
        "scikit_learn==0.24.2"
      ],
      "id": "aRqx4Q845VP4",
      "execution_count": 10,
      "outputs": [
        {
          "output_type": "stream",
          "name": "stdout",
          "text": [
            "Overwriting requirements.txt\n"
          ]
        }
      ]
    },
    {
      "cell_type": "code",
      "metadata": {
        "colab": {
          "base_uri": "https://localhost:8080/"
        },
        "id": "CtOAqHMT5-ki",
        "cellView": "form",
        "outputId": "769e8d80-070a-4049-b0d3-750bf6276b02"
      },
      "source": [
        "# @title hyperparams\n",
        "%%writefile commonlitreadabilityprize/hyperparams.yml\n",
        "\n",
        "roberta_base:\n",
        "  # model_name: deepset/roberta-base-squad2\n",
        "  model_name: roberta-base\n",
        "  # model_name: xlm-roberta-base\n",
        "  gpus: 1\n",
        "  batch_size: 16\n",
        "  max_epochs: 6\n",
        "  lr: 0.00005\n",
        "  weight_decay: 1.0\n",
        "  val_check_interval: 5\n",
        "  kl_loss: True\n",
        "  swa: True\n",
        "\n",
        "xlm_roberta_base:\n",
        "  model_name: xlm-roberta-base\n",
        "  gpus: 1\n",
        "  batch_size: 16\n",
        "  max_epochs: 6\n",
        "  lr: 0.00005\n",
        "  weight_decay: 1.0\n",
        "  val_check_interval: 5\n",
        "  kl_loss: True\n",
        "  swa: True\n",
        "\n",
        "\n",
        "bigbird:\n",
        "  model_name: google/bigbird-roberta-large\n",
        "  gpus: 1\n",
        "  batch_size: 16\n",
        "  max_epochs: 6\n",
        "  lr: 0.000025\n",
        "  weight_decay: 1.0\n",
        "  val_check_interval: 5\n",
        "  kl_loss: True\n",
        "  swa: True\n",
        "\n",
        "\n",
        "roberta_large:\n",
        "  model_name: roberta-large\n",
        "  # model_name: xlm-roberta-large\n",
        "  gpus: 1\n",
        "  batch_size: 16\n",
        "  max_epochs: 6\n",
        "  lr: 0.000025\n",
        "  weight_decay: 1.0\n",
        "  val_check_interval: 5\n",
        "  kl_loss: True\n",
        "  swa: True\n",
        "\n",
        "\n",
        "roberta_large_squad:\n",
        "  model_name: deepset/roberta-large-squad2\n",
        "  gpus: 1\n",
        "  batch_size: 16\n",
        "  max_epochs: 6\n",
        "  lr: 0.000025\n",
        "  weight_decay: 1.0\n",
        "  val_check_interval: 5\n",
        "  kl_loss: True\n",
        "  swa: True\n",
        "\n",
        "\n",
        "distilroberta:\n",
        "  model_name: distilroberta-base\n",
        "  gpus: 1\n",
        "  batch_size: 16\n",
        "  max_epochs: 6\n",
        "  lr: 0.00005\n",
        "  weight_decay: 1.0\n",
        "  val_check_interval: 5\n",
        "  kl_loss: False\n",
        "  swa: True\n",
        "\n",
        "\n",
        "albert:\n",
        "  model_name: albert-large-v2\n",
        "  gpus: 1\n",
        "  batch_size: 16\n",
        "  max_epochs: 6\n",
        "  lr: 0.00003\n",
        "  weight_decay: 1.0\n",
        "  val_check_interval: 5\n",
        "  eps: 0.000001\n",
        "  betas: !!python/tuple [0.9, 0.999]\n",
        "  kl_loss: True\n",
        "  swa: True\n",
        "  warmup: 100\n",
        "  grad_clip_val: 1.0\n",
        "\n",
        "\n",
        "funnel:\n",
        "  model_name: funnel-transformer/large-base\n",
        "  gpus: 1\n",
        "  batch_size: 16\n",
        "  max_epochs: 6\n",
        "  lr: 0.00005\n",
        "  weight_decay: 1.0\n",
        "  val_check_interval: 5\n",
        "  eps: 0.0001\n",
        "  betas: !!python/tuple [0.9, 0.999]\n",
        "  kl_loss: True\n",
        "  swa: True\n",
        "  warmup: 100\n",
        "\n",
        "\n",
        "bert_base:\n",
        "  model_name: bert-base-uncased\n",
        "  gpus: 1\n",
        "  batch_size: 16\n",
        "  max_epochs: 6\n",
        "  lr: 0.00005\n",
        "  weight_decay: 1.0\n",
        "  val_check_interval: 5\n",
        "  kl_loss: False\n",
        "  swa: True\n",
        "\n",
        "\n",
        "bert_large:\n",
        "  model_name: bert-large-cased\n",
        "  gpus: 1\n",
        "  batch_size: 16\n",
        "  max_epochs: 6\n",
        "  lr: 0.00005\n",
        "  weight_decay: 1.0\n",
        "  val_check_interval: 5\n",
        "  kl_loss: False\n",
        "  swa: True\n",
        "\n",
        "\n",
        "bert_large_wm:\n",
        "  model_name: bert-large-cased-whole-word-masking\n",
        "  gpus: 1\n",
        "  batch_size: 16\n",
        "  max_epochs: 6\n",
        "  lr: 0.00005\n",
        "  weight_decay: 1.0\n",
        "  val_check_interval: 5\n",
        "  kl_loss: False\n",
        "  swa: True\n",
        "\n",
        "\n",
        "deberta_base:\n",
        "  model_name: microsoft/deberta-base\n",
        "  gpus: 1\n",
        "  batch_size: 16\n",
        "  max_epochs: 6\n",
        "  lr: 0.000025\n",
        "  weight_decay: 1.0\n",
        "  val_check_interval: 5\n",
        "  kl_loss: True\n",
        "  swa: True\n",
        "\n",
        "\n",
        "deberta_large:\n",
        "  model_name: microsoft/deberta-large\n",
        "  gpus: 1\n",
        "  batch_size: 12\n",
        "  max_epochs: 6\n",
        "  lr: 0.000025\n",
        "  weight_decay: 1.0\n",
        "  val_check_interval: 5\n",
        "  kl_loss: True\n",
        "  swa: True\n",
        "\n",
        "  \n",
        "deberta_xlarge:\n",
        "  model_name: microsoft/deberta-v2-xlarge\n",
        "  gpus: 1\n",
        "  plugins: ddp_sharded\n",
        "  accelerator: ddp\n",
        "  precision: 16\n",
        "  batch_size: 10\n",
        "  max_epochs: 6\n",
        "  lr: 0.000025\n",
        "  weight_decay: 1.0\n",
        "  val_check_interval: 5\n",
        "  kl_loss: False\n",
        "  swa: True\n",
        "\n",
        "\n",
        "bart_base:\n",
        "  model_name: facebook/bart-base\n",
        "  gpus: 1\n",
        "  batch_size: 16\n",
        "  max_epochs: 6\n",
        "  lr: 0.000025\n",
        "  weight_decay: 1.0\n",
        "  val_check_interval: 5\n",
        "  kl_loss: True\n",
        "  swa: True\n",
        "\n",
        "\n",
        "bart_large:\n",
        "  model_name: facebook/bart-large\n",
        "  gpus: 1\n",
        "  batch_size: 12\n",
        "  max_epochs: 6\n",
        "  lr: 0.000025\n",
        "  weight_decay: 1.0\n",
        "  val_check_interval: 5\n",
        "  kl_loss: False\n",
        "  swa: True\n",
        "\n",
        "\n",
        "st_labse:\n",
        "  model_name: sentence-transformers/LaBSE\n",
        "  gpus: 1\n",
        "  batch_size: 16\n",
        "  max_epochs: 6\n",
        "  lr: 0.000025\n",
        "  weight_decay: 1.0\n",
        "  val_check_interval: 5\n",
        "  kl_loss: True\n",
        "  swa: True\n",
        "\n",
        "\n",
        "# https://www.sbert.net/docs/pretrained_models.html\n",
        "st_paraphrase:\n",
        "  model_name: sentence-transformers/paraphrase-mpnet-base-v2\n",
        "  gpus: 1\n",
        "  batch_size: 32\n",
        "  max_epochs: 6\n",
        "  lr: 0.00005\n",
        "  weight_decay: 1.0\n",
        "  val_check_interval: 5\n",
        "  kl_loss: True\n",
        "  swa: True\n",
        "\n",
        "\n",
        "sentence_bert:\n",
        "  model_name: deepset/sentence_bert\n",
        "  gpus: 1\n",
        "  batch_size: 16\n",
        "  max_epochs: 6\n",
        "  lr: 0.000025\n",
        "  weight_decay: 1.0\n",
        "  val_check_interval: 5\n",
        "  kl_loss: False\n",
        "  swa: True\n",
        "\n",
        "\n",
        "gpt2:\n",
        "  model_name: gpt2\n",
        "  gpus: 1\n",
        "  batch_size: 16\n",
        "  max_epochs: 6\n",
        "  lr: 0.00005\n",
        "  weight_decay: 1.0\n",
        "  val_check_interval: 5\n",
        "  kl_loss: False\n",
        "  swa: True\n",
        "\n",
        "\n",
        "electra:\n",
        "  model_name: google/electra-large-discriminator\n",
        "  gpus: 1\n",
        "  batch_size: 16\n",
        "  max_epochs: 6\n",
        "  lr: 0.00001\n",
        "  warmup: 100\n",
        "  weight_decay: 1.0\n",
        "  val_check_interval: 5\n",
        "  kl_loss: True\n",
        "  swa: True\n",
        "\n",
        "\n",
        "convbert:\n",
        "  model_name: YituTech/conv-bert-base\n",
        "  gpus: 1\n",
        "  batch_size: 16\n",
        "  max_epochs: 6\n",
        "  lr: 0.00005\n",
        "  weight_decay: 1.0\n",
        "  val_check_interval: 5\n",
        "  kl_loss: False\n",
        "  swa: True\n",
        "\n",
        "\n",
        "ctrl:\n",
        "  model_name: ctrl  # 6.5GB!!\n",
        "  gpus: 1\n",
        "  batch_size: 16\n",
        "  max_epochs: 6\n",
        "  lr: 0.00005\n",
        "  weight_decay: 1.0\n",
        "  val_check_interval: 5\n",
        "  kl_loss: False\n",
        "  swa: True"
      ],
      "id": "CtOAqHMT5-ki",
      "execution_count": 4,
      "outputs": [
        {
          "output_type": "stream",
          "name": "stdout",
          "text": [
            "Writing commonlitreadabilityprize/hyperparams.yml\n"
          ]
        }
      ]
    },
    {
      "cell_type": "code",
      "metadata": {
        "id": "dF6VtRsr1uU0",
        "colab": {
          "base_uri": "https://localhost:8080/",
          "height": 1000
        },
        "outputId": "65e383b5-d221-42ce-dfc3-a71b19dd8c40"
      },
      "source": [
        "!pip install -qq ruamel.yaml==0.17.4\n",
        "!pip install -r requirements.txt"
      ],
      "id": "dF6VtRsr1uU0",
      "execution_count": 11,
      "outputs": [
        {
          "output_type": "stream",
          "name": "stdout",
          "text": [
            "Requirement already satisfied: torch==1.10.0 in /usr/local/lib/python3.7/dist-packages (from -r requirements.txt (line 2)) (1.10.0+cu111)\n",
            "Requirement already satisfied: numpy==1.19.2 in /usr/local/lib/python3.7/dist-packages (from -r requirements.txt (line 3)) (1.19.2)\n",
            "Requirement already satisfied: tqdm==4.49.0 in /usr/local/lib/python3.7/dist-packages (from -r requirements.txt (line 4)) (4.49.0)\n",
            "Collecting transformers==4.10.2\n",
            "  Downloading transformers-4.10.2-py3-none-any.whl (2.8 MB)\n",
            "\u001b[K     |████████████████████████████████| 2.8 MB 4.2 MB/s \n",
            "\u001b[?25hRequirement already satisfied: textstat in /usr/local/lib/python3.7/dist-packages (from -r requirements.txt (line 6)) (0.7.2)\n",
            "Requirement already satisfied: pytorch_lightning==1.5.4 in /usr/local/lib/python3.7/dist-packages (from -r requirements.txt (line 7)) (1.5.4)\n",
            "Requirement already satisfied: gspread_dataframe==3.2.1 in /usr/local/lib/python3.7/dist-packages (from -r requirements.txt (line 8)) (3.2.1)\n",
            "Requirement already satisfied: gspread==3.7.0 in /usr/local/lib/python3.7/dist-packages (from -r requirements.txt (line 9)) (3.7.0)\n",
            "Requirement already satisfied: pandas==1.3.4 in /usr/local/lib/python3.7/dist-packages (from -r requirements.txt (line 10)) (1.3.4)\n",
            "Requirement already satisfied: wandb==0.11.2 in /usr/local/lib/python3.7/dist-packages (from -r requirements.txt (line 11)) (0.11.2)\n",
            "Requirement already satisfied: coolname==1.1.0 in /usr/local/lib/python3.7/dist-packages (from -r requirements.txt (line 12)) (1.1.0)\n",
            "Requirement already satisfied: accelerate==0.3.0 in /usr/local/lib/python3.7/dist-packages (from -r requirements.txt (line 13)) (0.3.0)\n",
            "Requirement already satisfied: PyYAML==5.4.1 in /usr/local/lib/python3.7/dist-packages (from -r requirements.txt (line 14)) (5.4.1)\n",
            "Requirement already satisfied: scikit_learn==0.24.2 in /usr/local/lib/python3.7/dist-packages (from -r requirements.txt (line 15)) (0.24.2)\n",
            "Requirement already satisfied: typing-extensions in /usr/local/lib/python3.7/dist-packages (from torch==1.10.0->-r requirements.txt (line 2)) (3.10.0.2)\n",
            "Requirement already satisfied: requests in /usr/local/lib/python3.7/dist-packages (from transformers==4.10.2->-r requirements.txt (line 5)) (2.26.0)\n",
            "Requirement already satisfied: filelock in /usr/local/lib/python3.7/dist-packages (from transformers==4.10.2->-r requirements.txt (line 5)) (3.4.0)\n",
            "Requirement already satisfied: packaging in /usr/local/lib/python3.7/dist-packages (from transformers==4.10.2->-r requirements.txt (line 5)) (21.3)\n",
            "Requirement already satisfied: tokenizers<0.11,>=0.10.1 in /usr/local/lib/python3.7/dist-packages (from transformers==4.10.2->-r requirements.txt (line 5)) (0.10.3)\n",
            "Requirement already satisfied: sacremoses in /usr/local/lib/python3.7/dist-packages (from transformers==4.10.2->-r requirements.txt (line 5)) (0.0.46)\n",
            "Requirement already satisfied: regex!=2019.12.17 in /usr/local/lib/python3.7/dist-packages (from transformers==4.10.2->-r requirements.txt (line 5)) (2019.12.20)\n",
            "Requirement already satisfied: huggingface-hub>=0.0.12 in /usr/local/lib/python3.7/dist-packages (from transformers==4.10.2->-r requirements.txt (line 5)) (0.0.12)\n",
            "Requirement already satisfied: importlib-metadata in /usr/local/lib/python3.7/dist-packages (from transformers==4.10.2->-r requirements.txt (line 5)) (4.8.2)\n",
            "Requirement already satisfied: future>=0.17.1 in /usr/local/lib/python3.7/dist-packages (from pytorch_lightning==1.5.4->-r requirements.txt (line 7)) (0.18.2)\n",
            "Requirement already satisfied: fsspec[http]!=2021.06.0,>=2021.05.0 in /usr/local/lib/python3.7/dist-packages (from pytorch_lightning==1.5.4->-r requirements.txt (line 7)) (2021.11.1)\n",
            "Requirement already satisfied: pyDeprecate==0.3.1 in /usr/local/lib/python3.7/dist-packages (from pytorch_lightning==1.5.4->-r requirements.txt (line 7)) (0.3.1)\n",
            "Requirement already satisfied: tensorboard>=2.2.0 in /usr/local/lib/python3.7/dist-packages (from pytorch_lightning==1.5.4->-r requirements.txt (line 7)) (2.7.0)\n",
            "Requirement already satisfied: torchmetrics>=0.4.1 in /usr/local/lib/python3.7/dist-packages (from pytorch_lightning==1.5.4->-r requirements.txt (line 7)) (0.6.1)\n",
            "Requirement already satisfied: six>=1.12.0 in /usr/local/lib/python3.7/dist-packages (from gspread_dataframe==3.2.1->-r requirements.txt (line 8)) (1.15.0)\n",
            "Requirement already satisfied: google-auth-oauthlib>=0.4.1 in /usr/local/lib/python3.7/dist-packages (from gspread==3.7.0->-r requirements.txt (line 9)) (0.4.6)\n",
            "Requirement already satisfied: google-auth>=1.12.0 in /usr/local/lib/python3.7/dist-packages (from gspread==3.7.0->-r requirements.txt (line 9)) (1.35.0)\n",
            "Requirement already satisfied: python-dateutil>=2.7.3 in /usr/local/lib/python3.7/dist-packages (from pandas==1.3.4->-r requirements.txt (line 10)) (2.8.2)\n",
            "Requirement already satisfied: pytz>=2017.3 in /usr/local/lib/python3.7/dist-packages (from pandas==1.3.4->-r requirements.txt (line 10)) (2018.9)\n",
            "Requirement already satisfied: configparser>=3.8.1 in /usr/local/lib/python3.7/dist-packages (from wandb==0.11.2->-r requirements.txt (line 11)) (5.2.0)\n",
            "Requirement already satisfied: GitPython>=1.0.0 in /usr/local/lib/python3.7/dist-packages (from wandb==0.11.2->-r requirements.txt (line 11)) (3.1.24)\n",
            "Requirement already satisfied: docker-pycreds>=0.4.0 in /usr/local/lib/python3.7/dist-packages (from wandb==0.11.2->-r requirements.txt (line 11)) (0.4.0)\n",
            "Requirement already satisfied: shortuuid>=0.5.0 in /usr/local/lib/python3.7/dist-packages (from wandb==0.11.2->-r requirements.txt (line 11)) (1.0.8)\n",
            "Requirement already satisfied: urllib3>=1.26.5 in /usr/local/lib/python3.7/dist-packages (from wandb==0.11.2->-r requirements.txt (line 11)) (1.26.7)\n",
            "Requirement already satisfied: Click!=8.0.0,>=7.0 in /usr/local/lib/python3.7/dist-packages (from wandb==0.11.2->-r requirements.txt (line 11)) (7.1.2)\n",
            "Requirement already satisfied: promise<3,>=2.0 in /usr/local/lib/python3.7/dist-packages (from wandb==0.11.2->-r requirements.txt (line 11)) (2.3)\n",
            "Requirement already satisfied: subprocess32>=3.5.3 in /usr/local/lib/python3.7/dist-packages (from wandb==0.11.2->-r requirements.txt (line 11)) (3.5.4)\n",
            "Requirement already satisfied: sentry-sdk>=1.0.0 in /usr/local/lib/python3.7/dist-packages (from wandb==0.11.2->-r requirements.txt (line 11)) (1.5.0)\n",
            "Requirement already satisfied: protobuf>=3.12.0 in /usr/local/lib/python3.7/dist-packages (from wandb==0.11.2->-r requirements.txt (line 11)) (3.17.3)\n",
            "Requirement already satisfied: pathtools in /usr/local/lib/python3.7/dist-packages (from wandb==0.11.2->-r requirements.txt (line 11)) (0.1.2)\n",
            "Requirement already satisfied: psutil>=5.0.0 in /usr/local/lib/python3.7/dist-packages (from wandb==0.11.2->-r requirements.txt (line 11)) (5.4.8)\n",
            "Requirement already satisfied: pyaml>=20.4.0 in /usr/local/lib/python3.7/dist-packages (from accelerate==0.3.0->-r requirements.txt (line 13)) (21.10.1)\n",
            "Requirement already satisfied: joblib>=0.11 in /usr/local/lib/python3.7/dist-packages (from scikit_learn==0.24.2->-r requirements.txt (line 15)) (1.1.0)\n",
            "Requirement already satisfied: threadpoolctl>=2.0.0 in /usr/local/lib/python3.7/dist-packages (from scikit_learn==0.24.2->-r requirements.txt (line 15)) (3.0.0)\n",
            "Requirement already satisfied: scipy>=0.19.1 in /usr/local/lib/python3.7/dist-packages (from scikit_learn==0.24.2->-r requirements.txt (line 15)) (1.4.1)\n",
            "Requirement already satisfied: aiohttp in /usr/local/lib/python3.7/dist-packages (from fsspec[http]!=2021.06.0,>=2021.05.0->pytorch_lightning==1.5.4->-r requirements.txt (line 7)) (3.8.1)\n",
            "Requirement already satisfied: gitdb<5,>=4.0.1 in /usr/local/lib/python3.7/dist-packages (from GitPython>=1.0.0->wandb==0.11.2->-r requirements.txt (line 11)) (4.0.9)\n",
            "Requirement already satisfied: smmap<6,>=3.0.1 in /usr/local/lib/python3.7/dist-packages (from gitdb<5,>=4.0.1->GitPython>=1.0.0->wandb==0.11.2->-r requirements.txt (line 11)) (5.0.0)\n",
            "Requirement already satisfied: rsa<5,>=3.1.4 in /usr/local/lib/python3.7/dist-packages (from google-auth>=1.12.0->gspread==3.7.0->-r requirements.txt (line 9)) (4.8)\n",
            "Requirement already satisfied: pyasn1-modules>=0.2.1 in /usr/local/lib/python3.7/dist-packages (from google-auth>=1.12.0->gspread==3.7.0->-r requirements.txt (line 9)) (0.2.8)\n",
            "Requirement already satisfied: setuptools>=40.3.0 in /usr/local/lib/python3.7/dist-packages (from google-auth>=1.12.0->gspread==3.7.0->-r requirements.txt (line 9)) (57.4.0)\n",
            "Requirement already satisfied: cachetools<5.0,>=2.0.0 in /usr/local/lib/python3.7/dist-packages (from google-auth>=1.12.0->gspread==3.7.0->-r requirements.txt (line 9)) (4.2.4)\n",
            "Requirement already satisfied: requests-oauthlib>=0.7.0 in /usr/local/lib/python3.7/dist-packages (from google-auth-oauthlib>=0.4.1->gspread==3.7.0->-r requirements.txt (line 9)) (1.3.0)\n",
            "Requirement already satisfied: pyparsing!=3.0.5,>=2.0.2 in /usr/local/lib/python3.7/dist-packages (from packaging->transformers==4.10.2->-r requirements.txt (line 5)) (3.0.6)\n",
            "Requirement already satisfied: pyasn1<0.5.0,>=0.4.6 in /usr/local/lib/python3.7/dist-packages (from pyasn1-modules>=0.2.1->google-auth>=1.12.0->gspread==3.7.0->-r requirements.txt (line 9)) (0.4.8)\n",
            "Requirement already satisfied: charset-normalizer~=2.0.0 in /usr/local/lib/python3.7/dist-packages (from requests->transformers==4.10.2->-r requirements.txt (line 5)) (2.0.8)\n",
            "Requirement already satisfied: certifi>=2017.4.17 in /usr/local/lib/python3.7/dist-packages (from requests->transformers==4.10.2->-r requirements.txt (line 5)) (2021.10.8)\n",
            "Requirement already satisfied: idna<4,>=2.5 in /usr/local/lib/python3.7/dist-packages (from requests->transformers==4.10.2->-r requirements.txt (line 5)) (2.10)\n",
            "Requirement already satisfied: oauthlib>=3.0.0 in /usr/local/lib/python3.7/dist-packages (from requests-oauthlib>=0.7.0->google-auth-oauthlib>=0.4.1->gspread==3.7.0->-r requirements.txt (line 9)) (3.1.1)\n",
            "Requirement already satisfied: tensorboard-plugin-wit>=1.6.0 in /usr/local/lib/python3.7/dist-packages (from tensorboard>=2.2.0->pytorch_lightning==1.5.4->-r requirements.txt (line 7)) (1.8.0)\n",
            "Requirement already satisfied: wheel>=0.26 in /usr/local/lib/python3.7/dist-packages (from tensorboard>=2.2.0->pytorch_lightning==1.5.4->-r requirements.txt (line 7)) (0.37.0)\n",
            "Requirement already satisfied: tensorboard-data-server<0.7.0,>=0.6.0 in /usr/local/lib/python3.7/dist-packages (from tensorboard>=2.2.0->pytorch_lightning==1.5.4->-r requirements.txt (line 7)) (0.6.1)\n",
            "Requirement already satisfied: markdown>=2.6.8 in /usr/local/lib/python3.7/dist-packages (from tensorboard>=2.2.0->pytorch_lightning==1.5.4->-r requirements.txt (line 7)) (3.3.6)\n",
            "Requirement already satisfied: grpcio>=1.24.3 in /usr/local/lib/python3.7/dist-packages (from tensorboard>=2.2.0->pytorch_lightning==1.5.4->-r requirements.txt (line 7)) (1.42.0)\n",
            "Requirement already satisfied: werkzeug>=0.11.15 in /usr/local/lib/python3.7/dist-packages (from tensorboard>=2.2.0->pytorch_lightning==1.5.4->-r requirements.txt (line 7)) (1.0.1)\n",
            "Requirement already satisfied: absl-py>=0.4 in /usr/local/lib/python3.7/dist-packages (from tensorboard>=2.2.0->pytorch_lightning==1.5.4->-r requirements.txt (line 7)) (0.12.0)\n",
            "Requirement already satisfied: zipp>=0.5 in /usr/local/lib/python3.7/dist-packages (from importlib-metadata->transformers==4.10.2->-r requirements.txt (line 5)) (3.6.0)\n",
            "Requirement already satisfied: pyphen in /usr/local/lib/python3.7/dist-packages (from textstat->-r requirements.txt (line 6)) (0.11.0)\n",
            "Requirement already satisfied: attrs>=17.3.0 in /usr/local/lib/python3.7/dist-packages (from aiohttp->fsspec[http]!=2021.06.0,>=2021.05.0->pytorch_lightning==1.5.4->-r requirements.txt (line 7)) (21.2.0)\n",
            "Requirement already satisfied: multidict<7.0,>=4.5 in /usr/local/lib/python3.7/dist-packages (from aiohttp->fsspec[http]!=2021.06.0,>=2021.05.0->pytorch_lightning==1.5.4->-r requirements.txt (line 7)) (5.2.0)\n",
            "Requirement already satisfied: aiosignal>=1.1.2 in /usr/local/lib/python3.7/dist-packages (from aiohttp->fsspec[http]!=2021.06.0,>=2021.05.0->pytorch_lightning==1.5.4->-r requirements.txt (line 7)) (1.2.0)\n",
            "Requirement already satisfied: asynctest==0.13.0 in /usr/local/lib/python3.7/dist-packages (from aiohttp->fsspec[http]!=2021.06.0,>=2021.05.0->pytorch_lightning==1.5.4->-r requirements.txt (line 7)) (0.13.0)\n",
            "Requirement already satisfied: frozenlist>=1.1.1 in /usr/local/lib/python3.7/dist-packages (from aiohttp->fsspec[http]!=2021.06.0,>=2021.05.0->pytorch_lightning==1.5.4->-r requirements.txt (line 7)) (1.2.0)\n",
            "Requirement already satisfied: async-timeout<5.0,>=4.0.0a3 in /usr/local/lib/python3.7/dist-packages (from aiohttp->fsspec[http]!=2021.06.0,>=2021.05.0->pytorch_lightning==1.5.4->-r requirements.txt (line 7)) (4.0.1)\n",
            "Requirement already satisfied: yarl<2.0,>=1.0 in /usr/local/lib/python3.7/dist-packages (from aiohttp->fsspec[http]!=2021.06.0,>=2021.05.0->pytorch_lightning==1.5.4->-r requirements.txt (line 7)) (1.7.2)\n",
            "Installing collected packages: transformers\n",
            "  Attempting uninstall: transformers\n",
            "    Found existing installation: transformers 4.8.2\n",
            "    Uninstalling transformers-4.8.2:\n",
            "      Successfully uninstalled transformers-4.8.2\n",
            "Successfully installed transformers-4.10.2\n"
          ]
        },
        {
          "output_type": "display_data",
          "data": {
            "application/vnd.colab-display-data+json": {
              "pip_warning": {
                "packages": [
                  "transformers"
                ]
              }
            }
          },
          "metadata": {}
        }
      ]
    },
    {
      "cell_type": "code",
      "metadata": {
        "id": "7nsqA1uEsVbt"
      },
      "source": [
        "import pandas as pd\n",
        "import numpy as np \n",
        "import yaml\n",
        "from ruamel.yaml.comments import  CommentedMap as OrderedDict, CommentedSeq as OrderedList\n",
        "from ruamel.yaml.main import round_trip_load as yaml_load, round_trip_dump as yaml_dump\n",
        "from ruamel.yaml import YAML"
      ],
      "id": "7nsqA1uEsVbt",
      "execution_count": null,
      "outputs": []
    },
    {
      "cell_type": "code",
      "metadata": {
        "colab": {
          "base_uri": "https://localhost:8080/",
          "height": 35
        },
        "id": "134f7Bx0N8lX",
        "outputId": "74c96702-f4ce-4998-d846-cac4cb322f01"
      },
      "source": [
        "import torch\n",
        "torch.__version__"
      ],
      "id": "134f7Bx0N8lX",
      "execution_count": 1,
      "outputs": [
        {
          "output_type": "execute_result",
          "data": {
            "application/vnd.google.colaboratory.intrinsic+json": {
              "type": "string"
            },
            "text/plain": [
              "'1.10.0+cu111'"
            ]
          },
          "metadata": {},
          "execution_count": 1
        }
      ]
    },
    {
      "cell_type": "code",
      "metadata": {
        "colab": {
          "base_uri": "https://localhost:8080/"
        },
        "id": "JCmBE-eKwJNX",
        "outputId": "1bde4c64-4bd7-4ce8-d37a-ce8eb2148998"
      },
      "source": [
        "pip install torchtext==0.11.0"
      ],
      "id": "JCmBE-eKwJNX",
      "execution_count": 8,
      "outputs": [
        {
          "output_type": "stream",
          "name": "stdout",
          "text": [
            "Requirement already satisfied: torchtext==0.11.0 in /usr/local/lib/python3.7/dist-packages (0.11.0)\n",
            "Requirement already satisfied: requests in /usr/local/lib/python3.7/dist-packages (from torchtext==0.11.0) (2.26.0)\n",
            "Requirement already satisfied: torch==1.10.0 in /usr/local/lib/python3.7/dist-packages (from torchtext==0.11.0) (1.10.0+cu111)\n",
            "Requirement already satisfied: numpy in /usr/local/lib/python3.7/dist-packages (from torchtext==0.11.0) (1.19.2)\n",
            "Requirement already satisfied: tqdm in /usr/local/lib/python3.7/dist-packages (from torchtext==0.11.0) (4.49.0)\n",
            "Requirement already satisfied: typing-extensions in /usr/local/lib/python3.7/dist-packages (from torch==1.10.0->torchtext==0.11.0) (3.10.0.2)\n",
            "Requirement already satisfied: certifi>=2017.4.17 in /usr/local/lib/python3.7/dist-packages (from requests->torchtext==0.11.0) (2021.10.8)\n",
            "Requirement already satisfied: charset-normalizer~=2.0.0 in /usr/local/lib/python3.7/dist-packages (from requests->torchtext==0.11.0) (2.0.8)\n",
            "Requirement already satisfied: idna<4,>=2.5 in /usr/local/lib/python3.7/dist-packages (from requests->torchtext==0.11.0) (2.10)\n",
            "Requirement already satisfied: urllib3<1.27,>=1.21.1 in /usr/local/lib/python3.7/dist-packages (from requests->torchtext==0.11.0) (1.26.7)\n"
          ]
        }
      ]
    },
    {
      "cell_type": "code",
      "metadata": {
        "id": "ZuJuclwiwgEZ"
      },
      "source": [
        "config = {\"roberta_base\":\n",
        "          {\"model_name\": \"deepset/roberta-base-squad2\",\n",
        "           \"gpus\":1,\n",
        "           \"batch_size\":16,\n",
        "           \"max_epochs\":6,\n",
        "           \"lr\":\"0.00005\",\n",
        "           \"weight_decay\": 0.1,\n",
        "           \"val_check_interval\":5,\n",
        "           \"kl_loss\": True,\n",
        "           \"swa\": True\n",
        "          }} \n",
        "\n",
        "yml = YAML()\n",
        "\n",
        "# print(yaml_dump(shopping_list))\n",
        "with open(r'hyperparams.yml', 'wb') as file:\n",
        "    documents = yml.dump(config, file)"
      ],
      "id": "ZuJuclwiwgEZ",
      "execution_count": null,
      "outputs": []
    },
    {
      "cell_type": "markdown",
      "metadata": {
        "id": "ZD9PyELAAVBL"
      },
      "source": [
        "#### Utils"
      ],
      "id": "ZD9PyELAAVBL"
    },
    {
      "cell_type": "code",
      "metadata": {
        "id": "Fg0fODWbAJlu"
      },
      "source": [
        "def add_weight_decay(model, weight_decay=1e-5, skip_list=()):\n",
        "    decay = []\n",
        "    no_decay = []\n",
        "    for name, param in model.named_parameters():\n",
        "        if not param.requires_grad:\n",
        "            continue\n",
        "        if len(param.shape) == 1 or any(s in name for s in skip_list):\n",
        "            no_decay.append(param)\n",
        "        else:\n",
        "            decay.append(param)\n",
        "    return [\n",
        "        {\"params\": no_decay, \"weight_decay\": 0.0},\n",
        "        {\"params\": decay, \"weight_decay\": weight_decay},\n",
        "    ]\n",
        "\n",
        "\n",
        "def get_optimizer_params(model, type=\"s\"):\n",
        "    # differential learning rate and weight decay\n",
        "    param_optimizer = list(model.named_parameters())\n",
        "    learning_rate = 5e-5\n",
        "    no_decay = [\"bias\", \"gamma\", \"beta\"]\n",
        "    if type == \"s\":\n",
        "        optimizer_parameters = filter(lambda x: x.requires_grad, model.parameters())\n",
        "    elif type == \"i\":\n",
        "\n",
        "        optimizer_parameters = [\n",
        "            {\n",
        "                \"params\": [\n",
        "                    p\n",
        "                    for n, p in model.transformer.named_parameters()\n",
        "                    if not any(nd in n for nd in no_decay)\n",
        "                ],\n",
        "                \"weight_decay_rate\": 0.01,\n",
        "            },\n",
        "            {\n",
        "                \"params\": [\n",
        "                    p\n",
        "                    for n, p in model.transformer.named_parameters()\n",
        "                    if any(nd in n for nd in no_decay)\n",
        "                ],\n",
        "                \"weight_decay_rate\": 0.0,\n",
        "            },\n",
        "            {\n",
        "                \"params\": [\n",
        "                    p for n, p in model.named_parameters() if \"transformer\" not in n\n",
        "                ],\n",
        "                \"lr\": 1e-3,\n",
        "                \"weight_decay_rate\": 0.01,\n",
        "            },\n",
        "        ]\n",
        "    elif type == \"a\":\n",
        "        group1 = [\"layer.0.\", \"layer.1.\", \"layer.2.\", \"layer.3.\"]\n",
        "        group2 = [\"layer.4.\", \"layer.5.\", \"layer.6.\", \"layer.7.\"]\n",
        "        group3 = [\"layer.8.\", \"layer.9.\", \"layer.10.\", \"layer.11.\"]\n",
        "        group_all = [\n",
        "            \"layer.0.\",\n",
        "            \"layer.1.\",\n",
        "            \"layer.2.\",\n",
        "            \"layer.3.\",\n",
        "            \"layer.4.\",\n",
        "            \"layer.5.\",\n",
        "            \"layer.6.\",\n",
        "            \"layer.7.\",\n",
        "            \"layer.8.\",\n",
        "            \"layer.9.\",\n",
        "            \"layer.10.\",\n",
        "            \"layer.11.\",\n",
        "        ]\n",
        "        optimizer_parameters = [\n",
        "            {\n",
        "                \"params\": [\n",
        "                    p\n",
        "                    for n, p in model.transformer.named_parameters()\n",
        "                    if not any(nd in n for nd in no_decay)\n",
        "                    and not any(nd in n for nd in group_all)\n",
        "                ],\n",
        "                \"weight_decay_rate\": 0.01,\n",
        "            },\n",
        "            {\n",
        "                \"params\": [\n",
        "                    p\n",
        "                    for n, p in model.transformer.named_parameters()\n",
        "                    if not any(nd in n for nd in no_decay)\n",
        "                    and any(nd in n for nd in group1)\n",
        "                ],\n",
        "                \"weight_decay_rate\": 0.01,\n",
        "                \"lr\": learning_rate / 2.6,\n",
        "            },\n",
        "            {\n",
        "                \"params\": [\n",
        "                    p\n",
        "                    for n, p in model.transformer.named_parameters()\n",
        "                    if not any(nd in n for nd in no_decay)\n",
        "                    and any(nd in n for nd in group2)\n",
        "                ],\n",
        "                \"weight_decay_rate\": 0.01,\n",
        "                \"lr\": learning_rate,\n",
        "            },\n",
        "            {\n",
        "                \"params\": [\n",
        "                    p\n",
        "                    for n, p in model.transformer.named_parameters()\n",
        "                    if not any(nd in n for nd in no_decay)\n",
        "                    and any(nd in n for nd in group3)\n",
        "                ],\n",
        "                \"weight_decay_rate\": 0.01,\n",
        "                \"lr\": learning_rate * 2.6,\n",
        "            },\n",
        "            {\n",
        "                \"params\": [\n",
        "                    p\n",
        "                    for n, p in model.transformer.named_parameters()\n",
        "                    if any(nd in n for nd in no_decay)\n",
        "                    and not any(nd in n for nd in group_all)\n",
        "                ],\n",
        "                \"weight_decay_rate\": 0.0,\n",
        "            },\n",
        "            {\n",
        "                \"params\": [\n",
        "                    p\n",
        "                    for n, p in model.transformer.named_parameters()\n",
        "                    if any(nd in n for nd in no_decay) and any(nd in n for nd in group1)\n",
        "                ],\n",
        "                \"weight_decay_rate\": 0.0,\n",
        "                \"lr\": learning_rate / 2.6,\n",
        "            },\n",
        "            {\n",
        "                \"params\": [\n",
        "                    p\n",
        "                    for n, p in model.transformer.named_parameters()\n",
        "                    if any(nd in n for nd in no_decay) and any(nd in n for nd in group2)\n",
        "                ],\n",
        "                \"weight_decay_rate\": 0.0,\n",
        "                \"lr\": learning_rate,\n",
        "            },\n",
        "            {\n",
        "                \"params\": [\n",
        "                    p\n",
        "                    for n, p in model.transformer.named_parameters()\n",
        "                    if any(nd in n for nd in no_decay) and any(nd in n for nd in group3)\n",
        "                ],\n",
        "                \"weight_decay_rate\": 0.0,\n",
        "                \"lr\": learning_rate * 2.6,\n",
        "            },\n",
        "            {\n",
        "                \"params\": [\n",
        "                    p for n, p in model.named_parameters() if \"transformer\" not in n\n",
        "                ],\n",
        "                \"lr\": 1e-3,\n",
        "                # \"momentum\": 0.99,\n",
        "            },\n",
        "        ]\n",
        "    return optimizer_parameters"
      ],
      "id": "Fg0fODWbAJlu",
      "execution_count": 3,
      "outputs": []
    },
    {
      "cell_type": "markdown",
      "metadata": {
        "id": "cQlF4Y-G-1eT"
      },
      "source": [
        "#### CommonLitModel"
      ],
      "id": "cQlF4Y-G-1eT"
    },
    {
      "cell_type": "code",
      "metadata": {
        "id": "e3fGHPDR-tYy"
      },
      "source": [
        "import pytorch_lightning as pl\n",
        "import torch\n",
        "import torch.nn as nn\n",
        "import wandb\n",
        "from transformers import AutoConfig, AutoModel, AdamW, get_cosine_schedule_with_warmup\n",
        "from pathlib import Path\n",
        "\n",
        "COMP_NAME = \"commonlitreadabilityprize\"\n",
        "\n",
        "INPUT_PATH = Path(f\"input_data/{COMP_NAME}/\")\n",
        "OUTPUT_PATH = Path(f\"output/{COMP_NAME}/\")\n",
        "CONFIG_PATH = Path(f\"{COMP_NAME}/hyperparams.yml\")\n",
        "MODEL_CACHE = Path(\"model_cache/\")\n",
        "\n",
        "\n",
        "\n",
        "\n",
        "class AttentionBlock(nn.Module):\n",
        "    def __init__(self, in_features, middle_features, out_features):\n",
        "        super().__init__()\n",
        "        self.in_features = in_features\n",
        "        self.middle_features = middle_features\n",
        "        self.out_features = out_features\n",
        "        self.W = nn.Linear(in_features, middle_features)\n",
        "        self.V = nn.Linear(middle_features, out_features)\n",
        "\n",
        "    def forward(self, features):\n",
        "        att = torch.tanh(self.W(features))\n",
        "        score = self.V(att)\n",
        "        attention_weights = torch.softmax(score, dim=1)\n",
        "        context_vector = attention_weights * features\n",
        "        context_vector = torch.sum(context_vector, dim=1)\n",
        "        return context_vector\n",
        "\n",
        "\n",
        "class CommonLitModel(pl.LightningModule):\n",
        "    def __init__(\n",
        "        self,\n",
        "        model_name: str = \"roberta-base\",\n",
        "        lr: float = 0.001,\n",
        "        weight_decay: float = 0,\n",
        "        pretrained: bool = False,\n",
        "        betas: tuple = (0.9, 0.999),\n",
        "        eps: float = 1e-6,\n",
        "        kl_loss: bool = False,\n",
        "        warmup: int = 100,\n",
        "        hf_config=None,\n",
        "        pooled: bool = False,\n",
        "        use_hidden: bool = False,\n",
        "        **kwargs,\n",
        "    ):\n",
        "        super().__init__()\n",
        "        self.save_hyperparameters()\n",
        "\n",
        "        if hf_config is None:\n",
        "            if pretrained:\n",
        "                model_path = OUTPUT_PATH / \"pretraining\" / model_name\n",
        "                print(\"Using pretrained from\", model_path)\n",
        "                self.config = AutoConfig.from_pretrained(model_name)\n",
        "                self.transformer = AutoModel.from_pretrained(\n",
        "                    model_path, output_hidden_states=True\n",
        "                )\n",
        "            else:\n",
        "                self.config = AutoConfig.from_pretrained(\n",
        "                    model_name,\n",
        "                    cache_dir=MODEL_CACHE / model_name,\n",
        "                )\n",
        "                self.transformer = AutoModel.from_pretrained(\n",
        "                    model_name,\n",
        "                    cache_dir=MODEL_CACHE / model_name,\n",
        "                    output_hidden_states=True,\n",
        "                )\n",
        "        else:\n",
        "            self.config = hf_config\n",
        "            self.config.output_hidden_states = True\n",
        "            self.transformer = AutoModel.from_config(hf_config)\n",
        "\n",
        "        # self.layer_norm = nn.LayerNorm(self.config.hidden_size)\n",
        "        # Multi sample Dropout\n",
        "        # self.dropouts = nn.ModuleList([nn.Dropout(0.5) for _ in range(5)])\n",
        "        # self.regressor = nn.Linear(self.config.hidden_size, 2)\n",
        "\n",
        "        if use_hidden:\n",
        "            n_hidden = self.config.hidden_size * 2\n",
        "        else:\n",
        "            n_hidden = self.config.hidden_size\n",
        "\n",
        "        self.seq_attn_head = nn.Sequential(\n",
        "            nn.LayerNorm(n_hidden),\n",
        "            # nn.Dropout(0.1),\n",
        "            AttentionBlock(n_hidden, n_hidden, 1),\n",
        "            # nn.Dropout(0.1),\n",
        "            # nn.Linear(self.config.hidden_size, 2 if kl_loss else 1),\n",
        "        )\n",
        "\n",
        "        self.regressor = nn.Linear(n_hidden + 2, 2 if kl_loss else 1)\n",
        "\n",
        "        self.loss_fn = nn.MSELoss()\n",
        "\n",
        "    def forward(self, features, **kwargs):\n",
        "        # out = self.transformer(**kwargs)[\"logits\"]\n",
        "\n",
        "        model_out = self.transformer(**kwargs)  # 0=seq_output, 1=pooler_output\n",
        "        # x = self.layer_norm(x)\n",
        "        # for i, dropout in enumerate(self.dropouts):\n",
        "        #     if i == 0:\n",
        "        #         out = self.regressor(dropout(x))\n",
        "        #     else:\n",
        "        #         out += self.regressor(dropout(x))\n",
        "        # out /= len(self.dropouts)\n",
        "\n",
        "        if self.hparams.use_hidden:\n",
        "            states = model_out[2]\n",
        "            out = torch.stack(\n",
        "                tuple(states[-i - 1] for i in range(self.config.num_hidden_layers)),\n",
        "                dim=0,\n",
        "            )\n",
        "            out_mean = torch.mean(out, dim=0)\n",
        "            out_max, _ = torch.max(out, dim=0)\n",
        "            out = torch.cat((out_mean, out_max), dim=-1)\n",
        "        else:\n",
        "            out = model_out[0]\n",
        "\n",
        "        out = self.seq_attn_head(out)\n",
        "        out = torch.cat([out, features], -1)\n",
        "        out = self.regressor(out)\n",
        "\n",
        "        if out.shape[1] == 1:\n",
        "            return out, None\n",
        "        else:\n",
        "            mean = out[:, 0].view(-1, 1)\n",
        "            log_var = out[:, 1].view(-1, 1)\n",
        "            return mean, log_var\n",
        "\n",
        "    def training_step(self, batch, batch_idx):\n",
        "        inputs, labels, features = batch\n",
        "        mean, log_var = self.forward(features, **inputs)\n",
        "        if self.hparams.kl_loss:\n",
        "            p = torch.distributions.Normal(mean, torch.exp(log_var))\n",
        "            q = torch.distributions.Normal(labels[\"target\"], labels[\"error\"])\n",
        "            loss = torch.distributions.kl_divergence(p, q).mean()\n",
        "        else:\n",
        "            loss = self.loss_fn(mean, labels[\"target\"])\n",
        "        self.log_dict({\"loss/train_step\": loss})\n",
        "        return {\"loss\": loss}\n",
        "\n",
        "    def training_epoch_end(self, training_step_outputs):\n",
        "        avg_loss = torch.stack([x[\"loss\"] for x in training_step_outputs]).mean()\n",
        "        self.log(\"loss/train\", avg_loss, sync_dist=True)\n",
        "\n",
        "    def validation_step(self, batch, batch_idx):\n",
        "        inputs, labels, features = batch\n",
        "        mean, log_var = self.forward(features, **inputs)\n",
        "        if self.hparams.kl_loss:\n",
        "            p = torch.distributions.Normal(mean, torch.exp(log_var))\n",
        "            q = torch.distributions.Normal(labels[\"target\"], labels[\"error\"])\n",
        "            loss = torch.distributions.kl_divergence(p, q).mean()\n",
        "        else:\n",
        "            loss = self.loss_fn(mean, labels[\"target\"])\n",
        "\n",
        "        return {\n",
        "            \"val_loss\": loss,\n",
        "            \"y_pred\": mean,\n",
        "            \"y_true\": labels[\"target\"],\n",
        "        }\n",
        "\n",
        "    def validation_epoch_end(self, outputs):\n",
        "        loss_val = torch.stack([x[\"val_loss\"] for x in outputs]).mean()\n",
        "        y_pred = torch.cat([x[\"y_pred\"] for x in outputs])\n",
        "        y_true = torch.cat([x[\"y_true\"] for x in outputs])\n",
        "\n",
        "        rmse = torch.sqrt(self.loss_fn(y_pred, y_true))\n",
        "\n",
        "        self.log_dict(\n",
        "            {\n",
        "                \"loss/valid\": loss_val,\n",
        "                \"rmse\": rmse,\n",
        "            },\n",
        "            prog_bar=True,\n",
        "            sync_dist=True,\n",
        "        )\n",
        "\n",
        "    # learning rate warm-up\n",
        "    def optimizer_step(\n",
        "        self,\n",
        "        epoch,\n",
        "        batch_idx,\n",
        "        optimizer,\n",
        "        optimizer_idx,\n",
        "        optimizer_closure,\n",
        "        on_tpu=False,\n",
        "        using_native_amp=False,\n",
        "        using_lbfgs=False,\n",
        "    ):\n",
        "        # Warm-up the first 100 steps\n",
        "        if self.trainer.global_step < self.hparams.warmup:\n",
        "            lr_scale = min(\n",
        "                1.0, float(self.trainer.global_step + 1) / self.hparams.warmup\n",
        "            )\n",
        "            for pg in optimizer.param_groups:\n",
        "                pg[\"lr\"] = lr_scale * self.hparams.lr\n",
        "\n",
        "        # update params\n",
        "        optimizer.step(closure=optimizer_closure)\n",
        "\n",
        "    def configure_optimizers(self):\n",
        "        parameters = add_weight_decay(\n",
        "            self,\n",
        "            self.hparams.weight_decay,\n",
        "            skip_list=[\"bias\", \"LayerNorm.bias\", \"LayerNorm.weight\"],\n",
        "        )\n",
        "\n",
        "        # parameters = get_optimizer_params(self, \"a\")\n",
        "\n",
        "        # parameters = [\n",
        "        #     {\n",
        "        #         \"params\": self.transformer.parameters(),\n",
        "        #         \"weight_decay\": 0,\n",
        "        #         \"lr\": self.hparams.lr,\n",
        "        #     },\n",
        "        #     {\n",
        "        #         \"params\": [\n",
        "        #             p for n, p in self.named_parameters() if \"transformer\" not in n\n",
        "        #         ],\n",
        "        #         \"weight_decay\": self.hparams.weight_decay,\n",
        "        #         \"lr\": 1e-3,\n",
        "        #     },\n",
        "        # ]\n",
        "\n",
        "        opt = AdamW(\n",
        "            parameters,\n",
        "            lr=self.hparams.lr,\n",
        "            betas=self.hparams.betas,\n",
        "            eps=self.hparams.eps,\n",
        "        )\n",
        "\n",
        "        sch = torch.optim.lr_scheduler.CosineAnnealingLR(\n",
        "            opt, T_max=1000, eta_min=self.hparams.lr / 10\n",
        "        )\n",
        "\n",
        "        return {\n",
        "            \"optimizer\": opt,\n",
        "            \"lr_scheduler\": {\"scheduler\": sch, \"interval\": \"step\"},\n",
        "        }"
      ],
      "id": "e3fGHPDR-tYy",
      "execution_count": 4,
      "outputs": []
    },
    {
      "cell_type": "markdown",
      "metadata": {
        "id": "lx77E83MBvzn"
      },
      "source": [
        "#### Dataset"
      ],
      "id": "lx77E83MBvzn"
    },
    {
      "cell_type": "code",
      "metadata": {
        "id": "-_WERf6dBttx"
      },
      "source": [
        "from logging import error\n",
        "from numpy.core.fromnumeric import std\n",
        "import pytorch_lightning as pl\n",
        "import torch\n",
        "import numpy as np\n",
        "import pandas as pd\n",
        "import textstat\n",
        "from torch.utils.data import DataLoader, Dataset\n",
        "from transformers import AutoTokenizer\n",
        "from sklearn.model_selection import StratifiedKFold\n",
        "\n",
        "\n",
        "# https://www.kaggle.com/abhishek/step-1-create-folds\n",
        "def create_folds(data, n_splits, random_state=None):\n",
        "    # we create a new column called fold and fill it with -1\n",
        "    data[\"fold\"] = -1\n",
        "\n",
        "    # the next step is to randomize the rows of the data\n",
        "    data = data.sample(frac=1, random_state=random_state).reset_index(drop=True)\n",
        "\n",
        "    # calculate number of bins by Sturge's rule\n",
        "    # I take the floor of the value, you can also\n",
        "    # just round it\n",
        "    num_bins = int(np.floor(1 + np.log2(len(data))))\n",
        "\n",
        "    # bin targets\n",
        "    data.loc[:, \"bins\"] = pd.cut(data[\"target\"], bins=num_bins, labels=False)\n",
        "\n",
        "    # initiate the kfold class from model_selection module\n",
        "    kf = StratifiedKFold(n_splits=n_splits, shuffle=True, random_state=random_state)\n",
        "\n",
        "    # fill the new kfold column\n",
        "    # note that, instead of targets, we use bins!\n",
        "    for f, (t_, v_) in enumerate(kf.split(X=data, y=data.bins.values)):\n",
        "        data.loc[v_, \"fold\"] = f\n",
        "\n",
        "    # drop the bins column\n",
        "    data = data.drop(\"bins\", axis=1)\n",
        "\n",
        "    # return dataframe with folds\n",
        "    return data\n",
        "\n",
        "\n",
        "class CommonLitDataset(Dataset):\n",
        "    def __init__(self, df, tokenizer, max_len=256):\n",
        "        self.df = df.reset_index(drop=True)\n",
        "        self.excerpt = self.df[\"excerpt\"]\n",
        "        self.tokenizer = tokenizer\n",
        "        self.max_len = max_len\n",
        "\n",
        "    def __len__(self):\n",
        "        return len(self.excerpt)\n",
        "\n",
        "    def __getitem__(self, index):\n",
        "        row = self.df.loc[index]\n",
        "        inputs = self.tokenizer(\n",
        "            str(row[\"excerpt\"]),\n",
        "            max_length=self.max_len,\n",
        "            padding=\"max_length\",\n",
        "            truncation=True,\n",
        "            add_special_tokens=True  # not sure what this does\n",
        "        )\n",
        "\n",
        "        input_dict = {\n",
        "            \"input_ids\": torch.tensor(inputs[\"input_ids\"], dtype=torch.long),\n",
        "            \"attention_mask\": torch.tensor(inputs[\"attention_mask\"], dtype=torch.long),\n",
        "        }\n",
        "\n",
        "        if \"target\" in self.df.columns:\n",
        "            labels = {\n",
        "                \"target\": torch.tensor([row[\"target\"]], dtype=torch.float32),\n",
        "                \"error\": torch.tensor([row[\"standard_error\"]], dtype=torch.float32),\n",
        "            }\n",
        "\n",
        "            # For id 436ce79fe\n",
        "            if labels[\"error\"] <= 0:\n",
        "                labels[\"error\"] += 0.5\n",
        "\n",
        "            labels[\"target_stoch\"] = torch.normal(\n",
        "                mean=labels[\"target\"], std=labels[\"error\"]\n",
        "            )\n",
        "        else:\n",
        "            labels = 0\n",
        "\n",
        "        # Add addtional features\n",
        "        features = self.generate_features(str(row[\"excerpt\"]))\n",
        "\n",
        "        return input_dict, labels, features\n",
        "\n",
        "    def generate_features(self, text):\n",
        "        means = torch.tensor([67.742121, 10.308363])\n",
        "        stds = torch.tensor([17.530230, 3.298237])\n",
        "        features = torch.tensor(\n",
        "            [\n",
        "                # textstat.sentence_count(text),\n",
        "                # textstat.lexicon_count(text),\n",
        "                textstat.flesch_reading_ease(text),\n",
        "                textstat.smog_index(text),\n",
        "            ]\n",
        "        )\n",
        "        return (features - means) / stds\n",
        "\n",
        "\n",
        "class CommonLitDataModule(pl.LightningDataModule):\n",
        "    def __init__(\n",
        "        self,\n",
        "        batch_size: int = 32,\n",
        "        model_name: str = \"roberta-base\",\n",
        "        max_len: int = 256,\n",
        "        seed: int = 48,\n",
        "        folds: int = 5,\n",
        "        num_workers: int = 16,\n",
        "    ):\n",
        "        super().__init__()\n",
        "        self.tokenizer = AutoTokenizer.from_pretrained(\n",
        "            model_name,\n",
        "            cache_dir=MODEL_CACHE / model_name,\n",
        "        )\n",
        "        self.tokenizer.add_special_tokens({'pad_token': '[PAD]'})\n",
        "        self.batch_size = batch_size\n",
        "        self.max_len = max_len\n",
        "        self.num_workers = num_workers\n",
        "        self.df = pd.read_csv(INPUT_PATH / \"train.csv\")\n",
        "        self.df = create_folds(self.df, folds, seed)\n",
        "\n",
        "    def setup(self, stage=None, fold_n: int = 0):\n",
        "        trn_df = self.df.query(f\"fold != {fold_n}\")\n",
        "        val_df = self.df.query(f\"fold == {fold_n}\")\n",
        "\n",
        "        if stage == \"fit\" or stage is None:\n",
        "            self.clr_train = CommonLitDataset(trn_df, self.tokenizer, self.max_len)\n",
        "            self.clr_valid = CommonLitDataset(val_df, self.tokenizer, self.max_len)\n",
        "\n",
        "    def train_dataloader(self):\n",
        "        return DataLoader(\n",
        "            self.clr_train,\n",
        "            batch_size=self.batch_size,\n",
        "            num_workers=self.num_workers,\n",
        "            shuffle=True,\n",
        "            drop_last=True,\n",
        "            pin_memory=True,\n",
        "        )\n",
        "\n",
        "    def val_dataloader(self):\n",
        "        return DataLoader(\n",
        "            self.clr_valid,\n",
        "            batch_size=128,\n",
        "            num_workers=self.num_workers,\n",
        "            pin_memory=True,\n",
        "        )"
      ],
      "id": "-_WERf6dBttx",
      "execution_count": 5,
      "outputs": []
    },
    {
      "cell_type": "markdown",
      "metadata": {
        "id": "dmeBThJcCvSZ"
      },
      "source": [
        "#### Training "
      ],
      "id": "dmeBThJcCvSZ"
    },
    {
      "cell_type": "code",
      "metadata": {
        "id": "N4Gp8Ae-Tcvy"
      },
      "source": [
        "torch.hub.list(\"pytorch/vision\")"
      ],
      "id": "N4Gp8Ae-Tcvy",
      "execution_count": null,
      "outputs": []
    },
    {
      "cell_type": "markdown",
      "metadata": {
        "id": "98GQ3mdcY7ii"
      },
      "source": [
        "##### Config"
      ],
      "id": "98GQ3mdcY7ii"
    },
    {
      "cell_type": "code",
      "metadata": {
        "id": "_4aaLOKBUK3Y"
      },
      "source": [
        "import gc\n",
        "import os\n",
        "from argparse import ArgumentParser\n",
        "from datetime import datetime\n",
        "\n",
        "import numpy as np\n",
        "import torch\n",
        "import torch.nn as nn\n",
        "import yaml\n",
        "from coolname import generate_slug\n",
        "from pytorch_lightning.callbacks import (\n",
        "    EarlyStopping,\n",
        "    LearningRateMonitor,\n",
        "    ModelCheckpoint,\n",
        ")\n",
        "from pytorch_lightning.loggers import NeptuneLogger, TensorBoardLogger, WandbLogger\n",
        "\n",
        "\n",
        "\n",
        "def prepare_args(config_path=CONFIG_PATH, default_config=\"deberta_base\"):\n",
        "    parser = ArgumentParser()\n",
        "\n",
        "    parser.add_argument(\n",
        "        \"--config\",\n",
        "        action=\"store\",\n",
        "        dest=\"config\",\n",
        "        help=\"Configuration scheme\",\n",
        "        default=default_config,\n",
        "    )\n",
        "\n",
        "    # parser.add_argument(\n",
        "    #     \"--gpus\",\n",
        "    #     action=\"store\",\n",
        "    #     dest=\"gpus\",\n",
        "    #     help=\"Number of GPUs\",\n",
        "    #     default=2,\n",
        "    #     type=int,\n",
        "    # )\n",
        "\n",
        "    parser.add_argument(\n",
        "        \"--timestamp\",\n",
        "        action=\"store\",\n",
        "        dest=\"timestamp\",\n",
        "        help=\"Timestamp for versioning\",\n",
        "        default=str(datetime.now().strftime(\"%Y%m%d-%H%M%S\")),\n",
        "        type=str,\n",
        "    )\n",
        "\n",
        "    parser.add_argument(\n",
        "        \"--fold\",\n",
        "        action=\"store\",\n",
        "        dest=\"fold\",\n",
        "        help=\"Fold number\",\n",
        "        default=1,\n",
        "        type=int,\n",
        "    )\n",
        "\n",
        "    parser.add_argument(\n",
        "        \"--seed\",\n",
        "        action=\"store\",\n",
        "        dest=\"seed\",\n",
        "        help=\"Random seed\",\n",
        "        default=48,\n",
        "        type=int,\n",
        "    )\n",
        "\n",
        "    parser.add_argument(\n",
        "        \"--slug\",\n",
        "        action=\"store\",\n",
        "        dest=\"slug\",\n",
        "        help=\"Human rememebrable run group\",\n",
        "        default=generate_slug(3),\n",
        "        type=str,\n",
        "    )\n",
        "\n",
        "    parser.add_argument(\n",
        "        \"--logging\",\n",
        "        dest=\"logging\",\n",
        "        action=\"store_true\",\n",
        "        help=\"Flag to log to WandB (on by default)\",\n",
        "    )\n",
        "\n",
        "    parser.add_argument(\n",
        "        \"--no-logging\",\n",
        "        dest=\"logging\",\n",
        "        action=\"store_false\",\n",
        "        help=\"Flag to prevent logging\",\n",
        "    )\n",
        "    parser.set_defaults(logging=True)\n",
        "\n",
        "    args = parser.parse_args(\"\")\n",
        "\n",
        "    # Lookup the config from the YAML file and set args\n",
        "    with open(config_path, \"r\") as ymlfile:\n",
        "        cfg = yaml.load(ymlfile, Loader=yaml.FullLoader)\n",
        "\n",
        "        if args.config != default_config:\n",
        "            print(\"Using\", args.config, \"configuration\")\n",
        "\n",
        "        for k, v in cfg[args.config].items():\n",
        "            setattr(args, k, v)\n",
        "\n",
        "    return args\n",
        "\n",
        "\n",
        "def resume_helper(args):\n",
        "    \"\"\"\n",
        "    To resume a run, add this to the YAML/args:\n",
        "    checkpoint: \"20210510-161949\"\n",
        "    wandb_id: 3j79kxq6\n",
        "    Args:\n",
        "        args ([type]): [description]\n",
        "    Returns:\n",
        "        [type]: [description]\n",
        "    \"\"\"\n",
        "    if hasattr(args, \"checkpoint\"):\n",
        "        paths = (\n",
        "            OUTPUT_PATH / args.checkpoint / args.encoder / f\"fold_{args.fold - 1}\"\n",
        "        ).glob(\"*.*loss.ckpt\")\n",
        "        resume = list(paths)[0]\n",
        "\n",
        "        if hasattr(args, \"wandb_id\"):\n",
        "            run_id = args.wandb_id\n",
        "        else:\n",
        "            print(\"No wandb_id provided. Logging as new run\")\n",
        "            run_id = None\n",
        "    else:\n",
        "        resume = None\n",
        "        run_id = None\n",
        "\n",
        "    return resume, run_id\n",
        "\n",
        "\n",
        "def prepare_loggers_and_callbacks(\n",
        "    timestamp,\n",
        "    encoder_name,\n",
        "    fold,\n",
        "    monitors=[],\n",
        "    patience=None,\n",
        "    tensorboard=False,\n",
        "    wandb=False,\n",
        "    neptune=False,\n",
        "    run_id=None,\n",
        "    save_weights_only=False,\n",
        "):\n",
        "    \"\"\"\n",
        "    Utility function to prepare loggers and callbacks\n",
        "    Args:\n",
        "        timestamp (str): Timestamp for folder name\n",
        "        encoder_name (str): encoder_name for folder name\n",
        "        fold (int): Fold number for folder nesting\n",
        "        monitors (list, optional): For multiple monitors for ModelCheckpoint.\n",
        "        patience (int, optional): patience for EarlyStopping\n",
        "        List of tuples in form [(monitor, mode, suffix), ...],\n",
        "        Defaults to [].\n",
        "        tensorboard (bool): Flag to use Tensorboard logger\n",
        "        wandb (bool): Flag to use Weight and Biases logger\n",
        "        neptune (bool): Flag to use Neptune logger\n",
        "    Returns:\n",
        "        [type]: [description]\n",
        "    \"\"\"\n",
        "    save_path = OUTPUT_PATH / timestamp\n",
        "\n",
        "    callbacks = [LearningRateMonitor(logging_interval=\"epoch\")]\n",
        "\n",
        "    if \"/\" in encoder_name:\n",
        "        encoder_name = encoder_name.replace(\"/\", \"_\")\n",
        "\n",
        "    if patience:\n",
        "        callbacks.append(EarlyStopping(\"loss/valid\", patience=patience))\n",
        "\n",
        "    for monitor, mode, suffix in monitors:\n",
        "\n",
        "        if suffix is not None and suffix != \"\":\n",
        "            filename = \"{epoch:02d}-{rmse:.4f}\" + f\"_{suffix}\"\n",
        "        else:\n",
        "            filename = \"{epoch:02d}-{rmse:.4f}\"\n",
        "\n",
        "        checkpoint = ModelCheckpoint(\n",
        "            dirpath=save_path / encoder_name / f\"fold_{fold}\",\n",
        "            filename=filename,\n",
        "            monitor=monitor,\n",
        "            mode=mode,\n",
        "            save_weights_only=save_weights_only,\n",
        "        )\n",
        "        callbacks.append(checkpoint)\n",
        "\n",
        "    loggers = []\n",
        "\n",
        "    if tensorboard:\n",
        "        tb_logger = TensorBoardLogger(\n",
        "            save_dir=save_path,\n",
        "            name=encoder_name,\n",
        "            version=f\"fold_{fold}\",\n",
        "        )\n",
        "        loggers.append(tb_logger)\n",
        "\n",
        "    if wandb:\n",
        "        wandb_logger = WandbLogger(\n",
        "            name=f\"{timestamp}/fold{fold}\",\n",
        "            save_dir=OUTPUT_PATH,\n",
        "            project=COMP_NAME,\n",
        "            id=run_id,\n",
        "        )\n",
        "        loggers.append(wandb_logger)\n",
        "\n",
        "    if neptune:\n",
        "        neptune_logger = NeptuneLogger(\n",
        "            api_key=os.environ[\"NEPTUNE_API_TOKEN\"],\n",
        "            project_name=f\"anjum48/{COMP_NAME}\",\n",
        "            experiment_name=f\"{timestamp}-fold{fold}\",\n",
        "        )\n",
        "        loggers.append(neptune_logger)\n",
        "\n",
        "    return loggers, callbacks\n",
        "\n",
        "\n",
        "def memory_cleanup():\n",
        "    \"\"\"\n",
        "    Cleans up GPU memory. Call after a fold is trained.\n",
        "    https://github.com/huggingface/transformers/issues/1742\n",
        "    \"\"\"\n",
        "    for obj in gc.get_objects():\n",
        "        if torch.is_tensor(obj):\n",
        "            del obj\n",
        "    gc.collect()\n",
        "    torch.cuda.empty_cache()\n",
        "\n",
        "\n",
        "def mixup_data(x, y, alpha=1.0):\n",
        "    \"\"\"Returns mixed inputs, pairs of targets, and lambda\"\"\"\n",
        "    lam = np.random.beta(alpha, alpha)\n",
        "    batch_size = x.size()[0]\n",
        "    index = torch.randperm(batch_size, requires_grad=False).to(x.device)\n",
        "\n",
        "    mixed_x = lam * x + (1 - lam) * x[index, :]\n",
        "    y_a, y_b = y, y[index]\n",
        "    return mixed_x, y_a, y_b, lam\n",
        "\n",
        "\n",
        "def mixup_data_multiobjective(x, y1, y2, alpha=1.0):\n",
        "    \"\"\"Returns mixed inputs, pairs of targets, and lambda\"\"\"\n",
        "    lam = np.random.beta(alpha, alpha)\n",
        "    batch_size = x.size()[0]\n",
        "    index = torch.randperm(batch_size, requires_grad=False).to(x.device)\n",
        "\n",
        "    mixed_x = lam * x + (1 - lam) * x[index, :]\n",
        "    y1_a, y1_b = y1, y1[index]\n",
        "    y2_a, y2_b = y2, y2[index]\n",
        "    return mixed_x, y1_a, y1_b, y2_a, y2_b, lam\n",
        "\n",
        "\n",
        "# https://github.com/clovaai/CutMix-PyTorch/blob/2d8eb68faff7fe4962776ad51d175c3b01a25734/train.py#L227-L238\n",
        "# https://arxiv.org/pdf/1905.04899.pdf\n",
        "def cutmix_data(x, y, alpha):\n",
        "    lam = np.random.beta(alpha, alpha)\n",
        "    rand_index = torch.randperm(x.shape[0]).to(x.device)\n",
        "    y_a = y\n",
        "    y_b = y[rand_index]\n",
        "    bbx1, bby1, bbx2, bby2 = rand_bbox(x.shape, lam)\n",
        "    x[:, :, bbx1:bbx2, bby1:bby2] = x[rand_index, :, bbx1:bbx2, bby1:bby2]\n",
        "    # adjust lambda to exactly match pixel ratio\n",
        "    lam = 1 - ((bbx2 - bbx1) * (bby2 - bby1) / (x.shape[-1] * x.shape[-2]))\n",
        "    return x, y_a, y_b, lam\n",
        "\n",
        "\n",
        "def rand_bbox(size, lam):\n",
        "    W = size[2]\n",
        "    H = size[3]\n",
        "    cut_rat = np.sqrt(1.0 - lam)\n",
        "    cut_w = np.int(W * cut_rat)\n",
        "    cut_h = np.int(H * cut_rat)\n",
        "\n",
        "    # uniform\n",
        "    cx = np.random.randint(W)\n",
        "    cy = np.random.randint(H)\n",
        "\n",
        "    bbx1 = np.clip(cx - cut_w // 2, 0, W)\n",
        "    bby1 = np.clip(cy - cut_h // 2, 0, H)\n",
        "    bbx2 = np.clip(cx + cut_w // 2, 0, W)\n",
        "    bby2 = np.clip(cy + cut_h // 2, 0, H)\n",
        "\n",
        "    return bbx1, bby1, bbx2, bby2\n",
        "\n",
        "\n",
        "# https://github.com/pytorch/pytorch/issues/21987#issuecomment-539402619\n",
        "def nanmean(v, *args, inplace=False, **kwargs):\n",
        "    if not inplace:\n",
        "        v = v.clone()\n",
        "    is_nan = torch.isnan(v)\n",
        "    is_inf = torch.isinf(v)\n",
        "    v[is_nan] = 0\n",
        "    v[is_inf] = 0\n",
        "    return v.sum(*args, **kwargs) / (~is_nan).float().sum(*args, **kwargs)\n",
        "\n",
        "\n",
        "def nanstd(v, *args, inplace=False, unbiased=True, **kwargs):\n",
        "    if not inplace:\n",
        "        v = v.clone()\n",
        "    is_nan = torch.isnan(v)\n",
        "    is_inf = torch.isinf(v)\n",
        "    v[is_nan] = 0\n",
        "    v[is_inf] = 0\n",
        "\n",
        "    mean = nanmean(v, *args, inplace=False, **kwargs)\n",
        "    numerator = ((v - mean) ** 2).sum(*args, **kwargs)\n",
        "    N = (~is_nan).float().sum(*args, **kwargs)\n",
        "\n",
        "    if unbiased:\n",
        "        N -= 1\n",
        "\n",
        "    return torch.sqrt(numerator / N)\n",
        "\n",
        "\n",
        "def nanstd_mean(v, *args, inplace=False, unbiased=True, **kwargs):\n",
        "    if not inplace:\n",
        "        v = v.clone()\n",
        "    is_nan = torch.isnan(v)\n",
        "    is_inf = torch.isinf(v)\n",
        "    v[is_nan] = 0\n",
        "    v[is_inf] = 0\n",
        "\n",
        "    mean = v.sum(*args, **kwargs) / (~is_nan).float().sum(*args, **kwargs)\n",
        "    numerator = ((v - mean) ** 2).sum(*args, **kwargs)\n",
        "    N = (~is_nan).float().sum(*args, **kwargs)\n",
        "\n",
        "    if unbiased:\n",
        "        N -= 1\n",
        "\n",
        "    std = torch.sqrt(numerator / N)\n",
        "    return std, mean\n"
      ],
      "id": "_4aaLOKBUK3Y",
      "execution_count": 6,
      "outputs": []
    },
    {
      "cell_type": "markdown",
      "metadata": {
        "id": "tBqhVxUjYzJl"
      },
      "source": [
        "##### Main"
      ],
      "id": "tBqhVxUjYzJl"
    },
    {
      "cell_type": "code",
      "metadata": {
        "id": "r71pRVMoCk7f"
      },
      "source": [
        "import pytorch_lightning as pl\n",
        "import torch\n",
        "from pytorch_lightning.callbacks import StochasticWeightAveraging\n",
        "from pytorch_lightning.plugins import DDPPlugin\n",
        "\n",
        "\n",
        "torch.hub.set_dir(MODEL_CACHE)\n",
        "\n",
        "\n",
        "def run_fold(fold: int, args):\n",
        "    pl.seed_everything(args.seed + fold)\n",
        "    resume, run_id = resume_helper(args)\n",
        "\n",
        "    monitor_list = [(\"rmse\", \"min\", None)]\n",
        "    loggers, callbacks = prepare_loggers_and_callbacks(\n",
        "        args.timestamp,\n",
        "        args.model_name,\n",
        "        fold,\n",
        "        monitors=monitor_list,\n",
        "        tensorboard=args.logging,\n",
        "        wandb=args.logging,\n",
        "        patience=None,\n",
        "        run_id=run_id,\n",
        "        save_weights_only=True,\n",
        "    )\n",
        "\n",
        "    if args.swa:\n",
        "        swa = StochasticWeightAveraging(swa_epoch_start=0.5)\n",
        "        callbacks.append(swa)\n",
        "\n",
        "    model = CommonLitModel(**args.__dict__)\n",
        "\n",
        "    trainer = pl.Trainer().from_argparse_args(\n",
        "        args,\n",
        "        logger=loggers,\n",
        "        callbacks=callbacks,\n",
        "        # plugins=DDPPlugin(find_unused_parameters=False),\n",
        "        resume_from_checkpoint=resume,\n",
        "        # fast_dev_run=True,\n",
        "        # auto_lr_find=True,\n",
        "    )\n",
        "\n",
        "    dm = CommonLitDataModule().from_argparse_args(args)\n",
        "    dm.setup(\"fit\", fold)\n",
        "\n",
        "    # Save tokenizer\n",
        "    folder = args.model_name\n",
        "    if \"/\" in folder:\n",
        "        folder = folder.replace(\"/\", \"_\")\n",
        "\n",
        "    save_path = OUTPUT_PATH / args.timestamp / folder / f\"fold_{fold}\"\n",
        "    dm.tokenizer.save_pretrained(save_path)\n",
        "    model.config.to_json_file(str(save_path / \"config.json\"))\n",
        "\n",
        "    # trainer.tune(model, datamodule=dm)  # Use with auto_lr_find\n",
        "    trainer.fit(model, datamodule=dm)\n",
        "\n",
        "\n",
        "if __name__ == \"__main__\":\n",
        "    args = prepare_args(default_config = \"gpt2\")\n",
        "    args.logging = False\n",
        "    args.fold = 1\n",
        "    # args.config = \"deberta_base\"\n",
        "    args.seed = 100\n",
        "    run_fold(args.fold - 1,args)"
      ],
      "id": "r71pRVMoCk7f",
      "execution_count": null,
      "outputs": []
    },
    {
      "cell_type": "code",
      "metadata": {
        "id": "KFpXMuGZrcwO"
      },
      "source": [
        "memory_cleanup()"
      ],
      "id": "KFpXMuGZrcwO",
      "execution_count": null,
      "outputs": []
    },
    {
      "cell_type": "code",
      "metadata": {
        "id": "XuuB_BEf-u4L",
        "colab": {
          "base_uri": "https://localhost:8080/"
        },
        "outputId": "9f6aac1f-11a1-42f9-bde7-eb7f9f42b779"
      },
      "source": [
        "from google.colab import drive\n",
        "drive.mount('/content/drive')"
      ],
      "id": "XuuB_BEf-u4L",
      "execution_count": 2,
      "outputs": [
        {
          "output_type": "stream",
          "name": "stdout",
          "text": [
            "Mounted at /content/drive\n"
          ]
        }
      ]
    },
    {
      "cell_type": "code",
      "metadata": {
        "id": "2K1vL74HbtCg"
      },
      "source": [
        "!cp -R \"/content/drive/MyDrive/CommonLit Readability Prize/model.tar.gz\" . "
      ],
      "id": "2K1vL74HbtCg",
      "execution_count": 1,
      "outputs": []
    },
    {
      "cell_type": "code",
      "metadata": {
        "id": "nTTA5V5DcFrp",
        "colab": {
          "base_uri": "https://localhost:8080/"
        },
        "outputId": "93f2d5dc-8fee-481d-fba0-255567f0ea53"
      },
      "source": [
        "!tar -xvf model.tar.gz"
      ],
      "id": "nTTA5V5DcFrp",
      "execution_count": 2,
      "outputs": [
        {
          "output_type": "stream",
          "name": "stdout",
          "text": [
            "commonlitreadabilityprize/\n",
            "commonlitreadabilityprize/hyperparams.yml\n",
            "input_data/\n",
            "input_data/commonlitreadabilityprize/\n",
            "input_data/commonlitreadabilityprize/sample_submission.csv\n",
            "input_data/commonlitreadabilityprize/test.csv\n",
            "input_data/commonlitreadabilityprize/train.csv\n",
            "output/\n",
            "output/commonlitreadabilityprize/\n",
            "output/commonlitreadabilityprize/20211205-134729/\n",
            "output/commonlitreadabilityprize/20211205-134729/distil_oofs_0.45617.csv\n",
            "output/commonlitreadabilityprize/20211205-134729/distilroberta-base/\n",
            "output/commonlitreadabilityprize/20211205-134729/distilroberta-base/fold_1/\n",
            "output/commonlitreadabilityprize/20211205-134729/distilroberta-base/fold_1/special_tokens_map.json\n",
            "output/commonlitreadabilityprize/20211205-134729/distilroberta-base/fold_1/config.json\n",
            "output/commonlitreadabilityprize/20211205-134729/distilroberta-base/fold_1/tokenizer.json\n",
            "output/commonlitreadabilityprize/20211205-134729/distilroberta-base/fold_1/merges.txt\n",
            "output/commonlitreadabilityprize/20211205-134729/distilroberta-base/fold_1/epoch=01-rmse=0.4787.ckpt\n",
            "output/commonlitreadabilityprize/20211205-134729/distilroberta-base/fold_1/tokenizer_config.json\n",
            "output/commonlitreadabilityprize/20211205-134729/distilroberta-base/fold_1/vocab.json\n",
            "output/commonlitreadabilityprize/20211205-134729/distilroberta-base/fold_4/\n",
            "output/commonlitreadabilityprize/20211205-134729/distilroberta-base/fold_4/special_tokens_map.json\n",
            "output/commonlitreadabilityprize/20211205-134729/distilroberta-base/fold_4/config.json\n",
            "output/commonlitreadabilityprize/20211205-134729/distilroberta-base/fold_4/tokenizer.json\n",
            "output/commonlitreadabilityprize/20211205-134729/distilroberta-base/fold_4/merges.txt\n",
            "output/commonlitreadabilityprize/20211205-134729/distilroberta-base/fold_4/epoch=01-rmse=0.5101.ckpt\n",
            "output/commonlitreadabilityprize/20211205-134729/distilroberta-base/fold_4/tokenizer_config.json\n",
            "output/commonlitreadabilityprize/20211205-134729/distilroberta-base/fold_4/vocab.json\n",
            "output/commonlitreadabilityprize/20211205-134729/distilroberta-base/fold_3/\n",
            "output/commonlitreadabilityprize/20211205-134729/distilroberta-base/fold_3/special_tokens_map.json\n",
            "output/commonlitreadabilityprize/20211205-134729/distilroberta-base/fold_3/config.json\n",
            "output/commonlitreadabilityprize/20211205-134729/distilroberta-base/fold_3/epoch=01-rmse=0.5196.ckpt\n",
            "output/commonlitreadabilityprize/20211205-134729/distilroberta-base/fold_3/tokenizer.json\n",
            "output/commonlitreadabilityprize/20211205-134729/distilroberta-base/fold_3/merges.txt\n",
            "output/commonlitreadabilityprize/20211205-134729/distilroberta-base/fold_3/tokenizer_config.json\n",
            "output/commonlitreadabilityprize/20211205-134729/distilroberta-base/fold_3/vocab.json\n",
            "output/commonlitreadabilityprize/20211205-134729/distilroberta-base/fold_2/\n",
            "output/commonlitreadabilityprize/20211205-134729/distilroberta-base/fold_2/special_tokens_map.json\n",
            "output/commonlitreadabilityprize/20211205-134729/distilroberta-base/fold_2/epoch=04-rmse=0.5199.ckpt\n",
            "output/commonlitreadabilityprize/20211205-134729/distilroberta-base/fold_2/config.json\n",
            "output/commonlitreadabilityprize/20211205-134729/distilroberta-base/fold_2/tokenizer.json\n",
            "output/commonlitreadabilityprize/20211205-134729/distilroberta-base/fold_2/merges.txt\n",
            "output/commonlitreadabilityprize/20211205-134729/distilroberta-base/fold_2/tokenizer_config.json\n",
            "output/commonlitreadabilityprize/20211205-134729/distilroberta-base/fold_2/vocab.json\n",
            "output/commonlitreadabilityprize/20211205-134729/distilroberta-base/fold_0/\n",
            "output/commonlitreadabilityprize/20211205-134729/distilroberta-base/fold_0/epoch=02-rmse=0.5231.ckpt\n",
            "output/commonlitreadabilityprize/20211205-134729/distilroberta-base/fold_0/special_tokens_map.json\n",
            "output/commonlitreadabilityprize/20211205-134729/distilroberta-base/fold_0/config.json\n",
            "output/commonlitreadabilityprize/20211205-134729/distilroberta-base/fold_0/tokenizer.json\n",
            "output/commonlitreadabilityprize/20211205-134729/distilroberta-base/fold_0/merges.txt\n",
            "output/commonlitreadabilityprize/20211205-134729/distilroberta-base/fold_0/tokenizer_config.json\n",
            "output/commonlitreadabilityprize/20211205-134729/distilroberta-base/fold_0/vocab.json\n",
            "output/commonlitreadabilityprize/20211204-023300/\n",
            "output/commonlitreadabilityprize/20211204-023300/oofs_1.28072.csv\n",
            "output/commonlitreadabilityprize/20211204-023300/deepset_roberta-base-squad2/\n",
            "output/commonlitreadabilityprize/20211204-023300/deepset_roberta-base-squad2/fold_1/\n",
            "output/commonlitreadabilityprize/20211204-023300/deepset_roberta-base-squad2/fold_1/special_tokens_map.json\n",
            "output/commonlitreadabilityprize/20211204-023300/deepset_roberta-base-squad2/fold_1/config.json\n",
            "output/commonlitreadabilityprize/20211204-023300/deepset_roberta-base-squad2/fold_1/epoch=02-rmse=0.4815.ckpt\n",
            "output/commonlitreadabilityprize/20211204-023300/deepset_roberta-base-squad2/fold_1/tokenizer.json\n",
            "output/commonlitreadabilityprize/20211204-023300/deepset_roberta-base-squad2/fold_1/merges.txt\n",
            "output/commonlitreadabilityprize/20211204-023300/deepset_roberta-base-squad2/fold_1/tokenizer_config.json\n",
            "output/commonlitreadabilityprize/20211204-023300/deepset_roberta-base-squad2/fold_1/vocab.json\n",
            "output/commonlitreadabilityprize/20211204-023300/deepset_roberta-base-squad2/fold_4/\n",
            "output/commonlitreadabilityprize/20211204-023300/deepset_roberta-base-squad2/fold_4/special_tokens_map.json\n",
            "output/commonlitreadabilityprize/20211204-023300/deepset_roberta-base-squad2/fold_4/config.json\n",
            "output/commonlitreadabilityprize/20211204-023300/deepset_roberta-base-squad2/fold_4/tokenizer.json\n",
            "output/commonlitreadabilityprize/20211204-023300/deepset_roberta-base-squad2/fold_4/merges.txt\n",
            "output/commonlitreadabilityprize/20211204-023300/deepset_roberta-base-squad2/fold_4/epoch=03-rmse=0.5111.ckpt\n",
            "output/commonlitreadabilityprize/20211204-023300/deepset_roberta-base-squad2/fold_4/tokenizer_config.json\n",
            "output/commonlitreadabilityprize/20211204-023300/deepset_roberta-base-squad2/fold_4/vocab.json\n",
            "output/commonlitreadabilityprize/20211204-023300/deepset_roberta-base-squad2/fold_3/\n",
            "output/commonlitreadabilityprize/20211204-023300/deepset_roberta-base-squad2/fold_3/epoch=02-rmse=0.4804.ckpt\n",
            "output/commonlitreadabilityprize/20211204-023300/deepset_roberta-base-squad2/fold_3/special_tokens_map.json\n",
            "output/commonlitreadabilityprize/20211204-023300/deepset_roberta-base-squad2/fold_3/config.json\n",
            "output/commonlitreadabilityprize/20211204-023300/deepset_roberta-base-squad2/fold_3/tokenizer.json\n",
            "output/commonlitreadabilityprize/20211204-023300/deepset_roberta-base-squad2/fold_3/merges.txt\n",
            "output/commonlitreadabilityprize/20211204-023300/deepset_roberta-base-squad2/fold_3/tokenizer_config.json\n",
            "output/commonlitreadabilityprize/20211204-023300/deepset_roberta-base-squad2/fold_3/vocab.json\n",
            "output/commonlitreadabilityprize/20211204-023300/deepset_roberta-base-squad2/fold_2/\n",
            "output/commonlitreadabilityprize/20211204-023300/deepset_roberta-base-squad2/fold_2/special_tokens_map.json\n",
            "output/commonlitreadabilityprize/20211204-023300/deepset_roberta-base-squad2/fold_2/config.json\n",
            "output/commonlitreadabilityprize/20211204-023300/deepset_roberta-base-squad2/fold_2/tokenizer.json\n",
            "output/commonlitreadabilityprize/20211204-023300/deepset_roberta-base-squad2/fold_2/merges.txt\n",
            "output/commonlitreadabilityprize/20211204-023300/deepset_roberta-base-squad2/fold_2/epoch=02-rmse=0.4774.ckpt\n",
            "output/commonlitreadabilityprize/20211204-023300/deepset_roberta-base-squad2/fold_2/tokenizer_config.json\n",
            "output/commonlitreadabilityprize/20211204-023300/deepset_roberta-base-squad2/fold_2/vocab.json\n",
            "output/commonlitreadabilityprize/20211204-023300/deepset_roberta-base-squad2/fold_0/\n",
            "output/commonlitreadabilityprize/20211204-023300/deepset_roberta-base-squad2/fold_0/special_tokens_map.json\n",
            "output/commonlitreadabilityprize/20211204-023300/deepset_roberta-base-squad2/fold_0/config.json\n",
            "output/commonlitreadabilityprize/20211204-023300/deepset_roberta-base-squad2/fold_0/epoch=03-rmse=0.5036.ckpt\n",
            "output/commonlitreadabilityprize/20211204-023300/deepset_roberta-base-squad2/fold_0/tokenizer.json\n",
            "output/commonlitreadabilityprize/20211204-023300/deepset_roberta-base-squad2/fold_0/merges.txt\n",
            "output/commonlitreadabilityprize/20211204-023300/deepset_roberta-base-squad2/fold_0/tokenizer_config.json\n",
            "output/commonlitreadabilityprize/20211204-023300/deepset_roberta-base-squad2/fold_0/vocab.json\n",
            "output/commonlitreadabilityprize/20211205-062042/\n",
            "output/commonlitreadabilityprize/20211205-062042/microsoft_deberta-base/\n",
            "output/commonlitreadabilityprize/20211205-062042/microsoft_deberta-base/.DS_Store\n",
            "output/commonlitreadabilityprize/20211205-062042/microsoft_deberta-base/fold_1/\n",
            "output/commonlitreadabilityprize/20211205-062042/microsoft_deberta-base/fold_1/special_tokens_map.json\n",
            "output/commonlitreadabilityprize/20211205-062042/microsoft_deberta-base/fold_1/config.json\n",
            "output/commonlitreadabilityprize/20211205-062042/microsoft_deberta-base/fold_1/tokenizer.json\n",
            "output/commonlitreadabilityprize/20211205-062042/microsoft_deberta-base/fold_1/epoch=01-rmse=0.5007.ckpt\n",
            "output/commonlitreadabilityprize/20211205-062042/microsoft_deberta-base/fold_1/merges.txt\n",
            "output/commonlitreadabilityprize/20211205-062042/microsoft_deberta-base/fold_1/tokenizer_config.json\n",
            "output/commonlitreadabilityprize/20211205-062042/microsoft_deberta-base/fold_1/vocab.json\n",
            "output/commonlitreadabilityprize/20211205-062042/microsoft_deberta-base/fold_4/\n",
            "output/commonlitreadabilityprize/20211205-062042/microsoft_deberta-base/fold_4/special_tokens_map.json\n",
            "output/commonlitreadabilityprize/20211205-062042/microsoft_deberta-base/fold_4/epoch=01-rmse=0.5126.ckpt\n",
            "output/commonlitreadabilityprize/20211205-062042/microsoft_deberta-base/fold_4/config.json\n",
            "output/commonlitreadabilityprize/20211205-062042/microsoft_deberta-base/fold_4/tokenizer.json\n",
            "output/commonlitreadabilityprize/20211205-062042/microsoft_deberta-base/fold_4/merges.txt\n",
            "output/commonlitreadabilityprize/20211205-062042/microsoft_deberta-base/fold_4/tokenizer_config.json\n",
            "output/commonlitreadabilityprize/20211205-062042/microsoft_deberta-base/fold_4/vocab.json\n",
            "output/commonlitreadabilityprize/20211205-062042/microsoft_deberta-base/fold_3/\n",
            "output/commonlitreadabilityprize/20211205-062042/microsoft_deberta-base/fold_3/special_tokens_map.json\n",
            "output/commonlitreadabilityprize/20211205-062042/microsoft_deberta-base/fold_3/config.json\n",
            "output/commonlitreadabilityprize/20211205-062042/microsoft_deberta-base/fold_3/tokenizer.json\n",
            "output/commonlitreadabilityprize/20211205-062042/microsoft_deberta-base/fold_3/epoch=02-rmse=0.4985.ckpt\n",
            "output/commonlitreadabilityprize/20211205-062042/microsoft_deberta-base/fold_3/merges.txt\n",
            "output/commonlitreadabilityprize/20211205-062042/microsoft_deberta-base/fold_3/tokenizer_config.json\n",
            "output/commonlitreadabilityprize/20211205-062042/microsoft_deberta-base/fold_3/vocab.json\n",
            "output/commonlitreadabilityprize/20211205-062042/microsoft_deberta-base/fold_2/\n",
            "output/commonlitreadabilityprize/20211205-062042/microsoft_deberta-base/fold_2/special_tokens_map.json\n",
            "output/commonlitreadabilityprize/20211205-062042/microsoft_deberta-base/fold_2/epoch=03-rmse=0.5016.ckpt\n",
            "output/commonlitreadabilityprize/20211205-062042/microsoft_deberta-base/fold_2/config.json\n",
            "output/commonlitreadabilityprize/20211205-062042/microsoft_deberta-base/fold_2/tokenizer.json\n",
            "output/commonlitreadabilityprize/20211205-062042/microsoft_deberta-base/fold_2/merges.txt\n",
            "output/commonlitreadabilityprize/20211205-062042/microsoft_deberta-base/fold_2/tokenizer_config.json\n",
            "output/commonlitreadabilityprize/20211205-062042/microsoft_deberta-base/fold_2/vocab.json\n",
            "output/commonlitreadabilityprize/20211205-062042/microsoft_deberta-base/fold_0/\n",
            "output/commonlitreadabilityprize/20211205-062042/microsoft_deberta-base/fold_0/epoch=05-rmse=0.5072.ckpt\n",
            "output/commonlitreadabilityprize/20211205-062042/microsoft_deberta-base/fold_0/special_tokens_map.json\n",
            "output/commonlitreadabilityprize/20211205-062042/microsoft_deberta-base/fold_0/config.json\n",
            "output/commonlitreadabilityprize/20211205-062042/microsoft_deberta-base/fold_0/tokenizer.json\n",
            "output/commonlitreadabilityprize/20211205-062042/microsoft_deberta-base/fold_0/merges.txt\n",
            "output/commonlitreadabilityprize/20211205-062042/microsoft_deberta-base/fold_0/tokenizer_config.json\n",
            "output/commonlitreadabilityprize/20211205-062042/microsoft_deberta-base/fold_0/vocab.json\n",
            "output/commonlitreadabilityprize/20211205-062042/deberta_oofs_0.50414.csv\n",
            "output/commonlitreadabilityprize/20211205-062042/.DS_Store\n",
            "output/commonlitreadabilityprize/.ipynb_checkpoints/\n",
            "output/commonlitreadabilityprize/20211206-015956/\n",
            "output/commonlitreadabilityprize/20211206-015956/roberta-base/\n",
            "output/commonlitreadabilityprize/20211206-015956/roberta-base/fold_1/\n",
            "output/commonlitreadabilityprize/20211206-015956/roberta-base/fold_1/special_tokens_map.json\n",
            "output/commonlitreadabilityprize/20211206-015956/roberta-base/fold_1/config.json\n",
            "output/commonlitreadabilityprize/20211206-015956/roberta-base/fold_1/tokenizer.json\n",
            "output/commonlitreadabilityprize/20211206-015956/roberta-base/fold_1/merges.txt\n",
            "output/commonlitreadabilityprize/20211206-015956/roberta-base/fold_1/epoch=03-rmse=0.4978.ckpt\n",
            "output/commonlitreadabilityprize/20211206-015956/roberta-base/fold_1/tokenizer_config.json\n",
            "output/commonlitreadabilityprize/20211206-015956/roberta-base/fold_1/vocab.json\n",
            "output/commonlitreadabilityprize/20211206-015956/roberta-base/fold_4/\n",
            "output/commonlitreadabilityprize/20211206-015956/roberta-base/fold_4/special_tokens_map.json\n",
            "output/commonlitreadabilityprize/20211206-015956/roberta-base/fold_4/config.json\n",
            "output/commonlitreadabilityprize/20211206-015956/roberta-base/fold_4/tokenizer.json\n",
            "output/commonlitreadabilityprize/20211206-015956/roberta-base/fold_4/merges.txt\n",
            "output/commonlitreadabilityprize/20211206-015956/roberta-base/fold_4/tokenizer_config.json\n",
            "output/commonlitreadabilityprize/20211206-015956/roberta-base/fold_4/vocab.json\n",
            "output/commonlitreadabilityprize/20211206-015956/roberta-base/fold_4/epoch=03-rmse=0.4798.ckpt\n",
            "output/commonlitreadabilityprize/20211206-015956/roberta-base/fold_3/\n",
            "output/commonlitreadabilityprize/20211206-015956/roberta-base/fold_3/special_tokens_map.json\n",
            "output/commonlitreadabilityprize/20211206-015956/roberta-base/fold_3/epoch=02-rmse=0.5051.ckpt\n",
            "output/commonlitreadabilityprize/20211206-015956/roberta-base/fold_3/config.json\n",
            "output/commonlitreadabilityprize/20211206-015956/roberta-base/fold_3/tokenizer.json\n",
            "output/commonlitreadabilityprize/20211206-015956/roberta-base/fold_3/merges.txt\n",
            "output/commonlitreadabilityprize/20211206-015956/roberta-base/fold_3/tokenizer_config.json\n",
            "output/commonlitreadabilityprize/20211206-015956/roberta-base/fold_3/vocab.json\n",
            "output/commonlitreadabilityprize/20211206-015956/roberta-base/fold_2/\n",
            "output/commonlitreadabilityprize/20211206-015956/roberta-base/fold_2/special_tokens_map.json\n",
            "output/commonlitreadabilityprize/20211206-015956/roberta-base/fold_2/config.json\n",
            "output/commonlitreadabilityprize/20211206-015956/roberta-base/fold_2/tokenizer.json\n",
            "output/commonlitreadabilityprize/20211206-015956/roberta-base/fold_2/merges.txt\n",
            "output/commonlitreadabilityprize/20211206-015956/roberta-base/fold_2/epoch=02-rmse=0.4932.ckpt\n",
            "output/commonlitreadabilityprize/20211206-015956/roberta-base/fold_2/tokenizer_config.json\n",
            "output/commonlitreadabilityprize/20211206-015956/roberta-base/fold_2/vocab.json\n",
            "output/commonlitreadabilityprize/20211206-015956/roberta-base/fold_0/\n",
            "output/commonlitreadabilityprize/20211206-015956/roberta-base/fold_0/special_tokens_map.json\n",
            "output/commonlitreadabilityprize/20211206-015956/roberta-base/fold_0/config.json\n",
            "output/commonlitreadabilityprize/20211206-015956/roberta-base/fold_0/epoch=02-rmse=0.4856.ckpt\n",
            "output/commonlitreadabilityprize/20211206-015956/roberta-base/fold_0/tokenizer.json\n",
            "output/commonlitreadabilityprize/20211206-015956/roberta-base/fold_0/merges.txt\n",
            "output/commonlitreadabilityprize/20211206-015956/roberta-base/fold_0/tokenizer_config.json\n",
            "output/commonlitreadabilityprize/20211206-015956/roberta-base/fold_0/vocab.json\n",
            "output/commonlitreadabilityprize/20211206-015956/roberta_base_oofs_0.49240.csv\n"
          ]
        }
      ]
    },
    {
      "cell_type": "code",
      "metadata": {
        "id": "EvFI3W6b--Pj"
      },
      "source": [
        "!cp -R model.tar.gz \"/content/drive/MyDrive/CommonLit Readability Prize\""
      ],
      "id": "EvFI3W6b--Pj",
      "execution_count": null,
      "outputs": []
    },
    {
      "cell_type": "code",
      "metadata": {
        "id": "h-9wi1ZC6Xf_"
      },
      "source": [
        "!tar -czf model.tar.gz commonlitreadabilityprize input_data output"
      ],
      "id": "h-9wi1ZC6Xf_",
      "execution_count": null,
      "outputs": []
    },
    {
      "cell_type": "markdown",
      "metadata": {
        "id": "fSZrQi-dYDdw"
      },
      "source": [
        "#### Inference"
      ],
      "id": "fSZrQi-dYDdw"
    },
    {
      "cell_type": "code",
      "metadata": {
        "id": "2fWhm3tiX_MI",
        "colab": {
          "base_uri": "https://localhost:8080/"
        },
        "outputId": "9392ff23-52ee-4626-cb7d-a9c92a12d238"
      },
      "source": [
        "import os\n",
        "from argparse import ArgumentParser\n",
        "\n",
        "import numpy as np\n",
        "import pandas as pd\n",
        "import torch\n",
        "from sklearn.metrics import mean_squared_error\n",
        "from torch.utils.data import DataLoader\n",
        "from transformers import AutoConfig\n",
        "from transformers.models.auto.tokenization_auto import AutoTokenizer\n",
        "\n",
        "\n",
        "\n",
        "\n",
        "def infer(model, dataset, batch_size=64, device=\"cuda\"):\n",
        "    model.to(device)\n",
        "    model.eval()\n",
        "    loader = DataLoader(dataset, batch_size=batch_size, num_workers=4)\n",
        "\n",
        "    predictions = []\n",
        "    with torch.no_grad():\n",
        "        for input_dict, _, features in loader:\n",
        "            input_dict = {k: v.to(device) for k, v in input_dict.items()}\n",
        "            mean, log_var = model(features.to(device), **input_dict)\n",
        "            predictions.append(mean.cpu())\n",
        "\n",
        "    return torch.cat(predictions, 0)\n",
        "\n",
        "\n",
        "def make_oofs(folder_name, seed, device=\"cuda\"):\n",
        "    mpaths = sorted(list((OUTPUT_PATH / folder_name).glob(f\"*/*/*.ckpt\")))\n",
        "    # mpaths = sorted(list((OUTPUT_PATH ).glob(f\"*/*/*/*.ckpt\")))\n",
        "    print(mpaths)\n",
        "    tokenizers = [AutoTokenizer.from_pretrained(str(p.parent)) for p in mpaths]\n",
        "    configs = [AutoConfig.from_pretrained(str(p.parent)) for p in mpaths]\n",
        "    models = [\n",
        "        CommonLitModel.load_from_checkpoint(p, hf_config=c)\n",
        "        for p, c in zip(mpaths, configs)\n",
        "    ]\n",
        "    print(\n",
        "        f\"{len(mpaths)} models found.\",\n",
        "        f\"{len(tokenizers)} tokenizers found.\",\n",
        "        f\"{len(configs)} configs found\",\n",
        "    )\n",
        "\n",
        "    df = pd.read_csv(INPUT_PATH / \"train.csv\")\n",
        "    df = create_folds(df, 5, seed)\n",
        "    df[\"prediction\"] = 0\n",
        "\n",
        "    for fold, (model, tokenizer) in enumerate(zip(models, tokenizers)):\n",
        "        print(fold)\n",
        "        df_fold = df.query(f\"fold == {fold}\")\n",
        "        dataset = CommonLitDataset(df_fold, tokenizer)\n",
        "        df.loc[df_fold.index, \"prediction\"] = (\n",
        "            infer(model, dataset, device=device).squeeze().numpy()\n",
        "        )\n",
        "\n",
        "    rmse = np.sqrt(mean_squared_error(df[\"prediction\"], df[\"target\"]))\n",
        "    print(f\"OOF RMSE {rmse:0.5f}\")\n",
        "    df.to_csv(OUTPUT_PATH / folder_name / f\"oofs_{rmse:0.5f}.csv\", index=False)\n",
        "    # df.to_csv(OUTPUT_PATH  / f\"oofs_{rmse:0.5f}.csv\", index=False)\n",
        "\n",
        "if __name__ == \"__main__\":\n",
        "\n",
        "    default_checkpoint = \"20211205-134729\" # commonlitreadabilityprize\n",
        "    # 20211206-015956 roberta-base\n",
        "    # 20211204-023300 squad2\n",
        "    # 20211205-134729 distil\n",
        "    # 20211205-062042 deberta\n",
        "    parser = ArgumentParser()\n",
        "\n",
        "    parser.add_argument(\n",
        "        \"--timestamp\",\n",
        "        action=\"store\",\n",
        "        dest=\"timestamp\",\n",
        "        help=\"Timestamp for versioning\",\n",
        "        default=default_checkpoint,\n",
        "        type=str,\n",
        "    )\n",
        "\n",
        "    parser.add_argument(\n",
        "        \"--seed\",\n",
        "        action=\"store\",\n",
        "        dest=\"seed\",\n",
        "        help=\"Seed used for splits\",\n",
        "        default=48,\n",
        "        type=int,\n",
        "    )\n",
        "\n",
        "    parser.add_argument(\n",
        "        \"--gpu\",\n",
        "        action=\"store\",\n",
        "        dest=\"gpu\",\n",
        "        help=\"GPU index to use\",\n",
        "        default=\"0\",\n",
        "        type=str,\n",
        "    )\n",
        "\n",
        "    args = parser.parse_args(\"\")\n",
        "    args.seed = 201  #48  squad2, 159 distil , 201 roberta base , 99 deberta\n",
        "    os.environ[\"CUDA_VISIBLE_DEVICES\"] = str(args.gpu)\n",
        "    predictions = make_oofs(args.timestamp, args.seed, device=\"cuda\")"
      ],
      "id": "2fWhm3tiX_MI",
      "execution_count": 12,
      "outputs": [
        {
          "output_type": "stream",
          "name": "stdout",
          "text": [
            "[PosixPath('output/commonlitreadabilityprize/20211205-134729/distilroberta-base/fold_0/epoch=02-rmse=0.5231.ckpt'), PosixPath('output/commonlitreadabilityprize/20211205-134729/distilroberta-base/fold_1/epoch=01-rmse=0.4787.ckpt'), PosixPath('output/commonlitreadabilityprize/20211205-134729/distilroberta-base/fold_2/epoch=04-rmse=0.5199.ckpt'), PosixPath('output/commonlitreadabilityprize/20211205-134729/distilroberta-base/fold_3/epoch=01-rmse=0.5196.ckpt'), PosixPath('output/commonlitreadabilityprize/20211205-134729/distilroberta-base/fold_4/epoch=01-rmse=0.5101.ckpt')]\n",
            "5 models found. 5 tokenizers found. 5 configs found\n",
            "0\n"
          ]
        },
        {
          "output_type": "stream",
          "name": "stderr",
          "text": [
            "/usr/local/lib/python3.7/dist-packages/torch/utils/data/dataloader.py:481: UserWarning: This DataLoader will create 4 worker processes in total. Our suggested max number of worker in current system is 2, which is smaller than what this DataLoader is going to create. Please be aware that excessive worker creation might get DataLoader running slow or even freeze, lower the worker number to avoid potential slowness/freeze if necessary.\n",
            "  cpuset_checked))\n"
          ]
        },
        {
          "output_type": "stream",
          "name": "stdout",
          "text": [
            "1\n",
            "2\n",
            "3\n",
            "4\n",
            "OOF RMSE 0.37384\n"
          ]
        }
      ]
    },
    {
      "cell_type": "code",
      "metadata": {
        "id": "JquxL46KAKgd"
      },
      "source": [
        "!gdown https://drive.google.com/uc?id=1g0pINURKhpWecDq5y9YbXacKGa2YRGeo"
      ],
      "id": "JquxL46KAKgd",
      "execution_count": null,
      "outputs": []
    },
    {
      "cell_type": "code",
      "metadata": {
        "id": "dyYa7-zQcXGl"
      },
      "source": [
        "!gdown https://drive.google.com/uc?id=1GEOnlnYQ-XOhPg8gJflAosfO9jNTF6fS"
      ],
      "id": "dyYa7-zQcXGl",
      "execution_count": null,
      "outputs": []
    },
    {
      "cell_type": "code",
      "metadata": {
        "id": "j5FOGLFmcXPX"
      },
      "source": [
        "!gdown https://drive.google.com/uc?id=1dmzJVtD1gbvXD2s1jdwtjhFF6xeHZoqh"
      ],
      "id": "j5FOGLFmcXPX",
      "execution_count": null,
      "outputs": []
    },
    {
      "cell_type": "code",
      "metadata": {
        "id": "3C8K4Gsyd6DH"
      },
      "source": [
        "mv /content/CommonLit_Readability_Prize/commonlitreadabilityprize/* output/commonlitreadabilityprize/"
      ],
      "id": "3C8K4Gsyd6DH",
      "execution_count": null,
      "outputs": []
    },
    {
      "cell_type": "code",
      "metadata": {
        "id": "Aa8Vo1j3ggVP"
      },
      "source": [
        "rm -r output/commonlitreadabilityprize/*"
      ],
      "id": "Aa8Vo1j3ggVP",
      "execution_count": null,
      "outputs": []
    },
    {
      "cell_type": "code",
      "metadata": {
        "id": "jeYt2V_EgLJa"
      },
      "source": [
        "!cp -R \"/content/output/commonlitreadabilityprize/squad2_oofs_0.49098.csv\" \"/content/drive/MyDrive/CommonLit Readability Prize\""
      ],
      "id": "jeYt2V_EgLJa",
      "execution_count": null,
      "outputs": []
    },
    {
      "cell_type": "code",
      "metadata": {
        "id": "jo_bDuqcfRUE"
      },
      "source": [
        "!unzip output_deberta-base.zip"
      ],
      "id": "jo_bDuqcfRUE",
      "execution_count": null,
      "outputs": []
    },
    {
      "cell_type": "code",
      "metadata": {
        "id": "0kUr-4OqDe3D"
      },
      "source": [
        "!unrar x distilroberta.rar"
      ],
      "id": "0kUr-4OqDe3D",
      "execution_count": null,
      "outputs": []
    },
    {
      "cell_type": "markdown",
      "metadata": {
        "id": "bj6vm-xJEEpj"
      },
      "source": [
        "#### Đánh giá kết quả"
      ],
      "id": "bj6vm-xJEEpj"
    },
    {
      "cell_type": "code",
      "metadata": {
        "id": "y9oMcP5g6vS6",
        "colab": {
          "base_uri": "https://localhost:8080/"
        },
        "outputId": "9f7fab90-07ca-4953-9fc7-99ff255fdd2b"
      },
      "source": [
        "df = pd.read_csv(\"output/commonlitreadabilityprize/20211204-023300/oofs_0.49098.csv\")\n",
        "df.shape"
      ],
      "id": "y9oMcP5g6vS6",
      "execution_count": 18,
      "outputs": [
        {
          "output_type": "execute_result",
          "data": {
            "text/plain": [
              "(2834, 8)"
            ]
          },
          "metadata": {},
          "execution_count": 18
        }
      ]
    },
    {
      "cell_type": "code",
      "metadata": {
        "id": "7Z1zo33mhqot",
        "colab": {
          "base_uri": "https://localhost:8080/",
          "height": 415
        },
        "outputId": "e658ad8b-eb63-4bbc-ba52-b55792b6274d"
      },
      "source": [
        "df.head()"
      ],
      "id": "7Z1zo33mhqot",
      "execution_count": 19,
      "outputs": [
        {
          "output_type": "execute_result",
          "data": {
            "text/html": [
              "<div>\n",
              "<style scoped>\n",
              "    .dataframe tbody tr th:only-of-type {\n",
              "        vertical-align: middle;\n",
              "    }\n",
              "\n",
              "    .dataframe tbody tr th {\n",
              "        vertical-align: top;\n",
              "    }\n",
              "\n",
              "    .dataframe thead th {\n",
              "        text-align: right;\n",
              "    }\n",
              "</style>\n",
              "<table border=\"1\" class=\"dataframe\">\n",
              "  <thead>\n",
              "    <tr style=\"text-align: right;\">\n",
              "      <th></th>\n",
              "      <th>id</th>\n",
              "      <th>url_legal</th>\n",
              "      <th>license</th>\n",
              "      <th>excerpt</th>\n",
              "      <th>target</th>\n",
              "      <th>standard_error</th>\n",
              "      <th>fold</th>\n",
              "      <th>prediction</th>\n",
              "    </tr>\n",
              "  </thead>\n",
              "  <tbody>\n",
              "    <tr>\n",
              "      <th>0</th>\n",
              "      <td>6fceedb16</td>\n",
              "      <td>https://www.digitallibrary.io/en/books/details...</td>\n",
              "      <td>CC BY 4.0</td>\n",
              "      <td>It's carnival day. Hooray! shouts Little Mouse...</td>\n",
              "      <td>0.478452</td>\n",
              "      <td>0.553224</td>\n",
              "      <td>2</td>\n",
              "      <td>0.438988</td>\n",
              "    </tr>\n",
              "    <tr>\n",
              "      <th>1</th>\n",
              "      <td>6a548181f</td>\n",
              "      <td>NaN</td>\n",
              "      <td>NaN</td>\n",
              "      <td>M. Leclerc du Sablon has published some of his...</td>\n",
              "      <td>-2.742465</td>\n",
              "      <td>0.503407</td>\n",
              "      <td>1</td>\n",
              "      <td>-2.478664</td>\n",
              "    </tr>\n",
              "    <tr>\n",
              "      <th>2</th>\n",
              "      <td>3c0447a11</td>\n",
              "      <td>NaN</td>\n",
              "      <td>NaN</td>\n",
              "      <td>The cowherds loosened the buffalo's halter and...</td>\n",
              "      <td>-1.835394</td>\n",
              "      <td>0.505738</td>\n",
              "      <td>4</td>\n",
              "      <td>-0.339717</td>\n",
              "    </tr>\n",
              "    <tr>\n",
              "      <th>3</th>\n",
              "      <td>5cb5ab998</td>\n",
              "      <td>NaN</td>\n",
              "      <td>NaN</td>\n",
              "      <td>When they drew near Nottingham, all the people...</td>\n",
              "      <td>-1.541347</td>\n",
              "      <td>0.478166</td>\n",
              "      <td>2</td>\n",
              "      <td>-0.952375</td>\n",
              "    </tr>\n",
              "    <tr>\n",
              "      <th>4</th>\n",
              "      <td>a83725b19</td>\n",
              "      <td>NaN</td>\n",
              "      <td>NaN</td>\n",
              "      <td>I know that many people are worrying about Sta...</td>\n",
              "      <td>-1.191174</td>\n",
              "      <td>0.475461</td>\n",
              "      <td>0</td>\n",
              "      <td>-0.904002</td>\n",
              "    </tr>\n",
              "  </tbody>\n",
              "</table>\n",
              "</div>"
            ],
            "text/plain": [
              "          id  ... prediction\n",
              "0  6fceedb16  ...   0.438988\n",
              "1  6a548181f  ...  -2.478664\n",
              "2  3c0447a11  ...  -0.339717\n",
              "3  5cb5ab998  ...  -0.952375\n",
              "4  a83725b19  ...  -0.904002\n",
              "\n",
              "[5 rows x 8 columns]"
            ]
          },
          "metadata": {},
          "execution_count": 19
        }
      ]
    },
    {
      "cell_type": "code",
      "metadata": {
        "id": "-VpxdBhzj1Ql",
        "colab": {
          "base_uri": "https://localhost:8080/",
          "height": 369
        },
        "outputId": "d809566f-7ec3-47c5-d262-b14b729c53d3"
      },
      "source": [
        "n_bins = 20\n",
        "fig, axs = plt.subplots(1, 2, figsize=(10, 5), sharey=True, tight_layout=True)\n",
        "\n",
        "axs[0].hist(df.target, bins=n_bins);\n",
        "axs[1].hist(df.prediction, bins=n_bins);"
      ],
      "id": "-VpxdBhzj1Ql",
      "execution_count": 22,
      "outputs": [
        {
          "output_type": "display_data",
          "data": {
            "image/png": "[encoded data removed]",
            "text/plain": [
              "<Figure size 720x360 with 2 Axes>"
            ]
          },
          "metadata": {
            "needs_background": "light"
          }
        }
      ]
    },
    {
      "cell_type": "code",
      "source": [
        "path_results = Path(\"output/commonlitreadabilityprize\")\n",
        "kq = dict()\n",
        "for path in path_results.rglob(f\"*.csv\"):\n",
        "    li = str(path).replace(\".csv\",\"\").split(\"_\")\n",
        "    kq[li[0].split(\"/\")[-1]] = float(li[-1])\n",
        "\n",
        "plt.figure(figsize = (10, 6), dpi = 80)\n",
        "plt.barh(list(kq.keys()), list(kq.values()), align='center')\n",
        "\n",
        "for index, value in enumerate(kq.values()):\n",
        "    plt.text(value, index, str(value))\n",
        "plt.title(\"RMSE OOF\");\n",
        "plt.show()"
      ],
      "metadata": {
        "colab": {
          "base_uri": "https://localhost:8080/",
          "height": 429
        },
        "id": "50GhLFOe6dQv",
        "outputId": "a907454e-22b0-45f0-fbfe-b36bf8d34904"
      },
      "id": "50GhLFOe6dQv",
      "execution_count": 40,
      "outputs": [
        {
          "output_type": "display_data",
          "data": {
            "image/png": "[encoded data removed]",
            "text/plain": [
              "<Figure size 800x480 with 1 Axes>"
            ]
          },
          "metadata": {
            "needs_background": "light"
          }
        }
      ]
    },
    {
      "cell_type": "markdown",
      "metadata": {
        "id": "OXT3qEFBrcZ0"
      },
      "source": [
        "#### Submission "
      ],
      "id": "OXT3qEFBrcZ0"
    },
    {
      "cell_type": "code",
      "metadata": {
        "id": "qDlRFwKgrg0y"
      },
      "source": [
        "from sklearn.linear_model import RidgeCV, LassoCV\n",
        "import gc\n",
        "\n",
        "\n",
        "def infer(model, dataset, batch_size=32, device=\"cuda\"):\n",
        "    model.to(device)\n",
        "    model.eval()\n",
        "    loader = DataLoader(dataset, batch_size=batch_size, num_workers=4)\n",
        "\n",
        "    predictions = []\n",
        "    with torch.no_grad():\n",
        "        for input_dict, _, features in loader:\n",
        "            input_dict = {k: v.to(device) for k, v in input_dict.items()}\n",
        "            mean, log_var = model(features.to(device), **input_dict)\n",
        "            predictions.append(mean.cpu())\n",
        "\n",
        "    return torch.cat(predictions, 0)\n",
        "\n",
        "def netflix(es, ps, e0, l=0.0001):\n",
        "    \"\"\"Combine predictions with the optimal weights to minimize RMSE.\n",
        "\n",
        "    Ref: Töscher, A., Jahrer, M., & Bell, R. M. (2009). The bigchaos solution to the netflix grand prize.\n",
        "\n",
        "    Args:\n",
        "        es (list of float): RMSEs of predictions\n",
        "        ps (list of np.array): predictions\n",
        "        e0 (float): RMSE of all zero prediction\n",
        "        l (float): lambda as in the ridge regression\n",
        "\n",
        "    Returns:\n",
        "        (tuple):\n",
        "\n",
        "            - (np.array): ensemble predictions\n",
        "            - (np.array): weights for input predictions\n",
        "    \"\"\"\n",
        "    m = len(es)\n",
        "    n = len(ps[0])\n",
        "\n",
        "    X = np.stack(ps).T\n",
        "    pTy = 0.5 * (n * e0 ** 2 + (X ** 2).sum(axis=0) - n * np.array(es) ** 2)\n",
        "\n",
        "    w = np.linalg.pinv(X.T.dot(X) + l * n * np.eye(m)).dot(pTy)\n",
        "\n",
        "    return X.dot(w), w"
      ],
      "id": "qDlRFwKgrg0y",
      "execution_count": 13,
      "outputs": []
    },
    {
      "cell_type": "code",
      "metadata": {
        "id": "fHi9dUFfxTbg"
      },
      "source": [
        "rm -r /content/distilroberta"
      ],
      "id": "fHi9dUFfxTbg",
      "execution_count": null,
      "outputs": []
    },
    {
      "cell_type": "code",
      "metadata": {
        "id": "3ovQ5LH4xKtX"
      },
      "source": [
        "mv /content/distilroberta/20211205-134729 /content/output/commonlitreadabilityprize/"
      ],
      "id": "3ovQ5LH4xKtX",
      "execution_count": null,
      "outputs": []
    },
    {
      "cell_type": "code",
      "metadata": {
        "id": "x8P3xadrvzo-"
      },
      "source": [
        "rm -r /content/output/commonlitreadabilityprize/20211204-110832"
      ],
      "id": "x8P3xadrvzo-",
      "execution_count": null,
      "outputs": []
    },
    {
      "cell_type": "code",
      "metadata": {
        "id": "4HUypocesR2o"
      },
      "source": [
        "mv /content/distilroberta/20211206-050156/distilroberta-base/fold_4 /content/distilroberta/20211205-134729/distilroberta-base/"
      ],
      "id": "4HUypocesR2o",
      "execution_count": null,
      "outputs": []
    },
    {
      "cell_type": "code",
      "metadata": {
        "id": "2_CQb_l2zQz6"
      },
      "source": [
        "!cp \"/content/drive/MyDrive/CommonLit Readability Prize/\"*.csv ."
      ],
      "id": "2_CQb_l2zQz6",
      "execution_count": null,
      "outputs": []
    },
    {
      "cell_type": "code",
      "metadata": {
        "id": "SRfeSggkzkG_"
      },
      "source": [
        "!mv /content/roberta_base_oofs_0.49240.csv /content/output/commonlitreadabilityprize/20211206-015956/"
      ],
      "id": "SRfeSggkzkG_",
      "execution_count": null,
      "outputs": []
    },
    {
      "cell_type": "code",
      "metadata": {
        "id": "xsk1JwvSsGw_"
      },
      "source": [
        "def make_predictions(dataset_paths, device=\"cuda\"):\n",
        "    mpaths, oof_paths = [], []\n",
        "    for p in dataset_paths:\n",
        "        mpaths.append(sorted(list(p.rglob(f\"*.ckpt\"))))\n",
        "        oof_paths.extend(sorted(list(p.glob(f\"*.csv\"))))\n",
        "\n",
        "    print(\n",
        "        f\"{len([item for sublist in mpaths for item in sublist])} models found.\",\n",
        "        f\"{len(oof_paths)} OOFs found\",\n",
        "    )\n",
        "    print(mpaths)\n",
        "    # Construct OOF df\n",
        "    oofs = pd.read_csv(INPUT_PATH / \"train.csv\", usecols=[\"id\", \"target\"]).sort_values(\n",
        "        by=\"id\"\n",
        "    )\n",
        "    for i, p in enumerate(oof_paths):\n",
        "        x = pd.read_csv(p).sort_values(by=\"id\")\n",
        "        oofs[f\"model_{i}\"] = x[\"prediction\"].values\n",
        "\n",
        "    df = pd.read_csv(INPUT_PATH / \"test.csv\")\n",
        "    output = 0\n",
        "\n",
        "    for i, group in enumerate(mpaths):\n",
        "        output = 0\n",
        "        for j, p in enumerate(group):\n",
        "            ckpt_size = p.stat().st_size / 1024 ** 3\n",
        "            bs = 32 if ckpt_size > 1.5 else 64\n",
        "            print(f\"{i} {p}, Size: {ckpt_size:0.2f}\")\n",
        "\n",
        "            if j == 0:\n",
        "                config = AutoConfig.from_pretrained(str(p.parent))\n",
        "                tokenizer = AutoTokenizer.from_pretrained(str(p.parent))\n",
        "                dataset = CommonLitDataset(df, tokenizer)\n",
        "                print(p.parent)\n",
        "            \n",
        "            print(p)\n",
        "            model = CommonLitModel.load_from_checkpoint(p, hf_config=config)\n",
        "            output += infer(model, dataset, batch_size=bs, device=device)\n",
        "\n",
        "            del model\n",
        "\n",
        "        del dataset\n",
        "        del tokenizer\n",
        "        gc.collect()\n",
        "\n",
        "        df[f\"model_{i}\"] = output.squeeze().numpy() / len(group)\n",
        "\n",
        "    pred_cols = [f\"model_{i}\" for i in range(len(mpaths))]\n",
        "\n",
        "    # Use mean\n",
        "    # df[\"target\"] = df[pred_cols].mean(1)\n",
        "\n",
        "    # Stack using linear regression\n",
        "#     print(oofs[pred_cols].corr())\n",
        "    reg = RidgeCV(alphas=(0.0001, 0.0005, 0.001, 0.005, 0.01, 0.05, 0.1, 0.5, 1.0, 5.0, 10.0, 50, 100, 500, 1000), normalize=True)\n",
        "#     reg = LassoCV(max_iter=5000, random_state=48, n_jobs=-1, normalize=True)\n",
        "    reg.fit(oofs[pred_cols], oofs[\"target\"])\n",
        "#     print(f\"Weights: {reg.coef_}, bias: {reg.intercept_}\")\n",
        "    print(f\"Best RMSE: {np.sqrt(-reg.best_score_):0.5f}. Alpha {reg.alpha_}\")  # Ridge\n",
        "#     print(f\"Best RMSE: {np.sqrt(reg.mse_path_)[-1].mean():0.5f}\")  # Lasso\n",
        "    df[\"target\"] = reg.predict(df[pred_cols])\n",
        "    \n",
        "    # Stack using Netflix method\n",
        "#     oof_preds = [oofs[c].values for c in pred_cols]\n",
        "#     rmses = [np.sqrt(mean_squared_error(p, oofs[\"target\"])) for p in oof_preds]\n",
        "#     ensemble, weights = netflix(rmses, oof_preds, 1.4100)\n",
        "#     score = np.sqrt(mean_squared_error(ensemble, oofs[\"target\"]))\n",
        "#     print(f\"Best RMSE: {score:0.5f}\")\n",
        "#     df[\"target\"] = df[pred_cols] @ weights\n",
        "\n",
        "    # Netflix with 3-seed CV\n",
        "    #     X, y = oofs[pred_cols], oofs[\"target\"]\n",
        "    #     scores = []\n",
        "    #     weights_agg = 0\n",
        "    #     for seed in [48, 42, 3]:\n",
        "    #         for fold, (trn_idx, val_idx) in enumerate(create_folds(X, y, random_state=seed)):\n",
        "    #             train_oofs = X.loc[trn_idx]\n",
        "    #             valid_oofs = X.loc[val_idx]\n",
        "    #             valid_target = y.loc[val_idx]\n",
        "\n",
        "    #             train_preds = [train_oofs[c].values for c in X.columns]\n",
        "    #             rmses = [np.sqrt(mean_squared_error(X[c], y)) for c in X.columns]\n",
        "    #             _, weights = netflix(rmses, train_preds, 1.4100)\n",
        "\n",
        "    #             val_pred = valid_oofs @ weights\n",
        "    #             score = np.sqrt(mean_squared_error(val_pred, valid_target))\n",
        "    #             scores.append(score)\n",
        "    #             weights_agg += weights\n",
        "\n",
        "    #     weights_agg /= len(scores)\n",
        "    #     print(f\"CV RMSE: {np.mean(scores):0.5f}\")\n",
        "    #     df[\"target\"] = df[pred_cols] @ weights_agg\n",
        "\n",
        "    df[[\"id\", \"target\"]].to_csv(\"submission.csv\", index=False)\n",
        "\n",
        "if __name__ == \"__main__\":\n",
        "\n",
        "    model_folders = [\n",
        "        \"20211204-023300\",\n",
        "        \"20211205-062042\",\n",
        "        \"20211205-134729\",\n",
        "        \"20211206-015956\"\n",
        "    ]\n",
        "\n",
        "\n",
        "    dataset_paths = [OUTPUT_PATH / f for f in model_folders]\n",
        "\n",
        "    predictions = make_predictions(dataset_paths, device=\"cuda\")"
      ],
      "id": "xsk1JwvSsGw_",
      "execution_count": null,
      "outputs": []
    },
    {
      "cell_type": "markdown",
      "metadata": {
        "id": "mpGuZbsiik1T"
      },
      "source": [
        "#### Notes:    \n",
        "- kl_loss (Kullback–Leibler divergence) trong toán thống kê (information gain) Ý tưởng dựa trên khoảng cách giữa 2 phân phối (https://pytorch.org/docs/stable/generated/torch.nn.KLDivLoss.html).\n",
        "\n",
        "\n",
        "\n"
      ],
      "id": "mpGuZbsiik1T"
    },
    {
      "cell_type": "markdown",
      "source": [
        "#### Leaderboard (RMSE)\n",
        " - Top1 : 12 - 0.447 , 1 - 0.446\n",
        " - Tác giả: 32 - 0.451 , 4 - 0.447 \n",
        " - Nhóm:  0.475 , 0.469 \n",
        "\n",
        "**Nhận xét**\n",
        "\n",
        " - Khó để đạt kết quả tốt như tác giả ( Vì giới hạn về tài nguyên không thể huấn luyện các mô hình có kích thước lớn và thời gian huấn luyện).\n",
        " - Dự kiến nhóm sẽ tìm cách cải thiện kết quả dựa trên các khía cạnh từ các mô hình trong khả năng và phương pháp khác (turning, add properties , method ensemble ...)"
      ],
      "metadata": {
        "id": "g9ptaON40Mh7"
      },
      "id": "g9ptaON40Mh7"
    },
    {
      "cell_type": "markdown",
      "metadata": {
        "id": "8U0zOCln1ZOW"
      },
      "source": [
        "## Nhìn lại quá trình làm đồ án"
      ],
      "id": "8U0zOCln1ZOW"
    },
    {
      "cell_type": "markdown",
      "metadata": {
        "id": "72079acf"
      },
      "source": [
        "Sau bao ngày vất vả làm đồ án thì bây giờ đã kết thúc. Bây giờ là lúc để ngồi uống coffee và tĩnh tâm nhìn lại quá trình làm.\n",
        "\n",
        "- Mỗi thành viên: Đã gặp những khó khăn gì? (Hay mọi chuyện đều thuận lợi)\n",
        "- Mỗi thành viên: Có học được gì hữu ích? (Hay không học được gì)\n",
        "- Nhóm: Nếu có thêm thời gian thì sẽ làm gì?\n",
        "\n",
        "Phần này có sao thì bạn nói vậy thôi, chứ không phải là viết\n",
        "cho có, hoặc tự chế ra để nghe cho hay."
      ],
      "id": "72079acf"
    },
    {
      "cell_type": "markdown",
      "metadata": {
        "id": "4ae45e1e"
      },
      "source": [
        "## Tài liệu tham khảo"
      ],
      "id": "4ae45e1e"
    },
    {
      "cell_type": "markdown",
      "metadata": {
        "id": "9701b2bd"
      },
      "source": [
        "Để hoàn thành đồ án này, nhóm bạn đã tham khảo những tài liệu nào?"
      ],
      "id": "9701b2bd"
    }
  ]
}