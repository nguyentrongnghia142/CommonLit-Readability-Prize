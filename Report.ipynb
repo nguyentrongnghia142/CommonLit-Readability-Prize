{
  "nbformat": 4,
  "nbformat_minor": 5,
  "metadata": {
    "kernelspec": {
      "display_name": "Python 3 (ipykernel)",
      "language": "python",
      "name": "python3"
    },
    "language_info": {
      "codemirror_mode": {
        "name": "ipython",
        "version": 3
      },
      "file_extension": ".py",
      "mimetype": "text/x-python",
      "name": "python",
      "nbconvert_exporter": "python",
      "pygments_lexer": "ipython3",
      "version": "3.8.8"
    },
    "toc": {
      "base_numbering": 1,
      "nav_menu": {},
      "number_sections": true,
      "sideBar": true,
      "skip_h1_title": false,
      "title_cell": "Table of Contents",
      "title_sidebar": "Contents",
      "toc_cell": false,
      "toc_position": {},
      "toc_section_display": true,
      "toc_window_display": false
    },
    "colab": {
      "name": "Report.ipynb",
      "provenance": [],
      "collapsed_sections": [
        "4ae45e1e"
      ]
    }
  },
  "cells": [
    {
      "cell_type": "markdown",
      "metadata": {
        "id": "5b2dcf7c"
      },
      "source": [
        "# Báo cáo đồ án môn \"Khoa học dữ liệu ứng dụng\"\n",
        "\n",
        "Nhóm 4:\n",
        "1. 1712615 - Nguyễn Trọng Nghĩa - [GitHub](https://github.com/nguyentrongnghia142)\n",
        "2. 1712683 - Phạm Hoàng Phương - [Github](https://github.com/superman19993)\n",
        "3. [MSSV] - [Họ tên] - [Nick Github]\n",
        "4. [MSSV] - [Họ tên] - [Nick Github]\n",
        "\n",
        "Link thùng chứa Github của nhóm: [Repo](https://github.com/nguyentrongnghia142/CommonLit-Readability-Prize)"
      ],
      "id": "5b2dcf7c"
    },
    {
      "cell_type": "markdown",
      "metadata": {
        "id": "2f93d974"
      },
      "source": [
        "## Mô tả bài toán\n",
        "[Bài toán](https://www.kaggle.com/c/commonlitreadabilityprize/overview)"
      ],
      "id": "2f93d974"
    },
    {
      "cell_type": "markdown",
      "metadata": {
        "id": "dc0bf646"
      },
      "source": [
        "Cần mô tả rõ ràng để người đọc có thể hiểu được chính xác bài toán mà nhóm muốn giải quyết (trong mục này cũng cần để link Kaggle tương ứng với bài toán).\n",
        "\n",
        "### Sơ bộ về bài toán\n",
        "### Bối cảnh:\n",
        "\n",
        "\n",
        "* Đọc là một kỹ năng cần thiết để thành công trong học tập, Khi học sinh tiếp cận được những đoạn văn với mức độ thách thức phù hợp, chúng sẽ phát triển kỹ năng đọc một cách tự nhiên.\n",
        "\n",
        "* CommonLit là một tổ chức phi lợi nhuận phục vụ hơn 20 tr giáo viên và học sinh với các bài học đọc và viết kĩ thuật số miễn phí cho các lớp 3-12, cùng với đại học bang Georgia, một trường đại học nghiên cứu ở Atlanta, đã tổ chức 1 cuộc thi nhằm cải thiện phương pháp đánh giá khả năng đọc.\n",
        "\n",
        "### Nội dung:\n",
        "\n",
        "\n",
        "*   Trong cuộc thị này, người tham gia sẽ xây dựng các thuật toán để đánh giá mức độ phức tạp của việc đọc các đoạn văn để sử dụng trong lớp học từ lớp 3-12. Để đạt được điều này, phải kết hợp kĩ năng học máy của họ để làm việc với 1 tập dữ liệu bao gồm người độc từ nhiều nhóm tuổi khác nhau với một số lượng lớn các văn bản thuộc nhiều lĩnh vực khác nhau.\n",
        "\n",
        "\n",
        "*   Nếu thành công, bạn đã hỗ trợ các giáo viên và sinh viên, các nhà phát triền chương trình giảng dạy đọc viết có thể đánh giá nhanh chóng và chính xác các tài liệu trong lớp học của họ. Quan trọng nhất, học sinh sẽ được hưởng lợi từ việc đánh giá độ phức tạp và khả năng đọc của họ, giúp họ cải thiện các kỹ năng đọc thiết yếu dễ dàng hơn nhiều.\n",
        "\n",
        "### Đánh giá:\n",
        "\n",
        "-\tCác bài dự thi sẽ được đánh giá dựa trên độ lỗi RMSE: ![image.png](https://scontent.fdad1-1.fna.fbcdn.net/v/t1.15752-9/258845405_591261328774655_4260656527898854926_n.png?_nc_cat=109&ccb=1-5&_nc_sid=ae9488&_nc_ohc=JcFQuPsmYnYAX-OYyFs&_nc_ht=scontent.fdad1-1.fna&oh=491e243d6da6d57179a18d30529a8466&oe=61BF2150)\n",
        "\n",
        "\n",
        "### Submission file:\n",
        "-\tVới mỗi dòng trong tập test, cần phải dự đoán giá trị của target, tệp phải chứa tiêu đề và có định dạng sau: \n",
        "![image.png](https://scontent.fdad1-2.fna.fbcdn.net/v/t1.15752-9/254632714_433915911583493_5614680366254606947_n.png?_nc_cat=102&ccb=1-5&_nc_sid=ae9488&_nc_ohc=omTcknGdud8AX8hu4Fv&_nc_ht=scontent.fdad1-2.fna&oh=9ad8860d2bb51f4ab489fecd599a056d&oe=61BECC2F)\n",
        "\n",
        "\n",
        "### Dataset: \n",
        "-\tCột:\n",
        "1. \tId:  mã id của đoạn trích (unique)\n",
        "2.   url_legal: đường dẫn của đoạn trích- trường này có thể trống trong tập test\n",
        "3.   license: bản quyền của đoạn trích- trường này có thể trống trong tập test\n",
        "4.   excerpt: nội dung đoạn trích cần dự đoán độ dễ đọc\n",
        "5.   target: độ dễ của đoạn trích\n",
        "6.   standard_error: thước đo chênh lệch điểm số giữa nhiều người đánh giá cho mỗi đoạn trích. Không được bao gồm trong tập test.\n",
        "\n",
        "\n",
        "\n"
      ],
      "id": "dc0bf646"
    },
    {
      "cell_type": "markdown",
      "metadata": {
        "id": "d48122eb"
      },
      "source": [
        "## Giải quyết bài toán\n",
        "[Giải pháp](https://www.kaggle.com/c/commonlitreadabilityprize/discussion/258148)"
      ],
      "id": "d48122eb"
    },
    {
      "cell_type": "markdown",
      "metadata": {
        "id": "483e6c5d"
      },
      "source": [
        "Đầu tiên, nhóm bạn cần nói rõ là: trong đồ án này, nhóm tìm hiểu và cài đặt lại (và cải tiến?) một phương pháp giải quyết đã có (cần để link tương ứng, cũng cần nói là phương pháp này đứng thứ mấy trong private leaderboard). Nhóm bạn cũng cần giải thích một xíu để người đọc hiểu là tại sao nhóm bạn lại chọn phương pháp giải quyết này trong số nhiều phương pháp giải quyết. \n",
        "\n",
        "Mục này sẽ rất dài nên có lẽ là nhóm bạn sẽ cần suy nghĩ để chia thành các mục con. Nhóm bạn cần đặt tiêu đề cho các mục con sao cho khi người đọc nhìn vào các tiêu đề này là sẽ hiểu được \"flow\" mà nhóm định trình bày.\n",
        "\n",
        "Với mỗi mục, luôn luôn trình bày *ý tưởng chính* trước khi trình bày chi tiết. Bằng cách này:\n",
        "- Nếu người đọc không có thời gian đọc chi tiết (hoặc đọc nhưng không hiểu hoàn toàn) thì vẫn có thể nắm được ý tưởng chính. \n",
        "- Khi nhóm bạn thuyết trình (nhóm bạn sẽ dùng file notebook này để thuyết trình luôn, chứ không cần phải soạn thêm slide), nhóm bạn có thể chỉ trình bày phần ý tưởng chính (vì thời gian thuyết trình là có hạn); có thể dùng chức năng \"collapse sections\" của Google Colab (hoặc chức năng tương tự của Jupyter Notebook/Lab) để dấu phần chi tiết đi, chỉ khi người nghe hỏi thì mới mở ra để trình bày.\n",
        "\n",
        "Viết viết lách và code sao cho người khác dễ theo dõi là một kỹ năng được tập trung rèn luyện trong đồ án này. \n",
        "\n",
        "Ở phần code, nhóm bạn cũng cần nói rõ là: để chạy được các code cell ở bên dưới thì đầu tiên cần phải download các file dữ liệu ở đâu và đặt các file dữ liệu này ở thư mục nào (nếu được thì nhóm bạn cũng có thể tự động hóa vụ này bằng cách viết một đoạn code để check xem đã có các file dữ liệu chưa, nếu chưa có thì sẽ tự động download xuống).\n",
        "\n",
        "Trong đồ án này, nhóm tìm hiểu và cài đặt lại 1 phương pháp giải quyết đã có: [Giải pháp](https://www.kaggle.com/c/commonlitreadabilityprize/discussion/258148)\n",
        "\n",
        "Phương pháp trên được xếp hạng 4 trong private leaderboard của cuộc thi.\n",
        "\n",
        "### Sơ bộ về cách giải quyết bài toán:\n",
        "🏅️ 4th Place Solution (0.447) 🏅️\n",
        "\n",
        "Some brief descriptions goes here\n",
        "\n",
        "\n",
        "\n",
        "## EDA (tìm hiểu dữ liệu)"
      ],
      "id": "483e6c5d"
    },
    {
      "cell_type": "code",
      "metadata": {
        "colab": {
          "base_uri": "https://localhost:8080/"
        },
        "id": "fD8otMhZocJE",
        "outputId": "ca482955-5ef3-46b7-c1ca-7c347e2636ae"
      },
      "source": [
        "!ls\n",
        "import pandas as pd\n",
        "from collections import Counter\n",
        "from pathlib import Path\n",
        "\n",
        "INPUT_PATH = Path(f\"sample_data\")\n",
        "for child in INPUT_PATH.iterdir():\n",
        "    print(child)"
      ],
      "id": "fD8otMhZocJE",
      "execution_count": null,
      "outputs": [
        {
          "output_type": "stream",
          "name": "stdout",
          "text": [
            "sample_data\n",
            "sample_data/anscombe.json\n",
            "sample_data/README.md\n",
            "sample_data/train.csv\n",
            "sample_data/mnist_train_small.csv\n",
            "sample_data/california_housing_train.csv\n",
            "sample_data/california_housing_test.csv\n",
            "sample_data/mnist_test.csv\n"
          ]
        }
      ]
    },
    {
      "cell_type": "code",
      "metadata": {
        "colab": {
          "base_uri": "https://localhost:8080/",
          "height": 206
        },
        "id": "NvX5ZmyG0A3A",
        "outputId": "116a892f-2cc7-47db-f4d9-6f041ee6e552"
      },
      "source": [
        "df = pd.read_csv(INPUT_PATH / \"train.csv\")\n",
        "df.head()"
      ],
      "id": "NvX5ZmyG0A3A",
      "execution_count": null,
      "outputs": [
        {
          "output_type": "execute_result",
          "data": {
            "text/html": [
              "<div>\n",
              "<style scoped>\n",
              "    .dataframe tbody tr th:only-of-type {\n",
              "        vertical-align: middle;\n",
              "    }\n",
              "\n",
              "    .dataframe tbody tr th {\n",
              "        vertical-align: top;\n",
              "    }\n",
              "\n",
              "    .dataframe thead th {\n",
              "        text-align: right;\n",
              "    }\n",
              "</style>\n",
              "<table border=\"1\" class=\"dataframe\">\n",
              "  <thead>\n",
              "    <tr style=\"text-align: right;\">\n",
              "      <th></th>\n",
              "      <th>id</th>\n",
              "      <th>url_legal</th>\n",
              "      <th>license</th>\n",
              "      <th>excerpt</th>\n",
              "      <th>target</th>\n",
              "      <th>standard_error</th>\n",
              "    </tr>\n",
              "  </thead>\n",
              "  <tbody>\n",
              "    <tr>\n",
              "      <th>0</th>\n",
              "      <td>c12129c31</td>\n",
              "      <td>NaN</td>\n",
              "      <td>NaN</td>\n",
              "      <td>When the young people returned to the ballroom...</td>\n",
              "      <td>-0.340259</td>\n",
              "      <td>0.464009</td>\n",
              "    </tr>\n",
              "    <tr>\n",
              "      <th>1</th>\n",
              "      <td>85aa80a4c</td>\n",
              "      <td>NaN</td>\n",
              "      <td>NaN</td>\n",
              "      <td>All through dinner time, Mrs. Fayre was somewh...</td>\n",
              "      <td>-0.315372</td>\n",
              "      <td>0.480805</td>\n",
              "    </tr>\n",
              "    <tr>\n",
              "      <th>2</th>\n",
              "      <td>b69ac6792</td>\n",
              "      <td>NaN</td>\n",
              "      <td>NaN</td>\n",
              "      <td>As Roger had predicted, the snow departed as q...</td>\n",
              "      <td>-0.580118</td>\n",
              "      <td>0.476676</td>\n",
              "    </tr>\n",
              "    <tr>\n",
              "      <th>3</th>\n",
              "      <td>dd1000b26</td>\n",
              "      <td>NaN</td>\n",
              "      <td>NaN</td>\n",
              "      <td>And outside before the palace a great garden w...</td>\n",
              "      <td>-1.054013</td>\n",
              "      <td>0.450007</td>\n",
              "    </tr>\n",
              "    <tr>\n",
              "      <th>4</th>\n",
              "      <td>37c1b32fb</td>\n",
              "      <td>NaN</td>\n",
              "      <td>NaN</td>\n",
              "      <td>Once upon a time there were Three Bears who li...</td>\n",
              "      <td>0.247197</td>\n",
              "      <td>0.510845</td>\n",
              "    </tr>\n",
              "  </tbody>\n",
              "</table>\n",
              "</div>"
            ],
            "text/plain": [
              "          id url_legal  ...    target standard_error\n",
              "0  c12129c31       NaN  ... -0.340259       0.464009\n",
              "1  85aa80a4c       NaN  ... -0.315372       0.480805\n",
              "2  b69ac6792       NaN  ... -0.580118       0.476676\n",
              "3  dd1000b26       NaN  ... -1.054013       0.450007\n",
              "4  37c1b32fb       NaN  ...  0.247197       0.510845\n",
              "\n",
              "[5 rows x 6 columns]"
            ]
          },
          "metadata": {},
          "execution_count": 8
        }
      ]
    },
    {
      "cell_type": "code",
      "metadata": {
        "colab": {
          "base_uri": "https://localhost:8080/",
          "height": 300
        },
        "id": "Ws-26IAb0E7F",
        "outputId": "c1717e2c-8bb4-4a17-9e2b-c1741bc24c0d"
      },
      "source": [
        "df.describe()"
      ],
      "id": "Ws-26IAb0E7F",
      "execution_count": null,
      "outputs": [
        {
          "output_type": "execute_result",
          "data": {
            "text/html": [
              "<div>\n",
              "<style scoped>\n",
              "    .dataframe tbody tr th:only-of-type {\n",
              "        vertical-align: middle;\n",
              "    }\n",
              "\n",
              "    .dataframe tbody tr th {\n",
              "        vertical-align: top;\n",
              "    }\n",
              "\n",
              "    .dataframe thead th {\n",
              "        text-align: right;\n",
              "    }\n",
              "</style>\n",
              "<table border=\"1\" class=\"dataframe\">\n",
              "  <thead>\n",
              "    <tr style=\"text-align: right;\">\n",
              "      <th></th>\n",
              "      <th>target</th>\n",
              "      <th>standard_error</th>\n",
              "    </tr>\n",
              "  </thead>\n",
              "  <tbody>\n",
              "    <tr>\n",
              "      <th>count</th>\n",
              "      <td>2834.000000</td>\n",
              "      <td>2834.000000</td>\n",
              "    </tr>\n",
              "    <tr>\n",
              "      <th>mean</th>\n",
              "      <td>-0.959319</td>\n",
              "      <td>0.491435</td>\n",
              "    </tr>\n",
              "    <tr>\n",
              "      <th>std</th>\n",
              "      <td>1.033579</td>\n",
              "      <td>0.034818</td>\n",
              "    </tr>\n",
              "    <tr>\n",
              "      <th>min</th>\n",
              "      <td>-3.676268</td>\n",
              "      <td>0.000000</td>\n",
              "    </tr>\n",
              "    <tr>\n",
              "      <th>25%</th>\n",
              "      <td>-1.690320</td>\n",
              "      <td>0.468543</td>\n",
              "    </tr>\n",
              "    <tr>\n",
              "      <th>50%</th>\n",
              "      <td>-0.912190</td>\n",
              "      <td>0.484721</td>\n",
              "    </tr>\n",
              "    <tr>\n",
              "      <th>75%</th>\n",
              "      <td>-0.202540</td>\n",
              "      <td>0.506268</td>\n",
              "    </tr>\n",
              "    <tr>\n",
              "      <th>max</th>\n",
              "      <td>1.711390</td>\n",
              "      <td>0.649671</td>\n",
              "    </tr>\n",
              "  </tbody>\n",
              "</table>\n",
              "</div>"
            ],
            "text/plain": [
              "            target  standard_error\n",
              "count  2834.000000     2834.000000\n",
              "mean     -0.959319        0.491435\n",
              "std       1.033579        0.034818\n",
              "min      -3.676268        0.000000\n",
              "25%      -1.690320        0.468543\n",
              "50%      -0.912190        0.484721\n",
              "75%      -0.202540        0.506268\n",
              "max       1.711390        0.649671"
            ]
          },
          "metadata": {},
          "execution_count": 9
        }
      ]
    },
    {
      "cell_type": "code",
      "metadata": {
        "colab": {
          "base_uri": "https://localhost:8080/",
          "height": 265
        },
        "id": "RJzEbvVL0H5l",
        "outputId": "fa3a2a39-9db7-4ebe-8ea7-2cacb32bb931"
      },
      "source": [
        "df[\"target\"].hist(bins=50);"
      ],
      "id": "RJzEbvVL0H5l",
      "execution_count": null,
      "outputs": [
        {
          "output_type": "display_data",
          "data": {
            "image/png": "[encoded data removed]",
            "text/plain": [
              "<Figure size 432x288 with 1 Axes>"
            ]
          },
          "metadata": {
            "needs_background": "light"
          }
        }
      ]
    },
    {
      "cell_type": "code",
      "metadata": {
        "colab": {
          "base_uri": "https://localhost:8080/",
          "height": 157
        },
        "id": "ar_aA6fW0MrT",
        "outputId": "c5cd203d-3644-4a95-f232-2998c0838e10"
      },
      "source": [
        "str(df.loc[0, \"excerpt\"])"
      ],
      "id": "ar_aA6fW0MrT",
      "execution_count": null,
      "outputs": [
        {
          "output_type": "execute_result",
          "data": {
            "application/vnd.google.colaboratory.intrinsic+json": {
              "type": "string"
            },
            "text/plain": [
              "'When the young people returned to the ballroom, it presented a decidedly changed appearance. Instead of an interior scene, it was a winter landscape.\\nThe floor was covered with snow-white canvas, not laid on smoothly, but rumpled over bumps and hillocks, like a real snow field. The numerous palms and evergreens that had decorated the room, were powdered with flour and strewn with tufts of cotton, like snow. Also diamond dust had been lightly sprinkled on them, and glittering crystal icicles hung from the branches.\\nAt each end of the room, on the wall, hung a beautiful bear-skin rug.\\nThese rugs were for prizes, one for the girls and one for the boys. And this was the game.\\nThe girls were gathered at one end of the room and the boys at the other, and one end was called the North Pole, and the other the South Pole. Each player was given a small flag which they were to plant on reaching the Pole.\\nThis would have been an easy matter, but each traveller was obliged to wear snowshoes.'"
            ]
          },
          "metadata": {},
          "execution_count": 11
        }
      ]
    },
    {
      "cell_type": "code",
      "metadata": {
        "colab": {
          "base_uri": "https://localhost:8080/",
          "height": 265
        },
        "id": "07CeMyYY0P9C",
        "outputId": "6e6de29a-99cb-44d9-bbbf-92de790d83cb"
      },
      "source": [
        "df[\"word_count\"] = df['excerpt'].str.split().apply(len)\n",
        "df[\"word_count\"].hist();"
      ],
      "id": "07CeMyYY0P9C",
      "execution_count": null,
      "outputs": [
        {
          "output_type": "display_data",
          "data": {
            "image/png": "[encoded data removed]",
            "text/plain": [
              "<Figure size 432x288 with 1 Axes>"
            ]
          },
          "metadata": {
            "needs_background": "light"
          }
        }
      ]
    },
    {
      "cell_type": "code",
      "metadata": {
        "colab": {
          "base_uri": "https://localhost:8080/"
        },
        "id": "Kt8pGTZN0Szr",
        "outputId": "92c5f9a4-4e13-4ffa-e70e-37b8f3a25485"
      },
      "source": [
        "df[\"url_legal\"].value_counts()"
      ],
      "id": "Kt8pGTZN0Szr",
      "execution_count": null,
      "outputs": [
        {
          "output_type": "execute_result",
          "data": {
            "text/plain": [
              "https://www.africanstorybook.org/                                118\n",
              "https://www.africanstorybook.org/#                                46\n",
              "https://simple.wikipedia.org/wiki/Voltage                          2\n",
              "https://simple.wikipedia.org/wiki/Electron_crystallography         1\n",
              "https://simple.wikipedia.org/wiki/Liquid_crystal_display           1\n",
              "                                                                ... \n",
              "https://simple.wikipedia.org/wiki/Nanotechnology                   1\n",
              "https://kids.frontiersin.org/article/10.3389/frym.2017.00022       1\n",
              "https://simple.wikipedia.org/wiki/Marshall_Plan                    1\n",
              "https://en.wikibooks.org/wiki/Wikijunior:The_Elements/Liquids      1\n",
              "https://simple.wikipedia.org/wiki/Hard_disk                        1\n",
              "Name: url_legal, Length: 667, dtype: int64"
            ]
          },
          "metadata": {},
          "execution_count": 13
        }
      ]
    },
    {
      "cell_type": "markdown",
      "metadata": {
        "id": "5msYEvNoS9Rm"
      },
      "source": [
        "## Ensemble\n",
        "### Selection\n"
      ],
      "id": "5msYEvNoS9Rm"
    },
    {
      "cell_type": "markdown",
      "metadata": {
        "id": "XT45aKfiTxGo"
      },
      "source": [
        "#### Big chaos solution from Netflix prize 2009\n",
        "- Big chaos solution là một phương pháp phối hợp (blend) nhiều phương pháp Collaborative filtering thường được áp dụng trong bài toán Recommender system.\n",
        "\n",
        "- Các phương pháp Collaborative filtering được áp dụng có thể kể tên như:\n",
        " - Automatic Parameter Tuning - APT.\n",
        " - Movie KNN:  KNNMovieV3, KNNMovieV3-2.\n",
        " - Time Dependence Models.\n",
        " - Restricted Boltzmann Machine - RBM\n",
        " - Global Effects - GE,\n",
        " - ...\n",
        "\n",
        "![image.png](https://scontent.fdad1-2.fna.fbcdn.net/v/t1.15752-9/257430565_582013389559613_5705009368260678979_n.png?_nc_cat=102&ccb=1-5&_nc_sid=ae9488&_nc_ohc=YNARF7N0gU8AX_ellxS&_nc_ht=scontent.fdad1-2.fna&oh=69e274b018003c81d4338c57cfccfe91&oe=61C2D4AC)\n",
        "ảnh mô tả cách hoạt động cơ bản của các phương pháp collaborative filtering.\n",
        "\n",
        "- Theo đó các collaborative được chia thành 2 loại: User-based và Item-based:\n",
        "  - User-based: sẽ tính toán sự tương tự giữa các người dùng dựa trên những bộ phim họ đã xem và đánh giá, sau đó sẽ recommend cho người dùng những bộ phim mà những người tương tự với họ đã xem và đánh giá cao.\n",
        "  - Item-based: sẽ tính toán sự tương tự giữa các phim dựa trên các đánh giá, khi người dùng đã xem 1 phim và đánh giá cao, hệ thống sẽ recommend những phim tương tự phim này. \n",
        "\n",
        "- Có thể thấy rằng bài toán dự đoán rating của phim (cuộc thi Netflix prize) và bài toán dự đoán độ khó của đoạn văn bản có những nét tương đồng như: dữ liệu đều là các đánh giá từ nhiều người từ các độ tuổi khác nhau, giá trị đánh giá  đều thể hiện mức độ (yêu thích, độ khó), nên việc áp dụng phương pháp Big chaos của cuộc thi Netflix prize vào bài toán dự đoán độ khó của văn bản là hợp lý.\n",
        "\n",
        "\n",
        "- Tuy đạt độ lỗi nhỏ hơn (0.446) nhưng tác tin tưởng 2 phương pháp RigdeCV và BayesianRidgeRegression nên đã chọn phương pháp RidgeCV &  BayesianRidgeRegression làm 2 lần submit cuối cùng của tôi với điểm số cũ là   0,447.\n"
      ],
      "id": "XT45aKfiTxGo"
    },
    {
      "cell_type": "markdown",
      "metadata": {
        "id": "337c34ef"
      },
      "source": [
        "## Nhìn lại quá trình làm đồ án"
      ],
      "id": "337c34ef"
    },
    {
      "cell_type": "markdown",
      "metadata": {
        "id": "72079acf"
      },
      "source": [
        "Sau bao ngày vất vả làm đồ án thì bây giờ đã kết thúc. Bây giờ là lúc để ngồi uống coffee và tĩnh tâm nhìn lại quá trình làm.\n",
        "\n",
        "- Mỗi thành viên: Đã gặp những khó khăn gì? (Hay mọi chuyện đều thuận lợi)\n",
        "- Mỗi thành viên: Có học được gì hữu ích? (Hay không học được gì)\n",
        "- Nhóm: Nếu có thêm thời gian thì sẽ làm gì?\n",
        "\n",
        "Phần này có sao thì bạn nói vậy thôi, chứ không phải là viết\n",
        "cho có, hoặc tự chế ra để nghe cho hay."
      ],
      "id": "72079acf"
    },
    {
      "cell_type": "markdown",
      "metadata": {
        "id": "5uBBJyTuUkug"
      },
      "source": [
        "## deberta: decoding-enhanced BERT with distangled attention."
      ],
      "id": "5uBBJyTuUkug"
    },
    {
      "cell_type": "markdown",
      "metadata": {
        "id": "orQqEZIpUoE2"
      },
      "source": [
        "- deberta (DeBERTa): thực chất là mô hình BERT có sử dụng decoding-enhanced và distangled attention. Nó thể hiện tốt hơn BERT và RoBERTa ở phần lớn các tác vụ NLU (Natural language understanding).\n",
        "\n",
        "- Distangled attention: không như BERT khi mà mỗi từ trong input layer được biểu diễn sử dụng 1 vector gồm tổng các content embedding và position embedding, mỗi từ trong deberta được thể hiện sử dụng 2 vector để mã hoá nội dung và vị trí của nó, và các trọng số attention trong số các từ được tính toán sử dụng disentangled matrices dựa vào những những nội dung và vị trí của nó. Ví dụ: sự phụ thuộc giữa 2 từ \"deep\" và \"learning\" mạnh hơn nhiều so với khi 2 từ này đứng chung với các từ khác trong câu.\n",
        "\n",
        "- Enhanced mask decoder: giống như BERT, deberta được pre-trained sử dụng masked language modeling (MLM). MLM là tác vụ điền vào chỗ trống, trong đó 1 model sẽ được học để dựa vào những từ xung quanh để đoán từ còn thiếu là gì. Deberta sử dụng thông tin nội dung và vị trí cho MLM. kĩ thuật Distangled attention thực ra đã xem xét đến những nội dung của các từ và vị trí tương đối của chúng, nhưng chưa xét đến vị trí tuyệt đối, Enhance mask decoder ở đây để xem xét khía cạnh này\n",
        "    + Hãy xét ví dụ: \"a new store opened beside the new mall\" với hai từ \"store\" và \"mall\" được dự đoán. Mặc dù nghĩa cảnh của nó trong câu là tương tự, nhưng chúng đóng vai trò cú pháp khác nhau trong câu (ở đây, chủ ngữ của câu là \"store\" chứ không phải \"mall\") ==> vậy nên các sắc thái cú pháp phụ thuộc ở mức độ lớn vào vị trí tuyệt đối.\n",
        "\n"
      ],
      "id": "orQqEZIpUoE2"
    },
    {
      "cell_type": "markdown",
      "metadata": {
        "id": "4ae45e1e"
      },
      "source": [
        "## Tài liệu tham khảo"
      ],
      "id": "4ae45e1e"
    },
    {
      "cell_type": "markdown",
      "metadata": {
        "id": "9701b2bd"
      },
      "source": [
        "Để hoàn thành đồ án này, nhóm bạn đã tham khảo những tài liệu nào?"
      ],
      "id": "9701b2bd"
    }
  ]
}