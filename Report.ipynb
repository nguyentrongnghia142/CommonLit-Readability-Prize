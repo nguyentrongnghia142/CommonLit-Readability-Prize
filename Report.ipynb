{
  "nbformat": 4,
  "nbformat_minor": 5,
  "metadata": {
    "kernelspec": {
      "display_name": "Python 3 (ipykernel)",
      "language": "python",
      "name": "python3"
    },
    "language_info": {
      "codemirror_mode": {
        "name": "ipython",
        "version": 3
      },
      "file_extension": ".py",
      "mimetype": "text/x-python",
      "name": "python",
      "nbconvert_exporter": "python",
      "pygments_lexer": "ipython3",
      "version": "3.8.8"
    },
    "toc": {
      "base_numbering": 1,
      "nav_menu": {},
      "number_sections": true,
      "sideBar": true,
      "skip_h1_title": false,
      "title_cell": "Table of Contents",
      "title_sidebar": "Contents",
      "toc_cell": false,
      "toc_position": {},
      "toc_section_display": true,
      "toc_window_display": false
    },
    "colab": {
      "name": "Report.ipynb",
      "provenance": [],
      "collapsed_sections": [
        "483e6c5d",
        "hXPOK1RUX9le",
        "YZRCzUMeWKdK"
      ]
    }
  },
  "cells": [
    {
      "cell_type": "markdown",
      "metadata": {
        "id": "5b2dcf7c"
      },
      "source": [
        "# Báo cáo đồ án môn \"Khoa học dữ liệu ứng dụng\"\n",
        "\n",
        "Nhóm 4:\n",
        "1. 1712615 - Nguyễn Trọng Nghĩa - [GitHub](https://github.com/nguyentrongnghia142)\n",
        "2. 1712683 - Phạm Hoàng Phương - [Github](https://github.com/superman19993)\n",
        "3. 1712718 - Huỳnh Thanh Sang - [GitHub](https://github.com/hts7117)\n",
        "4. 1712584 - Nguyễn Công Lý - [GitHub](https://github.com/conglyne222)\n",
        "\n",
        "Link thùng chứa Github của nhóm: [Repo](https://github.com/nguyentrongnghia142/CommonLit-Readability-Prize)"
      ],
      "id": "5b2dcf7c"
    },
    {
      "cell_type": "markdown",
      "metadata": {
        "id": "2f93d974"
      },
      "source": [
        "## Mô tả bài toán\n",
        "[Bài toán](https://www.kaggle.com/c/commonlitreadabilityprize/overview)"
      ],
      "id": "2f93d974"
    },
    {
      "cell_type": "markdown",
      "metadata": {
        "id": "BBWhI03-Upio"
      },
      "source": [
        "### Sơ bộ về bài toán\n",
        "### Bối cảnh:\n",
        "\n",
        "\n",
        "* Đọc là một kỹ năng cần thiết để thành công trong học tập, Khi học sinh tiếp cận được những đoạn văn với mức độ thách thức phù hợp, chúng sẽ phát triển kỹ năng đọc một cách tự nhiên.\n",
        "\n",
        "* CommonLit là một tổ chức phi lợi nhuận phục vụ hơn 20 tr giáo viên và học sinh với các bài học đọc và viết kĩ thuật số miễn phí cho các lớp 3-12, cùng với đại học bang Georgia, một trường đại học nghiên cứu ở Atlanta, đã tổ chức 1 cuộc thi nhằm cải thiện phương pháp đánh giá khả năng đọc.\n",
        "\n",
        "### Nội dung:\n",
        "\n",
        "\n",
        "*   Trong cuộc thị này, người tham gia sẽ xây dựng các thuật toán để đánh giá mức độ phức tạp của việc đọc các đoạn văn để sử dụng trong lớp học từ lớp 3-12. Để đạt được điều này, phải kết hợp kĩ năng học máy của họ để làm việc với 1 tập dữ liệu bao gồm người đọc từ nhiều nhóm tuổi khác nhau với một số lượng lớn các văn bản thuộc nhiều lĩnh vực khác nhau.\n",
        "\n",
        "\n",
        "*   Nếu thành công, bạn đã hỗ trợ các giáo viên và sinh viên, các nhà phát triền chương trình giảng dạy đọc viết có thể đánh giá nhanh chóng và chính xác các tài liệu trong lớp học của họ. Quan trọng nhất, học sinh sẽ được hưởng lợi từ việc đánh giá độ phức tạp và khả năng đọc của họ, giúp họ cải thiện các kỹ năng đọc thiết yếu dễ dàng hơn nhiều.\n",
        "\n",
        "### Đánh giá:\n",
        "\n",
        "-\tCác bài dự thi sẽ được đánh giá dựa trên độ lỗi RMSE: \n",
        "\n",
        "    ![image.png](https://scontent.fdad1-1.fna.fbcdn.net/v/t1.15752-9/258845405_591261328774655_4260656527898854926_n.png?_nc_cat=109&ccb=1-5&_nc_sid=ae9488&_nc_ohc=JcFQuPsmYnYAX-OYyFs&_nc_ht=scontent.fdad1-1.fna&oh=491e243d6da6d57179a18d30529a8466&oe=61BF2150)\n",
        "\n",
        "\n",
        "### Submission file:\n",
        "-\tBao gồm ID và độ dễ đọc của đoạn trích:\n",
        "\n",
        "    ![image.png](https://scontent.fdad1-2.fna.fbcdn.net/v/t1.15752-9/254632714_433915911583493_5614680366254606947_n.png?_nc_cat=102&ccb=1-5&_nc_sid=ae9488&_nc_ohc=omTcknGdud8AX8hu4Fv&_nc_ht=scontent.fdad1-2.fna&oh=9ad8860d2bb51f4ab489fecd599a056d&oe=61BECC2F)\n",
        "\n",
        "\n",
        "### Dataset: \n",
        "  1. \tId:  mã id của đoạn trích (unique)\n",
        "  2.   url_legal: đường dẫn của đoạn trích- trường này có thể trống trong tập test\n",
        "  3.   license: bản quyền của đoạn trích- trường này có thể trống trong tập test\n",
        "  4.   excerpt: nội dung đoạn trích cần dự đoán độ dễ đọc\n",
        "  5.   target: độ dễ của đoạn trích (được lấy từ nhiều lĩnh vực và được nhiều người ở các độ tuổi khác nhạu đánh giá)\n",
        "  6.   standard_error: thước đo chênh lệch điểm số giữa nhiều người đánh giá cho mỗi đoạn trích. Không được bao gồm trong tập test."
      ],
      "id": "BBWhI03-Upio"
    },
    {
      "cell_type": "markdown",
      "metadata": {
        "id": "d48122eb"
      },
      "source": [
        "## Giải quyết bài toán\n",
        "[Giải pháp](https://www.kaggle.com/c/commonlitreadabilityprize/discussion/258148) - Đứng thứ 4 trong private leaderboard (🏅️ 4th Place Solution (0.447) 🏅️)"
      ],
      "id": "d48122eb"
    },
    {
      "cell_type": "markdown",
      "metadata": {
        "id": "483e6c5d"
      },
      "source": [
        "#### Lấy dữ liệu\n"
      ],
      "id": "483e6c5d"
    },
    {
      "cell_type": "code",
      "metadata": {
        "id": "zWHdWNQGsomY",
        "colab": {
          "base_uri": "https://localhost:8080/"
        },
        "outputId": "6e8436ff-f2d3-4dae-f67c-9e3dc7b7aaf5"
      },
      "source": [
        "!wget --no-check-certificate \"https://drive.google.com/uc?export=download&id=1_A5Y2u2XjFVfxVBr6flozZ-Gr0gKRaGm\" -O commonlitreadabilityprize.zip &> /dev/null\n",
        "!unzip /content/commonlitreadabilityprize.zip"
      ],
      "id": "zWHdWNQGsomY",
      "execution_count": 4,
      "outputs": [
        {
          "output_type": "stream",
          "name": "stdout",
          "text": [
            "Archive:  /content/commonlitreadabilityprize.zip\n",
            "  inflating: sample_submission.csv   \n",
            "  inflating: test.csv                \n",
            "  inflating: train.csv               \n"
          ]
        }
      ]
    },
    {
      "cell_type": "markdown",
      "metadata": {
        "id": "NKBcxZUR2q9e"
      },
      "source": [
        "#### EDA"
      ],
      "id": "NKBcxZUR2q9e"
    },
    {
      "cell_type": "code",
      "metadata": {
        "id": "Sv7xVGEs2zHl"
      },
      "source": [
        "import pandas as pd\n",
        "import matplotlib.pyplot as plt"
      ],
      "id": "Sv7xVGEs2zHl",
      "execution_count": 5,
      "outputs": []
    },
    {
      "cell_type": "code",
      "metadata": {
        "colab": {
          "base_uri": "https://localhost:8080/",
          "height": 175
        },
        "id": "m3fhqiVV3O40",
        "outputId": "09904b46-ed0e-497d-a721-598f9817405b"
      },
      "source": [
        "data_train = pd.read_csv(\"train.csv\",index_col=0)\n",
        "data_train.head(3)"
      ],
      "id": "m3fhqiVV3O40",
      "execution_count": 6,
      "outputs": [
        {
          "output_type": "execute_result",
          "data": {
            "text/html": [
              "<div>\n",
              "<style scoped>\n",
              "    .dataframe tbody tr th:only-of-type {\n",
              "        vertical-align: middle;\n",
              "    }\n",
              "\n",
              "    .dataframe tbody tr th {\n",
              "        vertical-align: top;\n",
              "    }\n",
              "\n",
              "    .dataframe thead th {\n",
              "        text-align: right;\n",
              "    }\n",
              "</style>\n",
              "<table border=\"1\" class=\"dataframe\">\n",
              "  <thead>\n",
              "    <tr style=\"text-align: right;\">\n",
              "      <th></th>\n",
              "      <th>url_legal</th>\n",
              "      <th>license</th>\n",
              "      <th>excerpt</th>\n",
              "      <th>target</th>\n",
              "      <th>standard_error</th>\n",
              "    </tr>\n",
              "    <tr>\n",
              "      <th>id</th>\n",
              "      <th></th>\n",
              "      <th></th>\n",
              "      <th></th>\n",
              "      <th></th>\n",
              "      <th></th>\n",
              "    </tr>\n",
              "  </thead>\n",
              "  <tbody>\n",
              "    <tr>\n",
              "      <th>c12129c31</th>\n",
              "      <td>NaN</td>\n",
              "      <td>NaN</td>\n",
              "      <td>When the young people returned to the ballroom...</td>\n",
              "      <td>-0.340259</td>\n",
              "      <td>0.464009</td>\n",
              "    </tr>\n",
              "    <tr>\n",
              "      <th>85aa80a4c</th>\n",
              "      <td>NaN</td>\n",
              "      <td>NaN</td>\n",
              "      <td>All through dinner time, Mrs. Fayre was somewh...</td>\n",
              "      <td>-0.315372</td>\n",
              "      <td>0.480805</td>\n",
              "    </tr>\n",
              "    <tr>\n",
              "      <th>b69ac6792</th>\n",
              "      <td>NaN</td>\n",
              "      <td>NaN</td>\n",
              "      <td>As Roger had predicted, the snow departed as q...</td>\n",
              "      <td>-0.580118</td>\n",
              "      <td>0.476676</td>\n",
              "    </tr>\n",
              "  </tbody>\n",
              "</table>\n",
              "</div>"
            ],
            "text/plain": [
              "          url_legal license  ...    target  standard_error\n",
              "id                           ...                          \n",
              "c12129c31       NaN     NaN  ... -0.340259        0.464009\n",
              "85aa80a4c       NaN     NaN  ... -0.315372        0.480805\n",
              "b69ac6792       NaN     NaN  ... -0.580118        0.476676\n",
              "\n",
              "[3 rows x 5 columns]"
            ]
          },
          "metadata": {},
          "execution_count": 6
        }
      ]
    },
    {
      "cell_type": "code",
      "metadata": {
        "colab": {
          "base_uri": "https://localhost:8080/"
        },
        "id": "fs0TE0RwOYIO",
        "outputId": "98cf39c6-5103-4bb1-c445-2521de00a6ea"
      },
      "source": [
        "data_train = data_train.dropna(axis = 1)\n",
        "data_train.shape"
      ],
      "id": "fs0TE0RwOYIO",
      "execution_count": 7,
      "outputs": [
        {
          "output_type": "execute_result",
          "data": {
            "text/plain": [
              "(2834, 3)"
            ]
          },
          "metadata": {},
          "execution_count": 7
        }
      ]
    },
    {
      "cell_type": "code",
      "metadata": {
        "colab": {
          "base_uri": "https://localhost:8080/",
          "height": 300
        },
        "id": "vyYSSTrmOO49",
        "outputId": "13f3b182-eb59-4322-a699-200c2263d7c5"
      },
      "source": [
        "data_train.describe()"
      ],
      "id": "vyYSSTrmOO49",
      "execution_count": 8,
      "outputs": [
        {
          "output_type": "execute_result",
          "data": {
            "text/html": [
              "<div>\n",
              "<style scoped>\n",
              "    .dataframe tbody tr th:only-of-type {\n",
              "        vertical-align: middle;\n",
              "    }\n",
              "\n",
              "    .dataframe tbody tr th {\n",
              "        vertical-align: top;\n",
              "    }\n",
              "\n",
              "    .dataframe thead th {\n",
              "        text-align: right;\n",
              "    }\n",
              "</style>\n",
              "<table border=\"1\" class=\"dataframe\">\n",
              "  <thead>\n",
              "    <tr style=\"text-align: right;\">\n",
              "      <th></th>\n",
              "      <th>target</th>\n",
              "      <th>standard_error</th>\n",
              "    </tr>\n",
              "  </thead>\n",
              "  <tbody>\n",
              "    <tr>\n",
              "      <th>count</th>\n",
              "      <td>2834.000000</td>\n",
              "      <td>2834.000000</td>\n",
              "    </tr>\n",
              "    <tr>\n",
              "      <th>mean</th>\n",
              "      <td>-0.959319</td>\n",
              "      <td>0.491435</td>\n",
              "    </tr>\n",
              "    <tr>\n",
              "      <th>std</th>\n",
              "      <td>1.033579</td>\n",
              "      <td>0.034818</td>\n",
              "    </tr>\n",
              "    <tr>\n",
              "      <th>min</th>\n",
              "      <td>-3.676268</td>\n",
              "      <td>0.000000</td>\n",
              "    </tr>\n",
              "    <tr>\n",
              "      <th>25%</th>\n",
              "      <td>-1.690320</td>\n",
              "      <td>0.468543</td>\n",
              "    </tr>\n",
              "    <tr>\n",
              "      <th>50%</th>\n",
              "      <td>-0.912190</td>\n",
              "      <td>0.484721</td>\n",
              "    </tr>\n",
              "    <tr>\n",
              "      <th>75%</th>\n",
              "      <td>-0.202540</td>\n",
              "      <td>0.506268</td>\n",
              "    </tr>\n",
              "    <tr>\n",
              "      <th>max</th>\n",
              "      <td>1.711390</td>\n",
              "      <td>0.649671</td>\n",
              "    </tr>\n",
              "  </tbody>\n",
              "</table>\n",
              "</div>"
            ],
            "text/plain": [
              "            target  standard_error\n",
              "count  2834.000000     2834.000000\n",
              "mean     -0.959319        0.491435\n",
              "std       1.033579        0.034818\n",
              "min      -3.676268        0.000000\n",
              "25%      -1.690320        0.468543\n",
              "50%      -0.912190        0.484721\n",
              "75%      -0.202540        0.506268\n",
              "max       1.711390        0.649671"
            ]
          },
          "metadata": {},
          "execution_count": 8
        }
      ]
    },
    {
      "cell_type": "markdown",
      "metadata": {
        "id": "xWUOvpGGnnnr"
      },
      "source": [
        "* Giá trị nhỏ nhất cột độ lệch chuẩn có giá trị 0. Nguyên nhân có thể là đoạn trích được ít người đánh giá. "
      ],
      "id": "xWUOvpGGnnnr"
    },
    {
      "cell_type": "code",
      "metadata": {
        "colab": {
          "base_uri": "https://localhost:8080/",
          "height": 369
        },
        "id": "rOziLnKyNBTI",
        "outputId": "ad33d046-b7a4-4a5b-e860-26740dd58df5"
      },
      "source": [
        "df = data_train\n",
        "n_bins = 20\n",
        "fig, axs = plt.subplots(1, figsize=(5, 5), sharey=True, tight_layout=True)\n",
        "\n",
        "axs.hist(df.target, bins=n_bins);\n",
        "# axs[1].hist(df.standard_error, bins=n_bins);"
      ],
      "id": "rOziLnKyNBTI",
      "execution_count": 9,
      "outputs": [
        {
          "output_type": "display_data",
          "data": {
            "image/png": "[encoded data removed]",
            "text/plain": [
              "<Figure size 360x360 with 1 Axes>"
            ]
          },
          "metadata": {
            "needs_background": "light"
          }
        }
      ]
    },
    {
      "cell_type": "markdown",
      "metadata": {
        "id": "vT7SLn5WV3GJ"
      },
      "source": [
        "* Nhận xét :\n",
        "  - Đa phần các đoạn text đều trong tập train đều ở mức độ khó."
      ],
      "id": "vT7SLn5WV3GJ"
    },
    {
      "cell_type": "code",
      "metadata": {
        "colab": {
          "base_uri": "https://localhost:8080/",
          "height": 369
        },
        "id": "R-dn2bLqhyYT",
        "outputId": "e921cee9-bae4-40ad-fe0a-237b9a275b5e"
      },
      "source": [
        "fig, axs = plt.subplots(1, figsize=(5, 5), sharey=True, tight_layout=True)\n",
        "\n",
        "axs.hist(df.standard_error, bins=n_bins);"
      ],
      "id": "R-dn2bLqhyYT",
      "execution_count": 10,
      "outputs": [
        {
          "output_type": "display_data",
          "data": {
            "image/png": "[encoded data removed]",
            "text/plain": [
              "<Figure size 360x360 with 1 Axes>"
            ]
          },
          "metadata": {
            "needs_background": "light"
          }
        }
      ]
    },
    {
      "cell_type": "markdown",
      "metadata": {
        "id": "ypNp4W-91FvG"
      },
      "source": [
        "* Nhận xét: Độ lệch chuẩn của các đánh giá đa phần giao động trong khoảng 0.5"
      ],
      "id": "ypNp4W-91FvG"
    },
    {
      "cell_type": "code",
      "metadata": {
        "colab": {
          "base_uri": "https://localhost:8080/",
          "height": 265
        },
        "id": "EaazXyVcVHrB",
        "outputId": "9a383d88-a2ac-4445-f2f0-6ffdef76c083"
      },
      "source": [
        "df[\"word_count\"] = df['excerpt'].str.split().apply(len)\n",
        "df[\"word_count\"].hist();"
      ],
      "id": "EaazXyVcVHrB",
      "execution_count": 11,
      "outputs": [
        {
          "output_type": "display_data",
          "data": {
            "image/png": "[encoded data removed]",
            "text/plain": [
              "<Figure size 432x288 with 1 Axes>"
            ]
          },
          "metadata": {
            "needs_background": "light"
          }
        }
      ]
    },
    {
      "cell_type": "markdown",
      "metadata": {
        "id": "JPdl7X0sm2ie"
      },
      "source": [
        "* Nhận xét: Phần lớn độ dài các đoạn trích nằm trong khoảng từ 300-400."
      ],
      "id": "JPdl7X0sm2ie"
    },
    {
      "cell_type": "code",
      "metadata": {
        "colab": {
          "base_uri": "https://localhost:8080/"
        },
        "id": "Pmlc-KxpaGSA",
        "outputId": "032dee21-8c3c-4771-df6f-4e214ee5a9ff"
      },
      "source": [
        " total = df['excerpt'].str.split().explode().value_counts().sum()\n",
        " stopwords = df['excerpt'].str.split().explode().value_counts().nlargest(50).sum()\n",
        " print(len(df['excerpt'].str.split().explode().unique()))\n",
        " print((stopwords / total) * 100)"
      ],
      "id": "Pmlc-KxpaGSA",
      "execution_count": 37,
      "outputs": [
        {
          "output_type": "stream",
          "name": "stdout",
          "text": [
            "54381\n",
            "39.02792765043419\n"
          ]
        }
      ]
    },
    {
      "cell_type": "code",
      "metadata": {
        "colab": {
          "base_uri": "https://localhost:8080/",
          "height": 450
        },
        "id": "VThN-ownaYzc",
        "outputId": "3ba09e5a-b605-4dae-e02f-c0fd72c983ff"
      },
      "source": [
        "plt.figure(figsize = (20, 6), dpi = 80)\n",
        "df['excerpt'].str.split().explode().value_counts().nlargest(50).plot.bar(rot = 0)\n",
        "plt.title(\"Tần suất của các từ trong tập huyến luyện\");"
      ],
      "id": "VThN-ownaYzc",
      "execution_count": 27,
      "outputs": [
        {
          "output_type": "display_data",
          "data": {
            "image/png": "[encoded data removed]",
            "text/plain": [
              "<Figure size 1600x480 with 1 Axes>"
            ]
          },
          "metadata": {
            "needs_background": "light"
          }
        }
      ]
    },
    {
      "cell_type": "markdown",
      "metadata": {
        "id": "PU6o_5sWd1UE"
      },
      "source": [
        "* Nhận xét: \n",
        " - Giống như mong đợi thì các từ stopwords chiếm phần lớn từ trong dữ liệu. \n",
        " - Stopword Chiếm khoảng 40% trong tổng số lượng từ"
      ],
      "id": "PU6o_5sWd1UE"
    },
    {
      "cell_type": "markdown",
      "metadata": {
        "id": "ouZ-KOTwa9_H"
      },
      "source": [
        "### Tóm tắt về giải pháp\n",
        "#### Tổng quát \n",
        "* Tác giả sử dụng kỹ thuật 5 fold CV với 5 seed khác nhau để tạo ra nhiều checkpoint khác nhau.\n",
        "* Và áp dụng với nhiều mô hình khác nhau.\n",
        "* Kết quả quả cuối cùng tác giả tổng hợp lại với 3 cách chính:\n",
        "  - RigdeCV (LOO) \n",
        "  - BayesianRidgeRegression\n",
        "  - BigChaos\n",
        "* Đồng thời áp dụng một số kĩ thuật khác như thêm các thuộc tính (flesch_reading_ease ,smog_index) , thêm AttentionBlock."
      ],
      "id": "ouZ-KOTwa9_H"
    },
    {
      "cell_type": "markdown",
      "metadata": {
        "id": "hXPOK1RUX9le"
      },
      "source": [
        "#### Thêm thuộc tính\n"
      ],
      "id": "hXPOK1RUX9le"
    },
    {
      "cell_type": "markdown",
      "metadata": {
        "id": "29tyTz7uYAs1"
      },
      "source": [
        "* flesch_reading_ease là điểm dễ đọc của đoạn trích.\n",
        "  - Công thức: \n",
        "\n",
        "    ![picture](https://readable.com/wp-content/uploads/2017/01/FLESCHREADINGEASE.png)\n",
        "\n",
        "  - Đánh giá kết quả:\n",
        "\n",
        "    ![picture](https://seodesignchicago.com/wp-content/uploads/2021/09/Flesch-Reading-Ease.png)\n",
        "* smog_index là ước lượng số năm học để đọc đoạn trích.\n",
        "  - Công thức:\n",
        "\n",
        "    ![picture](https://readable.com/wp-content/uploads/2019/01/SMOG-readability-formula-1-768x304.png)\n",
        "\n",
        "  - Ví dụ: kết quả là 9 thì học sinh lớp 9 có thể đọc đoạn trích đó."
      ],
      "id": "29tyTz7uYAs1"
    },
    {
      "cell_type": "markdown",
      "metadata": {
        "id": "YZRCzUMeWKdK"
      },
      "source": [
        "#### Phương thức tổng hợp:\n",
        " "
      ],
      "id": "YZRCzUMeWKdK"
    },
    {
      "cell_type": "markdown",
      "metadata": {
        "id": "6hQu3HXLXrtd"
      },
      "source": [
        "- RigdeCV:     \n",
        "    Xây dựng một mô hình hồi quy có kết hợp kỹ thuật CV \n",
        "- BayesianRidgeRegression: \n",
        "\n",
        "    BayesianRidge xây dựng hồi quy tuyến tính sử dụng phân phối xác suất thay vì ước lượng điểm.\n",
        "\n",
        "    RidgeRegression là một kỹ thuật để phân tích dữ liệu hồi quy nhiều lần. \n",
        "\n",
        "    Một trong những loại Hồi quy Bayesian hiệu quả là Bayesian Ridge Regression, ước tính mô hình xác suất cho các bài toán hồi quy.\n",
        "\n",
        "    LOOCV là một phương pháp Cross Validation: Chia tập dữ liệu thành K tập con (K = số dữ liệu). Quá trình học của máy có K lần. Mỗi lần, 1 tập con được dùng để kiểm tra và K-1 tập con còn lại được dùng để huấn luyện.\n",
        "- Bigchaos:    \n",
        "    Big chaos solution là một phương pháp Collaborative filtering đã được áp dụng trong bài toán Recommender system.\n",
        "\n",
        "    ![image.png](https://scontent.fdad1-2.fna.fbcdn.net/v/t1.15752-9/257430565_582013389559613_5705009368260678979_n.png?_nc_cat=102&ccb=1-5&_nc_sid=ae9488&_nc_ohc=YNARF7N0gU8AX_ellxS&_nc_ht=scontent.fdad1-2.fna&oh=69e274b018003c81d4338c57cfccfe91&oe=61C2D4AC)\n",
        "    Trong đó thuật toán sẽ dự đoán ratings của những bộ phim mà người dùng chưa xem, các phim có điểm ratings cao sẽ được recommend cho người dùng.\n",
        "    Tuy đạt độ lỗi nhỏ hơn (0.446) nhưng tác tin tưởng 2 phương pháp RigdeCV và BayesianRidgeRegression nên đã chọn phương pháp RidgeCV &  BayesianRidgeRegression làm 2 lần submit cuối cùng của tôi với điểm số cũ là   0,447.\n"
      ],
      "id": "6hQu3HXLXrtd"
    },
    {
      "cell_type": "markdown",
      "metadata": {
        "id": "dsIaJ45aYmJ9"
      },
      "source": [
        "#### Thực nghiệm"
      ],
      "id": "dsIaJ45aYmJ9"
    },
    {
      "cell_type": "markdown",
      "metadata": {
        "id": "8U0zOCln1ZOW"
      },
      "source": [
        "## Nhìn lại quá trình làm đồ án"
      ],
      "id": "8U0zOCln1ZOW"
    },
    {
      "cell_type": "markdown",
      "metadata": {
        "id": "72079acf"
      },
      "source": [
        "Sau bao ngày vất vả làm đồ án thì bây giờ đã kết thúc. Bây giờ là lúc để ngồi uống coffee và tĩnh tâm nhìn lại quá trình làm.\n",
        "\n",
        "- Mỗi thành viên: Đã gặp những khó khăn gì? (Hay mọi chuyện đều thuận lợi)\n",
        "- Mỗi thành viên: Có học được gì hữu ích? (Hay không học được gì)\n",
        "- Nhóm: Nếu có thêm thời gian thì sẽ làm gì?\n",
        "\n",
        "Phần này có sao thì bạn nói vậy thôi, chứ không phải là viết\n",
        "cho có, hoặc tự chế ra để nghe cho hay."
      ],
      "id": "72079acf"
    },
    {
      "cell_type": "markdown",
      "metadata": {
        "id": "4ae45e1e"
      },
      "source": [
        "## Tài liệu tham khảo"
      ],
      "id": "4ae45e1e"
    },
    {
      "cell_type": "markdown",
      "metadata": {
        "id": "9701b2bd"
      },
      "source": [
        "Để hoàn thành đồ án này, nhóm bạn đã tham khảo những tài liệu nào?"
      ],
      "id": "9701b2bd"
    }
  ]
}